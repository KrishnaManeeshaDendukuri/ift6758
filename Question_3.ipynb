{
 "cells": [
  {
   "cell_type": "markdown",
   "id": "182fbb0e",
   "metadata": {},
   "source": [
    "# 3. Interactive Debugging tool"
   ]
  },
  {
   "cell_type": "markdown",
   "id": "ac8ad90a",
   "metadata": {},
   "source": [
    "Objective: This section of the project deals with a code implementing interactive widgets to perform the following two tasks  "
   ]
  },
  {
   "cell_type": "markdown",
   "id": "2ee63242",
   "metadata": {},
   "source": [
    "1. Allows the users to select a game using a slider object and print the match summary ie., team names, number of golas by each team and the winner of the match"
   ]
  },
  {
   "cell_type": "markdown",
   "id": "1d3b98f8",
   "metadata": {},
   "source": [
    "2. Allows the user to select any game with it's ID, aceess all the goal/Shot events of that selected game to siplay the position of the punk on the rink."
   ]
  },
  {
   "cell_type": "markdown",
   "id": "f50ff732",
   "metadata": {},
   "source": [
    "Refer to ift6758/data/question_2_4.py for functions used to import the data.\n",
    "\n",
    "This takes a while to run, so run it only once, save output as csv and import the csv for future uses"
   ]
  },
  {
   "cell_type": "code",
   "execution_count": 11,
   "id": "b9e7be98",
   "metadata": {},
   "outputs": [],
   "source": [
    "import json"
   ]
  },
  {
   "cell_type": "code",
   "execution_count": 21,
   "id": "3418c047",
   "metadata": {},
   "outputs": [
    {
     "name": "stdout",
     "output_type": "stream",
     "text": [
      "finished 2018 season\n",
      "finished 2019 season\n"
     ]
    }
   ],
   "source": [
    "df = tidy_df_loop()"
   ]
  },
  {
   "cell_type": "code",
   "execution_count": 22,
   "id": "d81fb0b6",
   "metadata": {},
   "outputs": [],
   "source": [
    "df.to_csv('tidy_df.csv')"
   ]
  },
  {
   "cell_type": "code",
   "execution_count": 23,
   "id": "611a0cec",
   "metadata": {},
   "outputs": [],
   "source": [
    "import pandas as pd\n",
    "df = pd.read_csv('tidy_df.csv')"
   ]
  },
  {
   "cell_type": "code",
   "execution_count": 24,
   "id": "d4921166",
   "metadata": {},
   "outputs": [],
   "source": [
    "import ipywidgets as widgets\n",
    "from ipywidgets import interactive"
   ]
  },
  {
   "cell_type": "code",
   "execution_count": 25,
   "id": "5d6e1f56",
   "metadata": {},
   "outputs": [],
   "source": [
    "import importlib\n",
    "import matplotlib.pyplot as plt"
   ]
  },
  {
   "cell_type": "markdown",
   "id": "ac6cea83",
   "metadata": {},
   "source": [
    "Code for match summary"
   ]
  },
  {
   "cell_type": "code",
   "execution_count": 215,
   "id": "e621a36c",
   "metadata": {},
   "outputs": [
    {
     "data": {
      "application/vnd.jupyter.widget-view+json": {
       "model_id": "473327c91a984619b023ecd14f2b0acb",
       "version_major": 2,
       "version_minor": 0
      },
      "text/plain": [
       "interactive(children=(SelectionSlider(description='Game_ID', options=(2018020001, 2018020002, 2018020003, 2018…"
      ]
     },
     "metadata": {},
     "output_type": "display_data"
    }
   ],
   "source": [
    "df['game_id_numeric'] = pd.to_numeric(df['game_id'])\n",
    "list_game_id = df['game_id_numeric'].unique().tolist()\n",
    "\n",
    "def Game_ID(val):\n",
    "    match_summary =[]\n",
    "    match_summary_col = ['Home Team','Home Team Score','Home Team Attempts','Away Team','Away Team Score','Away Team Attempts','Winner']\n",
    "    count = 0\n",
    "    with open(f'{data_folder_path}{val}.json','r') as f:\n",
    "        data_Q3 = json.load(f)\n",
    "        df_Q3 = pd.DataFrame(data_Q3)\n",
    "        \n",
    "    if df_Q3['liveData']['linescore']['hasShootout'] is not True:\n",
    "        Home_Team = df_Q3['gameData']['teams']['home']['name']\n",
    "        Away_Team = df_Q3['gameData']['teams']['away']['name']\n",
    "        Home_Team_Score = df_Q3['liveData']['linescore']['teams']['home']['goals']\n",
    "        Home_Team_Attempts = df_Q3['liveData']['linescore']['teams']['home']['shotsOnGoal']\n",
    "        Away_Team_Score = df_Q3['liveData']['linescore']['teams']['away']['goals']\n",
    "        Away_Team_Attempts = df_Q3['liveData']['linescore']['teams']['away']['shotsOnGoal']\n",
    "        if Home_Team_Score > Away_Team_Score:\n",
    "            winner = Home_Team\n",
    "        else:\n",
    "            winner = Away_Team\n",
    "        match_summary.append([Home_Team,Home_Team_Score,Home_Team_Attempts,Away_Team,Away_Team_Score,Away_Team_Attempts,winner])\n",
    "        match_summary = pd.DataFrame(match_summary, columns = match_summary_col)\n",
    "        print(\"Game summary of \",val,\" between\",Home_Team,\" and \",Away_Team)\n",
    "\n",
    "        return(match_summary)\n",
    "    \n",
    "\n",
    "Game_ID = widgets.interact(Game_ID, val=widgets.SelectionSlider(description='Game_ID',options=list_game_id))\n"
   ]
  },
  {
   "cell_type": "markdown",
   "id": "19d824c8",
   "metadata": {},
   "source": [
    "This portion of the code allows the users to toggle between all games (seasons 2016 thru 2020) either a regular season game or a play-off match and access all shot/goal events of the corresponding games to display the punk position on the rink. "
   ]
  },
  {
   "cell_type": "code",
   "execution_count": 101,
   "id": "7eac07a2",
   "metadata": {},
   "outputs": [],
   "source": [
    "img_folder_path = 'C:\\\\Users\\\\chait\\\\OneDrive\\\\Documents\\\\School\\\\IFT_6758\\\\2.Project\\\\Milestone1\\\\ift6758\\\\ift6758-project-template-main\\\\figures\\\\'"
   ]
  },
  {
   "cell_type": "code",
   "execution_count": 216,
   "id": "396e4862",
   "metadata": {},
   "outputs": [
    {
     "data": {
      "application/vnd.jupyter.widget-view+json": {
       "model_id": "ab108dc3ce4f45c49ffefbbc257c5a32",
       "version_major": 2,
       "version_minor": 0
      },
      "text/plain": [
       "interactive(children=(SelectionSlider(description='Game_ID', options=(2018020001, 2018020002, 2018020003, 2018…"
      ]
     },
     "metadata": {},
     "output_type": "display_data"
    }
   ],
   "source": [
    "# Game id is argumented in this function\n",
    "\n",
    "df['game_id_numeric'] = pd.to_numeric(df['game_id'])\n",
    "list_game_id = df['game_id_numeric'].unique().tolist()\n",
    "\n",
    "def Game_ID(var):\n",
    "    global cnt\n",
    "    global list_Event_Id\n",
    "    global check, display\n",
    "    check = var\n",
    "    cnt = -1\n",
    "    list_Event_Id = []\n",
    "    with open(f'{data_folder_path}{var}.json','r') as f:\n",
    "        data = json.load(f)\n",
    "        df = pd.DataFrame(data)\n",
    "        for i in df['liveData']['plays']['allPlays']:\n",
    "                if i['result']['event'] == 'Shot' or i['result']['event'] == 'Goal':\n",
    "                    cnt += 1\n",
    "                    list_Event_Id.append(i['about']['eventIdx']) \n",
    "x = widgets.interact(Game_ID, var=widgets.SelectionSlider(description='Game_ID',options=list_game_id))\n"
   ]
  },
  {
   "cell_type": "code",
   "execution_count": 217,
   "id": "56bfa42d",
   "metadata": {},
   "outputs": [
    {
     "data": {
      "application/vnd.jupyter.widget-view+json": {
       "model_id": "9440b95731cc485b887584839424f8c5",
       "version_major": 2,
       "version_minor": 0
      },
      "text/plain": [
       "interactive(children=(SelectionSlider(description='Event_ID', options=(7, 14, 15, 16, 22, 27, 30, 36, 39, 41, …"
      ]
     },
     "metadata": {},
     "output_type": "display_data"
    }
   ],
   "source": [
    "#Event id (Shot/Goal) is argumented for a selected game to locate punk on rink \n",
    "\n",
    "def Event_ID(val):\n",
    "    global temp\n",
    "    temp = val\n",
    "    df_group = df.loc[df['game_id'] == check]\n",
    "    df_group = df_group.loc[df['event_id'] == temp]\n",
    "    player=df_group['attacking_player'].tolist()\n",
    "    team=df_group['attacking_team'].tolist()\n",
    "    period=df_group['period'].tolist()\n",
    "    type=df_group['shot_type'].tolist()\n",
    "    \n",
    "    img = plt.imread(f'{img_folder_path}nhl_rink.png') \n",
    "    fig = plt.figure(figsize=(35,15))\n",
    "    fig.suptitle(f'Game {check}:{type[0]} by {player[0]} of {team[0]} in period {period[0]}',fontsize=25,y=.95)\n",
    "    ax1 = fig.add_subplot(1,1,1)\n",
    "    ax1.tick_params(labelsize=25)\n",
    "    ax1.imshow(img,extent=[-100,100,-42.5,42.5])\n",
    "    ax1.plot(df_group['x_coordinates'],df_group['y_coordinates'],'b.',markersize=50)\n",
    "    ax1.set_title(\"Shot Locator\",fontsize=30)\n",
    "    ax1.set_xlim(-100,100)\n",
    "    ax1.set_ylim(-42.5,42.5)\n",
    "    \n",
    "y = widgets.interact(Event_ID, val=widgets.SelectionSlider(description='Event_ID',options=list_Event_Id))"
   ]
  }
 ],
 "metadata": {
  "kernelspec": {
   "display_name": "Python 3",
   "language": "python",
   "name": "python3"
  },
  "language_info": {
   "codemirror_mode": {
    "name": "ipython",
    "version": 3
   },
   "file_extension": ".py",
   "mimetype": "text/x-python",
   "name": "python",
   "nbconvert_exporter": "python",
   "pygments_lexer": "ipython3",
   "version": "3.8.8"
  }
 },
 "nbformat": 4,
 "nbformat_minor": 5
}
