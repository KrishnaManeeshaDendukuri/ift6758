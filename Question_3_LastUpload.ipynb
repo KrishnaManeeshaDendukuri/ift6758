{
 "cells": [
  {
   "cell_type": "markdown",
   "id": "984ad4dd",
   "metadata": {},
   "source": [
    "# 3. Interactive Debugging tool"
   ]
  },
  {
   "cell_type": "markdown",
   "id": "3bdc1e4b",
   "metadata": {},
   "source": [
    "Objective: This section of the project deals with a code implementing interactive widgets to perform the following tasks  "
   ]
  },
  {
   "cell_type": "markdown",
   "id": "ab54eb13",
   "metadata": {},
   "source": [
    "1. Allows the users to select a game using a slider object and print the match summary ie., team names, number of golas by each team and the winner of the match"
   ]
  },
  {
   "cell_type": "markdown",
   "id": "abcc6731",
   "metadata": {},
   "source": [
    "2. Allows the user to select any game with it's ID, aceess all the goal/Shot events of that selected game to siplay the position of the punk on the rink."
   ]
  },
  {
   "cell_type": "markdown",
   "id": "6c938530",
   "metadata": {},
   "source": [
    "3. Allows the user to input an year, toggle between a regular and a play-off season, select a home and an away country to display the match summary."
   ]
  },
  {
   "cell_type": "markdown",
   "id": "b2902405",
   "metadata": {},
   "source": [
    "Refer to ift6758/data/question_2_4.py for functions used to import the data.\n",
    "\n",
    "This takes a while to run, so run it only once, save output as csv and import the csv for future uses"
   ]
  },
  {
   "cell_type": "code",
   "execution_count": 302,
   "id": "495fd0e4",
   "metadata": {},
   "outputs": [],
   "source": [
    "import json"
   ]
  },
  {
   "cell_type": "code",
   "execution_count": 224,
   "id": "5a27a381",
   "metadata": {},
   "outputs": [
    {
     "name": "stdout",
     "output_type": "stream",
     "text": [
      "finished 2016 season\n",
      "finished 2017 season\n",
      "finished 2018 season\n",
      "finished 2019 season\n",
      "finished 2020 season\n"
     ]
    }
   ],
   "source": [
    "df = tidy_df_loop()"
   ]
  },
  {
   "cell_type": "code",
   "execution_count": 225,
   "id": "3db838b0",
   "metadata": {},
   "outputs": [],
   "source": [
    "df.to_csv('tidy_df.csv')"
   ]
  },
  {
   "cell_type": "code",
   "execution_count": 226,
   "id": "285787a6",
   "metadata": {},
   "outputs": [],
   "source": [
    "import pandas as pd\n",
    "df = pd.read_csv('tidy_df.csv')"
   ]
  },
  {
   "cell_type": "code",
   "execution_count": 4,
   "id": "f7c5ae90",
   "metadata": {},
   "outputs": [],
   "source": [
    "import ipywidgets as widgets\n",
    "from ipywidgets import interactive\n",
    "from IPython.display import display"
   ]
  },
  {
   "cell_type": "code",
   "execution_count": 5,
   "id": "a5580fff",
   "metadata": {},
   "outputs": [],
   "source": [
    "import importlib\n",
    "import matplotlib.pyplot as plt"
   ]
  },
  {
   "cell_type": "markdown",
   "id": "03094c0d",
   "metadata": {},
   "source": [
    "Code for match summary"
   ]
  },
  {
   "cell_type": "code",
   "execution_count": 11,
   "id": "9b517a4b",
   "metadata": {},
   "outputs": [
    {
     "data": {
      "application/vnd.jupyter.widget-view+json": {
       "model_id": "64af56ab1ae447dd93522adca3efca58",
       "version_major": 2,
       "version_minor": 0
      },
      "text/plain": [
       "interactive(children=(SelectionSlider(description='Game_ID', options=(2016020001, 2016020002, 2016020003, 2016…"
      ]
     },
     "metadata": {},
     "output_type": "display_data"
    }
   ],
   "source": [
    "df['game_id_numeric'] = pd.to_numeric(df['game_id'])\n",
    "list_game_id = df['game_id_numeric'].unique().tolist()\n",
    "\n",
    "def Game_ID(val):\n",
    "    match_summary =[]\n",
    "    match_summary_col = ['Home Team','Home Team Score','Home Team Attempts','Away Team','Away Team Score','Away Team Attempts','Winner']\n",
    "    count = 0\n",
    "    with open(f'{data_folder_path}{val}.json','r') as f:\n",
    "        data_Q3 = json.load(f)\n",
    "        df_Q3 = pd.DataFrame(data_Q3)\n",
    "        \n",
    "    if df_Q3['liveData']['linescore']['hasShootout'] is not True:\n",
    "        Home_Team = df_Q3['gameData']['teams']['home']['name']\n",
    "        Away_Team = df_Q3['gameData']['teams']['away']['name']\n",
    "        Home_Team_Score = df_Q3['liveData']['linescore']['teams']['home']['goals']\n",
    "        Home_Team_Attempts = df_Q3['liveData']['linescore']['teams']['home']['shotsOnGoal']\n",
    "        Away_Team_Score = df_Q3['liveData']['linescore']['teams']['away']['goals']\n",
    "        Away_Team_Attempts = df_Q3['liveData']['linescore']['teams']['away']['shotsOnGoal']\n",
    "        if Home_Team_Score > Away_Team_Score:\n",
    "            winner = Home_Team\n",
    "        else:\n",
    "            winner = Away_Team\n",
    "        match_summary.append([Home_Team,Home_Team_Score,Home_Team_Attempts,Away_Team,Away_Team_Score,Away_Team_Attempts,winner])\n",
    "        match_summary = pd.DataFrame(match_summary, columns = match_summary_col)\n",
    "        print(\"Game summary of \",val,\" between\",Home_Team,\" and \",Away_Team)\n",
    "\n",
    "        return(match_summary)\n",
    "    \n",
    "\n",
    "Game_ID = widgets.interact(Game_ID, val=widgets.SelectionSlider(description='Game_ID',options=list_game_id))\n"
   ]
  },
  {
   "cell_type": "markdown",
   "id": "9101c516",
   "metadata": {},
   "source": [
    "This portion of the code allows the users to toggle between all games (seasons 2016 thru 2020) either a regular season game or a play-off match and access all shot/goal events of the corresponding games to display the punk position on the rink. "
   ]
  },
  {
   "cell_type": "code",
   "execution_count": 12,
   "id": "a7eca2de",
   "metadata": {},
   "outputs": [],
   "source": [
    "img_folder_path = 'C:\\\\Users\\\\chait\\\\OneDrive\\\\Documents\\\\School\\\\IFT_6758\\\\2.Project\\\\Milestone1\\\\ift6758\\\\ift6758-project-template-main\\\\figures\\\\'"
   ]
  },
  {
   "cell_type": "code",
   "execution_count": 13,
   "id": "24f497f3",
   "metadata": {},
   "outputs": [
    {
     "data": {
      "application/vnd.jupyter.widget-view+json": {
       "model_id": "65c65c4b4f0045d3a5491c0689f01e09",
       "version_major": 2,
       "version_minor": 0
      },
      "text/plain": [
       "interactive(children=(SelectionSlider(description='Game_ID', options=(2016020001, 2016020002, 2016020003, 2016…"
      ]
     },
     "metadata": {},
     "output_type": "display_data"
    }
   ],
   "source": [
    "# Game id is argumented in this function\n",
    "\n",
    "df['game_id_numeric'] = pd.to_numeric(df['game_id'])\n",
    "list_game_id = df['game_id_numeric'].unique().tolist()\n",
    "\n",
    "def Game_ID(var):\n",
    "    global cnt\n",
    "    global list_Event_Id\n",
    "    global check, display\n",
    "    check = var\n",
    "    cnt = -1\n",
    "    list_Event_Id = []\n",
    "    with open(f'{data_folder_path}{var}.json','r') as f:\n",
    "        data = json.load(f)\n",
    "        df = pd.DataFrame(data)\n",
    "        for i in df['liveData']['plays']['allPlays']:\n",
    "                if i['result']['event'] == 'Shot' or i['result']['event'] == 'Goal':\n",
    "                    cnt += 1\n",
    "                    list_Event_Id.append(i['about']['eventIdx']) \n",
    "x = widgets.interact(Game_ID, var=widgets.SelectionSlider(description='Game_ID',options=list_game_id))\n"
   ]
  },
  {
   "cell_type": "code",
   "execution_count": 14,
   "id": "b8219575",
   "metadata": {},
   "outputs": [
    {
     "data": {
      "application/vnd.jupyter.widget-view+json": {
       "model_id": "122880410720419096d7fcf172cff9cb",
       "version_major": 2,
       "version_minor": 0
      },
      "text/plain": [
       "interactive(children=(SelectionSlider(description='Event_ID', options=(6, 26, 28, 29, 38, 40, 41, 42, 53, 61, …"
      ]
     },
     "metadata": {},
     "output_type": "display_data"
    }
   ],
   "source": [
    "#Event id (Shot/Goal) is argumented for a selected game to locate punk on rink \n",
    "\n",
    "def Event_ID(val):\n",
    "    global temp\n",
    "    temp = val\n",
    "    df_group = df.loc[df['game_id'] == check]\n",
    "    df_group = df_group.loc[df['event_id'] == temp]\n",
    "    player=df_group['attacking_player'].tolist()\n",
    "    team=df_group['attacking_team'].tolist()\n",
    "    period=df_group['period'].tolist()\n",
    "    type=df_group['shot_type'].tolist()\n",
    "    \n",
    "    img = plt.imread(f'{img_folder_path}nhl_rink.png') \n",
    "    fig = plt.figure(figsize=(35,15))\n",
    "    fig.suptitle(f'Game {check}:{type[0]} by {player[0]} of {team[0]} in period {period[0]}',fontsize=25,y=.95)\n",
    "    ax1 = fig.add_subplot(1,1,1)\n",
    "    ax1.tick_params(labelsize=25)\n",
    "    ax1.imshow(img,extent=[-100,100,-42.5,42.5])\n",
    "    ax1.plot(df_group['x_coordinates'],df_group['y_coordinates'],'b.',markersize=50)\n",
    "    ax1.set_title(\"Shot Locator\",fontsize=30)\n",
    "    ax1.set_xlim(-100,100)\n",
    "    ax1.set_ylim(-42.5,42.5)\n",
    "    \n",
    "y = widgets.interact(Event_ID, val=widgets.SelectionSlider(description='Event_ID',options=list_Event_Id))"
   ]
  },
  {
   "cell_type": "code",
   "execution_count": 15,
   "id": "123d8776",
   "metadata": {
    "scrolled": true
   },
   "outputs": [
    {
     "data": {
      "application/vnd.jupyter.widget-view+json": {
       "model_id": "d0fbfde2823a4f02a78dbb36e7bdea0e",
       "version_major": 2,
       "version_minor": 0
      },
      "text/plain": [
       "IntSlider(value=2017, continuous_update=False, description='Year', max=2020, min=2016)"
      ]
     },
     "metadata": {},
     "output_type": "display_data"
    },
    {
     "data": {
      "application/vnd.jupyter.widget-view+json": {
       "model_id": "577b7c9e965e4f01aa1043f9ff1320f4",
       "version_major": 2,
       "version_minor": 0
      },
      "text/plain": [
       "RadioButtons(description='Season:', options=('Regular', 'Playoffs'), value='Regular')"
      ]
     },
     "metadata": {},
     "output_type": "display_data"
    }
   ],
   "source": [
    "#Game year selection\n",
    "\n",
    "year = widgets.IntSlider(\n",
    "    value=2017,\n",
    "    min=2016,\n",
    "    max=2020,\n",
    "    step=1,\n",
    "    description='Year',\n",
    "    disabled=False,\n",
    "    continuous_update=False,\n",
    "    orientation='horizontal',\n",
    "    readout=True,\n",
    "    readout_format='d'\n",
    ")\n",
    "display(year)\n",
    "\n",
    "\n",
    "# Switch between regular season and play-offs\n",
    "\n",
    "game_type = widgets.RadioButtons(\n",
    "    options=['Regular', 'Playoffs'],\n",
    "    description='Season:',\n",
    "    disabled=False\n",
    ")\n",
    "display(game_type)"
   ]
  },
  {
   "cell_type": "code",
   "execution_count": 18,
   "id": "d7a8b744",
   "metadata": {},
   "outputs": [],
   "source": [
    "# List teams based on a regular season and play-off season\n",
    "\n",
    "if game_type.value==\"Regular\":\n",
    "    k = \"R\"\n",
    "elif game_type.value==\"Playoffs\":\n",
    "    k = \"P\"\n",
    "\n",
    "df_group1 = df.groupby('season')\n",
    "df_group2 = df_group1.get_group((year.value*10000+(year.value+1)))\n",
    "df_group3 = df_group2.groupby('season_type')\n",
    "df_group4 = df_group3.get_group(k)\n",
    "\n",
    "home_team_list_R = df_group2['home_team'].unique().tolist()\n",
    "away_team_list_R = df_group2['away_team'].unique().tolist()\n",
    "\n",
    "home_team_list_P = df_group4['home_team'].unique().tolist()\n",
    "away_team_list_P = df_group4['away_team'].unique().tolist()\n",
    "\n",
    "if game_type.value==\"Regular\":\n",
    "    home_team_list = home_team_list_R\n",
    "    away_team_list = away_team_list_R\n",
    "elif game_type.value==\"Playoffs\":\n",
    "    home_team_list = home_team_list_P\n",
    "    away_team_list = away_team_list_P\n",
    "\n",
    "# Function to print game summary\n",
    "\n",
    "def match_summary(games_av):\n",
    "    match_summary =[]\n",
    "    match_summary_col = ['Home Team','Home Team Score','Home Team Attempts','Away Team','Away Team Score','Away Team Attempts','Winner']\n",
    "    count = 0\n",
    "    with open(f'{data_folder_path}{games_av.value}.json','r') as f:\n",
    "        data_Q3 = json.load(f)\n",
    "        df_Q3 = pd.DataFrame(data_Q3)\n",
    "        if df_Q3['liveData']['linescore']['hasShootout'] is not True:\n",
    "            Home_Team = df_Q3['gameData']['teams']['home']['name']\n",
    "            Away_Team = df_Q3['gameData']['teams']['away']['name']\n",
    "            Home_Team_Score = df_Q3['liveData']['linescore']['teams']['home']['goals']\n",
    "            Home_Team_Attempts = df_Q3['liveData']['linescore']['teams']['home']['shotsOnGoal']\n",
    "            Away_Team_Score = df_Q3['liveData']['linescore']['teams']['away']['goals']\n",
    "            Away_Team_Attempts = df_Q3['liveData']['linescore']['teams']['away']['shotsOnGoal']\n",
    "            if Home_Team_Score > Away_Team_Score:\n",
    "                winner = Home_Team\n",
    "            else:\n",
    "                winner = Away_Team\n",
    "            match_summary.append([Home_Team,Home_Team_Score,Home_Team_Attempts,Away_Team,Away_Team_Score,Away_Team_Attempts,winner])\n",
    "            \n",
    "\n",
    "            match_summary = pd.DataFrame(match_summary, columns = match_summary_col)\n",
    "\n",
    "    print(match_summary)\n",
    "    \n"
   ]
  },
  {
   "cell_type": "code",
   "execution_count": 19,
   "id": "369cf1a3",
   "metadata": {},
   "outputs": [
    {
     "data": {
      "application/vnd.jupyter.widget-view+json": {
       "model_id": "688ae9be86504ef29c8fb8672ab638f9",
       "version_major": 2,
       "version_minor": 0
      },
      "text/plain": [
       "HBox(children=(Dropdown(description='Home Team:   ', options=('Pittsburgh Penguins', 'New York Islanders', 'Wa…"
      ]
     },
     "metadata": {},
     "output_type": "display_data"
    }
   ],
   "source": [
    "# Home team selection from pull-dowm menu\n",
    "\n",
    "Home_team = widgets.Dropdown(\n",
    "    description='Home Team:   ',\n",
    "    value=home_team_list[0],\n",
    "    options=home_team_list\n",
    "\n",
    ")\n",
    "\n",
    "# Away team selection from pull-dowm menu\n",
    "\n",
    "Away_team = widgets.Dropdown(\n",
    "    description='Away Team:   ',\n",
    "    value=away_team_list[0],\n",
    "    options=away_team_list\n",
    "\n",
    ")\n",
    "\n",
    "container2 = widgets.HBox(children=[Home_team, Away_team])\n",
    "container2"
   ]
  },
  {
   "cell_type": "code",
   "execution_count": 24,
   "id": "0154a3a0",
   "metadata": {},
   "outputs": [
    {
     "name": "stdout",
     "output_type": "stream",
     "text": [
      "No Play-off games played between Colorado Avalanche and Florida Panthers in 20202021 season\n"
     ]
    }
   ],
   "source": [
    "def validate():\n",
    "    if Home_team.value in df['home_team'].unique() and Away_team.value in df['away_team'].unique():\n",
    "        if Home_team.value != Away_team.value:\n",
    "            return True      \n",
    "    else:\n",
    "        return False\n",
    "    \n",
    "# Function that filters the games played between a selected home team and an away team\n",
    "\n",
    "def games_list():\n",
    "    if validate():\n",
    "        global cnt\n",
    "        match_list = []\n",
    "        cnt = 0\n",
    "        df_group1 = df.groupby('season')\n",
    "        df_group2 = df_group1.get_group((year.value*10000+(year.value+1)))\n",
    "        df_group3 = df_group2.groupby('season_type')\n",
    "        df_group4 = df_group3.get_group(k)\n",
    "        \n",
    "        for index, row in df_group4.iterrows():\n",
    "            if df_group4['home_team'][index] == Home_team.value and df_group4['away_team'][index] == Away_team.value:\n",
    "                cnt += 1\n",
    "                match_list.append(df_group4['game_id'][index])\n",
    "                \n",
    "        match_list_all = match_list               # to find unique game ids\n",
    "        match_list_temp = []\n",
    "        for i in match_list_all:\n",
    "            if i not in match_list_temp:\n",
    "                match_list_temp.append(i)\n",
    "                        \n",
    "        if cnt == 0:\n",
    "            if k == \"P\":\n",
    "                print(f'No Play-off games played between {Home_team.value} and {Away_team.value} in {(year.value*10000+(year.value+1))} season')\n",
    "            elif k == \"R\":\n",
    "                print(\"Error in Code\")\n",
    "        elif cnt > 0:\n",
    "            games_list = match_list_temp\n",
    "            \n",
    "            \n",
    "            selected_game = widgets.Dropdown(\n",
    "                description='Avaibale Games:   ',\n",
    "                value=match_list_temp[0],\n",
    "            options=match_list_temp\n",
    "            )\n",
    "            display(selected_game)\n",
    "            \n",
    "            \n",
    "            return selected_game\n",
    "        \n",
    "games_av = games_list()"
   ]
  },
  {
   "cell_type": "code",
   "execution_count": 25,
   "id": "c9403b35",
   "metadata": {},
   "outputs": [],
   "source": [
    "if cnt > 0:\n",
    "    match_summary(games_av)"
   ]
  }
 ],
 "metadata": {
  "kernelspec": {
   "display_name": "Python 3",
   "language": "python",
   "name": "python3"
  },
  "language_info": {
   "codemirror_mode": {
    "name": "ipython",
    "version": 3
   },
   "file_extension": ".py",
   "mimetype": "text/x-python",
   "name": "python",
   "nbconvert_exporter": "python",
   "pygments_lexer": "ipython3",
   "version": "3.8.8"
  }
 },
 "nbformat": 4,
 "nbformat_minor": 5
}
