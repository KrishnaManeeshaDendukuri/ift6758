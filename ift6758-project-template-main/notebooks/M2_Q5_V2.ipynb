{
 "cells": [
  {
   "cell_type": "code",
   "execution_count": 4,
   "id": "2a7d0b01",
   "metadata": {
    "execution": {
     "iopub.execute_input": "2021-11-23T19:39:38.431272Z",
     "iopub.status.busy": "2021-11-23T19:39:38.430545Z",
     "iopub.status.idle": "2021-11-23T19:39:38.432992Z",
     "shell.execute_reply": "2021-11-23T19:39:38.432580Z",
     "shell.execute_reply.started": "2021-11-23T18:37:48.500325Z"
    },
    "papermill": {
     "duration": 0.06299,
     "end_time": "2021-11-23T19:39:38.433102",
     "exception": false,
     "start_time": "2021-11-23T19:39:38.370112",
     "status": "completed"
    },
    "tags": []
   },
   "outputs": [
    {
     "name": "stdout",
     "output_type": "stream",
     "text": [
      "Requirement already satisfied: comet-ml in c:\\users\\chait\\anaconda3\\lib\\site-packages (3.22.1)\n",
      "Requirement already satisfied: wurlitzer>=1.0.2 in c:\\users\\chait\\anaconda3\\lib\\site-packages (from comet-ml) (3.0.2)\n",
      "Requirement already satisfied: dulwich>=0.20.6 in c:\\users\\chait\\anaconda3\\lib\\site-packages (from comet-ml) (0.20.26)\n",
      "Requirement already satisfied: jsonschema!=3.1.0,>=2.6.0 in c:\\users\\chait\\anaconda3\\lib\\site-packages (from comet-ml) (3.2.0)\n",
      "Requirement already satisfied: requests>=2.18.4 in c:\\users\\chait\\anaconda3\\lib\\site-packages (from comet-ml) (2.25.1)\n",
      "Requirement already satisfied: wrapt>=1.11.2 in c:\\users\\chait\\anaconda3\\lib\\site-packages (from comet-ml) (1.12.1)\n",
      "Requirement already satisfied: nvidia-ml-py3>=7.352.0 in c:\\users\\chait\\anaconda3\\lib\\site-packages (from comet-ml) (7.352.0)\n",
      "Requirement already satisfied: semantic-version>=2.8.0 in c:\\users\\chait\\anaconda3\\lib\\site-packages (from comet-ml) (2.8.5)\n",
      "Requirement already satisfied: requests-toolbelt>=0.8.0 in c:\\users\\chait\\anaconda3\\lib\\site-packages (from comet-ml) (0.9.1)\n",
      "Requirement already satisfied: websocket-client>=0.55.0 in c:\\users\\chait\\anaconda3\\lib\\site-packages (from comet-ml) (1.2.1)\n",
      "Requirement already satisfied: everett[ini]>=1.0.1 in c:\\users\\chait\\anaconda3\\lib\\site-packages (from comet-ml) (2.0.1)\n",
      "Requirement already satisfied: six in c:\\users\\chait\\anaconda3\\lib\\site-packages (from comet-ml) (1.15.0)\n",
      "Requirement already satisfied: certifi in c:\\users\\chait\\anaconda3\\lib\\site-packages (from dulwich>=0.20.6->comet-ml) (2020.12.5)\n",
      "Requirement already satisfied: urllib3>=1.24.1 in c:\\users\\chait\\anaconda3\\lib\\site-packages (from dulwich>=0.20.6->comet-ml) (1.26.4)\n",
      "Requirement already satisfied: configobj in c:\\users\\chait\\anaconda3\\lib\\site-packages (from everett[ini]>=1.0.1->comet-ml) (5.0.6)\n",
      "Requirement already satisfied: setuptools in c:\\users\\chait\\anaconda3\\lib\\site-packages (from jsonschema!=3.1.0,>=2.6.0->comet-ml) (52.0.0.post20210125)\n",
      "Requirement already satisfied: pyrsistent>=0.14.0 in c:\\users\\chait\\anaconda3\\lib\\site-packages (from jsonschema!=3.1.0,>=2.6.0->comet-ml) (0.17.3)\n",
      "Requirement already satisfied: attrs>=17.4.0 in c:\\users\\chait\\anaconda3\\lib\\site-packages (from jsonschema!=3.1.0,>=2.6.0->comet-ml) (20.3.0)\n",
      "Requirement already satisfied: idna<3,>=2.5 in c:\\users\\chait\\anaconda3\\lib\\site-packages (from requests>=2.18.4->comet-ml) (2.10)\n",
      "Requirement already satisfied: chardet<5,>=3.0.2 in c:\\users\\chait\\anaconda3\\lib\\site-packages (from requests>=2.18.4->comet-ml) (4.0.0)\n"
     ]
    }
   ],
   "source": [
    "!pip install comet-ml"
   ]
  },
  {
   "cell_type": "code",
   "execution_count": 5,
   "id": "2131cd12",
   "metadata": {
    "execution": {
     "iopub.execute_input": "2021-11-23T19:39:38.601910Z",
     "iopub.status.busy": "2021-11-23T19:39:38.600252Z",
     "iopub.status.idle": "2021-11-23T19:39:38.602566Z",
     "shell.execute_reply": "2021-11-23T19:39:38.602982Z",
     "shell.execute_reply.started": "2021-11-23T18:37:48.842065Z"
    },
    "papermill": {
     "duration": 0.064348,
     "end_time": "2021-11-23T19:39:38.603110",
     "exception": false,
     "start_time": "2021-11-23T19:39:38.538762",
     "status": "completed"
    },
    "tags": []
   },
   "outputs": [
    {
     "name": "stdout",
     "output_type": "stream",
     "text": [
      "Collecting shap\n",
      "  Downloading shap-0.40.0-cp38-cp38-win_amd64.whl (431 kB)\n",
      "Requirement already satisfied: numba in c:\\users\\chait\\anaconda3\\lib\\site-packages (from shap) (0.53.1)\n",
      "Requirement already satisfied: tqdm>4.25.0 in c:\\users\\chait\\anaconda3\\lib\\site-packages (from shap) (4.59.0)\n",
      "Requirement already satisfied: scipy in c:\\users\\chait\\anaconda3\\lib\\site-packages (from shap) (1.6.2)\n",
      "Requirement already satisfied: cloudpickle in c:\\users\\chait\\anaconda3\\lib\\site-packages (from shap) (1.6.0)\n",
      "Requirement already satisfied: numpy in c:\\users\\chait\\anaconda3\\lib\\site-packages (from shap) (1.20.1)\n",
      "Requirement already satisfied: pandas in c:\\users\\chait\\anaconda3\\lib\\site-packages (from shap) (1.2.4)\n",
      "Collecting slicer==0.0.7\n",
      "  Downloading slicer-0.0.7-py3-none-any.whl (14 kB)\n",
      "Requirement already satisfied: scikit-learn in c:\\users\\chait\\anaconda3\\lib\\site-packages (from shap) (1.0.1)\n",
      "Collecting packaging>20.9\n",
      "  Downloading packaging-21.3-py3-none-any.whl (40 kB)\n",
      "Requirement already satisfied: pyparsing!=3.0.5,>=2.0.2 in c:\\users\\chait\\anaconda3\\lib\\site-packages (from packaging>20.9->shap) (2.4.7)\n",
      "Requirement already satisfied: llvmlite<0.37,>=0.36.0rc1 in c:\\users\\chait\\anaconda3\\lib\\site-packages (from numba->shap) (0.36.0)\n",
      "Requirement already satisfied: setuptools in c:\\users\\chait\\anaconda3\\lib\\site-packages (from numba->shap) (52.0.0.post20210125)\n",
      "Requirement already satisfied: pytz>=2017.3 in c:\\users\\chait\\anaconda3\\lib\\site-packages (from pandas->shap) (2021.1)\n",
      "Requirement already satisfied: python-dateutil>=2.7.3 in c:\\users\\chait\\anaconda3\\lib\\site-packages (from pandas->shap) (2.8.1)\n",
      "Requirement already satisfied: six>=1.5 in c:\\users\\chait\\anaconda3\\lib\\site-packages (from python-dateutil>=2.7.3->pandas->shap) (1.15.0)\n",
      "Requirement already satisfied: joblib>=0.11 in c:\\users\\chait\\anaconda3\\lib\\site-packages (from scikit-learn->shap) (1.0.1)\n",
      "Requirement already satisfied: threadpoolctl>=2.0.0 in c:\\users\\chait\\anaconda3\\lib\\site-packages (from scikit-learn->shap) (2.1.0)\n",
      "Installing collected packages: slicer, packaging, shap\n",
      "  Attempting uninstall: packaging\n",
      "    Found existing installation: packaging 20.9\n",
      "    Uninstalling packaging-20.9:\n",
      "      Successfully uninstalled packaging-20.9\n",
      "Successfully installed packaging-21.3 shap-0.40.0 slicer-0.0.7\n"
     ]
    }
   ],
   "source": [
    "!pip install shap"
   ]
  },
  {
   "cell_type": "code",
   "execution_count": 6,
   "id": "f4ceb755",
   "metadata": {},
   "outputs": [
    {
     "name": "stdout",
     "output_type": "stream",
     "text": [
      "Collecting package metadata (current_repodata.json): ...working... done\n",
      "Solving environment: ...working... done\n",
      "\n",
      "## Package Plan ##\n",
      "\n",
      "  environment location: C:\\Users\\chait\\anaconda3\n",
      "\n",
      "  added / updated specs:\n",
      "    - py-xgboost\n",
      "\n",
      "\n",
      "The following packages will be downloaded:\n",
      "\n",
      "    package                    |            build\n",
      "    ---------------------------|-----------------\n",
      "    _py-xgboost-mutex-2.0      |            cpu_0          12 KB  anaconda\n",
      "    conda-4.10.3               |   py38haa95532_0         2.9 MB\n",
      "    libxgboost-1.3.3           |       hd77b12b_0         1.3 MB\n",
      "    py-xgboost-1.3.3           |   py38haa95532_0         139 KB\n",
      "    ------------------------------------------------------------\n",
      "                                           Total:         4.3 MB\n",
      "\n",
      "The following NEW packages will be INSTALLED:\n",
      "\n",
      "  _py-xgboost-mutex  anaconda/win-64::_py-xgboost-mutex-2.0-cpu_0\n",
      "  libxgboost         pkgs/main/win-64::libxgboost-1.3.3-hd77b12b_0\n",
      "  py-xgboost         pkgs/main/win-64::py-xgboost-1.3.3-py38haa95532_0\n",
      "\n",
      "The following packages will be UPDATED:\n",
      "\n",
      "  conda                               4.10.1-py38haa95532_1 --> 4.10.3-py38haa95532_0\n",
      "\n",
      "\n",
      "\n",
      "Downloading and Extracting Packages\n",
      "\n",
      "conda-4.10.3         | 2.9 MB    |            |   0% \n",
      "conda-4.10.3         | 2.9 MB    |            |   1% \n",
      "conda-4.10.3         | 2.9 MB    | 1          |   2% \n",
      "conda-4.10.3         | 2.9 MB    | 6          |   7% \n",
      "conda-4.10.3         | 2.9 MB    | 8          |   9% \n",
      "conda-4.10.3         | 2.9 MB    | #6         |  16% \n",
      "conda-4.10.3         | 2.9 MB    | #9         |  20% \n",
      "conda-4.10.3         | 2.9 MB    | ###5       |  35% \n",
      "conda-4.10.3         | 2.9 MB    | ###9       |  40% \n",
      "conda-4.10.3         | 2.9 MB    | #####1     |  51% \n",
      "conda-4.10.3         | 2.9 MB    | #####7     |  57% \n",
      "conda-4.10.3         | 2.9 MB    | ######2    |  63% \n",
      "conda-4.10.3         | 2.9 MB    | ######8    |  68% \n",
      "conda-4.10.3         | 2.9 MB    | ########1  |  82% \n",
      "conda-4.10.3         | 2.9 MB    | ########8  |  88% \n",
      "conda-4.10.3         | 2.9 MB    | #########9 | 100% \n",
      "conda-4.10.3         | 2.9 MB    | ########## | 100% \n",
      "\n",
      "libxgboost-1.3.3     | 1.3 MB    |            |   0% \n",
      "libxgboost-1.3.3     | 1.3 MB    | 1          |   1% \n",
      "libxgboost-1.3.3     | 1.3 MB    | #7         |  17% \n",
      "libxgboost-1.3.3     | 1.3 MB    | ###1       |  32% \n",
      "libxgboost-1.3.3     | 1.3 MB    | ####7      |  48% \n",
      "libxgboost-1.3.3     | 1.3 MB    | ######3    |  64% \n",
      "libxgboost-1.3.3     | 1.3 MB    | #######8   |  78% \n",
      "libxgboost-1.3.3     | 1.3 MB    | #########2 |  93% \n",
      "libxgboost-1.3.3     | 1.3 MB    | ########## | 100% \n",
      "\n",
      "_py-xgboost-mutex-2. | 12 KB     |            |   0% \n",
      "_py-xgboost-mutex-2. | 12 KB     | ########## | 100% \n",
      "_py-xgboost-mutex-2. | 12 KB     | ########## | 100% \n",
      "\n",
      "py-xgboost-1.3.3     | 139 KB    |            |   0% \n",
      "py-xgboost-1.3.3     | 139 KB    | ####5      |  46% \n",
      "py-xgboost-1.3.3     | 139 KB    | ########## | 100% \n",
      "py-xgboost-1.3.3     | 139 KB    | ########## | 100% \n",
      "Preparing transaction: ...working... done\n",
      "Verifying transaction: ...working... done\n",
      "Executing transaction: ...working... done\n",
      "\n",
      "Note: you may need to restart the kernel to use updated packages.\n"
     ]
    }
   ],
   "source": [
    "conda install -c anaconda py-xgboost"
   ]
  },
  {
   "cell_type": "markdown",
   "id": "1565506f",
   "metadata": {
    "papermill": {
     "duration": 0.057283,
     "end_time": "2021-11-23T19:39:38.717653",
     "exception": false,
     "start_time": "2021-11-23T19:39:38.660370",
     "status": "completed"
    },
    "tags": []
   },
   "source": [
    "# Imports"
   ]
  },
  {
   "cell_type": "code",
   "execution_count": 10,
   "id": "7501f5b1",
   "metadata": {
    "execution": {
     "iopub.execute_input": "2021-11-23T19:39:38.838218Z",
     "iopub.status.busy": "2021-11-23T19:39:38.837452Z",
     "iopub.status.idle": "2021-11-23T19:39:40.952399Z",
     "shell.execute_reply": "2021-11-23T19:39:40.951875Z",
     "shell.execute_reply.started": "2021-11-23T19:39:15.290670Z"
    },
    "papermill": {
     "duration": 2.17694,
     "end_time": "2021-11-23T19:39:40.952554",
     "exception": false,
     "start_time": "2021-11-23T19:39:38.775614",
     "status": "completed"
    },
    "tags": []
   },
   "outputs": [],
   "source": [
    "# Import before anyone else\n",
    "\n",
    "# import comet_ml\n",
    "from comet_ml import Experiment\n",
    "\n",
    "import xgboost as xgb\n",
    "from xgboost import XGBClassifier\n",
    "from sklearn import metrics\n",
    "from sklearn.metrics import accuracy_score\n",
    "from sklearn.model_selection import train_test_split\n",
    "import shap\n",
    "\n",
    "import math\n",
    "import pandas as pd\n",
    "import numpy as np\n",
    "from matplotlib import pyplot as plt\n",
    "\n",
    "from collections import Counter"
   ]
  },
  {
   "cell_type": "markdown",
   "id": "9efc0cfb",
   "metadata": {
    "papermill": {
     "duration": 0.097071,
     "end_time": "2021-11-23T19:39:41.109024",
     "exception": false,
     "start_time": "2021-11-23T19:39:41.011953",
     "status": "completed"
    },
    "tags": []
   },
   "source": [
    "# Load Data"
   ]
  },
  {
   "cell_type": "code",
   "execution_count": 8,
   "id": "d84d23e6",
   "metadata": {
    "execution": {
     "iopub.execute_input": "2021-11-23T19:39:41.318842Z",
     "iopub.status.busy": "2021-11-23T19:39:41.317921Z",
     "iopub.status.idle": "2021-11-23T19:39:43.656616Z",
     "shell.execute_reply": "2021-11-23T19:39:43.657101Z",
     "shell.execute_reply.started": "2021-11-23T18:37:53.652080Z"
    },
    "papermill": {
     "duration": 2.437446,
     "end_time": "2021-11-23T19:39:43.657257",
     "exception": false,
     "start_time": "2021-11-23T19:39:41.219811",
     "status": "completed"
    },
    "tags": []
   },
   "outputs": [
    {
     "name": "stdout",
     "output_type": "stream",
     "text": [
      "Index(['game_id', 'season', 'season_type', 'event_id', 'home_team',\n",
      "       'away_team', 'home_team_side_1st_period', 'attacking_team',\n",
      "       'attacking_player', 'goalie', 'period', 'period_time', 'goal_ind',\n",
      "       'shot_ind', 'x_coordinates', 'y_coordinates', 'shot_type', 'empty_net',\n",
      "       'strength', 'gwg', 'distance_from_net', 'attacking_team_side'],\n",
      "      dtype='object')\n"
     ]
    }
   ],
   "source": [
    "df = pd.read_csv(r'C:\\Users\\chait\\OneDrive\\Documents\\School\\IFT_6758\\2.Project\\Milestone2_Draft\\data_phase2/tidy_df.csv', index_col = None)\n",
    "print(df.columns)\n",
    "# df.drop(columns = ['Unnamed: 0', 'Unnamed: 0.1'], inplace = True)\n",
    "\n"
   ]
  },
  {
   "cell_type": "markdown",
   "id": "204949a0",
   "metadata": {},
   "source": [
    "# New Added Features (Q2)"
   ]
  },
  {
   "cell_type": "code",
   "execution_count": 11,
   "id": "8ad883b1",
   "metadata": {},
   "outputs": [
    {
     "data": {
      "text/html": [
       "<div>\n",
       "<style scoped>\n",
       "    .dataframe tbody tr th:only-of-type {\n",
       "        vertical-align: middle;\n",
       "    }\n",
       "\n",
       "    .dataframe tbody tr th {\n",
       "        vertical-align: top;\n",
       "    }\n",
       "\n",
       "    .dataframe thead th {\n",
       "        text-align: right;\n",
       "    }\n",
       "</style>\n",
       "<table border=\"1\" class=\"dataframe\">\n",
       "  <thead>\n",
       "    <tr style=\"text-align: right;\">\n",
       "      <th></th>\n",
       "      <th>game_id</th>\n",
       "      <th>season</th>\n",
       "      <th>season_type</th>\n",
       "      <th>event_id</th>\n",
       "      <th>home_team</th>\n",
       "      <th>away_team</th>\n",
       "      <th>home_team_side_1st_period</th>\n",
       "      <th>attacking_team</th>\n",
       "      <th>attacking_player</th>\n",
       "      <th>goalie</th>\n",
       "      <th>...</th>\n",
       "      <th>shot_ind</th>\n",
       "      <th>x_coordinates</th>\n",
       "      <th>y_coordinates</th>\n",
       "      <th>shot_type</th>\n",
       "      <th>empty_net</th>\n",
       "      <th>strength</th>\n",
       "      <th>gwg</th>\n",
       "      <th>distance_from_net</th>\n",
       "      <th>attacking_team_side</th>\n",
       "      <th>angle_from_net</th>\n",
       "    </tr>\n",
       "  </thead>\n",
       "  <tbody>\n",
       "    <tr>\n",
       "      <th>0</th>\n",
       "      <td>2015020001</td>\n",
       "      <td>20152016</td>\n",
       "      <td>R</td>\n",
       "      <td>7</td>\n",
       "      <td>Toronto Maple Leafs</td>\n",
       "      <td>Montréal Canadiens</td>\n",
       "      <td>right</td>\n",
       "      <td>Toronto Maple Leafs</td>\n",
       "      <td>Brad Boyes</td>\n",
       "      <td>Carey Price</td>\n",
       "      <td>...</td>\n",
       "      <td>1</td>\n",
       "      <td>-55.0</td>\n",
       "      <td>6.0</td>\n",
       "      <td>Wrist Shot</td>\n",
       "      <td>NaN</td>\n",
       "      <td>NaN</td>\n",
       "      <td>NaN</td>\n",
       "      <td>34.525353</td>\n",
       "      <td>right</td>\n",
       "      <td>-10.007980</td>\n",
       "    </tr>\n",
       "    <tr>\n",
       "      <th>1</th>\n",
       "      <td>2015020001</td>\n",
       "      <td>20152016</td>\n",
       "      <td>R</td>\n",
       "      <td>9</td>\n",
       "      <td>Toronto Maple Leafs</td>\n",
       "      <td>Montréal Canadiens</td>\n",
       "      <td>right</td>\n",
       "      <td>Toronto Maple Leafs</td>\n",
       "      <td>Nazem Kadri</td>\n",
       "      <td>Carey Price</td>\n",
       "      <td>...</td>\n",
       "      <td>1</td>\n",
       "      <td>-79.0</td>\n",
       "      <td>0.0</td>\n",
       "      <td>Snap Shot</td>\n",
       "      <td>NaN</td>\n",
       "      <td>NaN</td>\n",
       "      <td>NaN</td>\n",
       "      <td>10.000000</td>\n",
       "      <td>right</td>\n",
       "      <td>0.000000</td>\n",
       "    </tr>\n",
       "    <tr>\n",
       "      <th>2</th>\n",
       "      <td>2015020001</td>\n",
       "      <td>20152016</td>\n",
       "      <td>R</td>\n",
       "      <td>10</td>\n",
       "      <td>Toronto Maple Leafs</td>\n",
       "      <td>Montréal Canadiens</td>\n",
       "      <td>right</td>\n",
       "      <td>Toronto Maple Leafs</td>\n",
       "      <td>Nazem Kadri</td>\n",
       "      <td>Carey Price</td>\n",
       "      <td>...</td>\n",
       "      <td>1</td>\n",
       "      <td>-75.0</td>\n",
       "      <td>-1.0</td>\n",
       "      <td>Snap Shot</td>\n",
       "      <td>NaN</td>\n",
       "      <td>NaN</td>\n",
       "      <td>NaN</td>\n",
       "      <td>14.035669</td>\n",
       "      <td>right</td>\n",
       "      <td>4.085617</td>\n",
       "    </tr>\n",
       "    <tr>\n",
       "      <th>3</th>\n",
       "      <td>2015020001</td>\n",
       "      <td>20152016</td>\n",
       "      <td>R</td>\n",
       "      <td>13</td>\n",
       "      <td>Toronto Maple Leafs</td>\n",
       "      <td>Montréal Canadiens</td>\n",
       "      <td>right</td>\n",
       "      <td>Toronto Maple Leafs</td>\n",
       "      <td>Daniel Winnik</td>\n",
       "      <td>Carey Price</td>\n",
       "      <td>...</td>\n",
       "      <td>1</td>\n",
       "      <td>-55.0</td>\n",
       "      <td>-36.0</td>\n",
       "      <td>Wrist Shot</td>\n",
       "      <td>NaN</td>\n",
       "      <td>NaN</td>\n",
       "      <td>NaN</td>\n",
       "      <td>49.517674</td>\n",
       "      <td>right</td>\n",
       "      <td>46.636577</td>\n",
       "    </tr>\n",
       "    <tr>\n",
       "      <th>4</th>\n",
       "      <td>2015020001</td>\n",
       "      <td>20152016</td>\n",
       "      <td>R</td>\n",
       "      <td>21</td>\n",
       "      <td>Toronto Maple Leafs</td>\n",
       "      <td>Montréal Canadiens</td>\n",
       "      <td>right</td>\n",
       "      <td>Toronto Maple Leafs</td>\n",
       "      <td>Joffrey Lupul</td>\n",
       "      <td>Carey Price</td>\n",
       "      <td>...</td>\n",
       "      <td>1</td>\n",
       "      <td>-61.0</td>\n",
       "      <td>-1.0</td>\n",
       "      <td>Tip-In</td>\n",
       "      <td>NaN</td>\n",
       "      <td>NaN</td>\n",
       "      <td>NaN</td>\n",
       "      <td>28.017851</td>\n",
       "      <td>right</td>\n",
       "      <td>2.045408</td>\n",
       "    </tr>\n",
       "  </tbody>\n",
       "</table>\n",
       "<p>5 rows × 23 columns</p>\n",
       "</div>"
      ],
      "text/plain": [
       "      game_id    season season_type  event_id            home_team  \\\n",
       "0  2015020001  20152016           R         7  Toronto Maple Leafs   \n",
       "1  2015020001  20152016           R         9  Toronto Maple Leafs   \n",
       "2  2015020001  20152016           R        10  Toronto Maple Leafs   \n",
       "3  2015020001  20152016           R        13  Toronto Maple Leafs   \n",
       "4  2015020001  20152016           R        21  Toronto Maple Leafs   \n",
       "\n",
       "            away_team home_team_side_1st_period       attacking_team  \\\n",
       "0  Montréal Canadiens                     right  Toronto Maple Leafs   \n",
       "1  Montréal Canadiens                     right  Toronto Maple Leafs   \n",
       "2  Montréal Canadiens                     right  Toronto Maple Leafs   \n",
       "3  Montréal Canadiens                     right  Toronto Maple Leafs   \n",
       "4  Montréal Canadiens                     right  Toronto Maple Leafs   \n",
       "\n",
       "  attacking_player       goalie  ...  shot_ind x_coordinates  y_coordinates  \\\n",
       "0       Brad Boyes  Carey Price  ...         1         -55.0            6.0   \n",
       "1      Nazem Kadri  Carey Price  ...         1         -79.0            0.0   \n",
       "2      Nazem Kadri  Carey Price  ...         1         -75.0           -1.0   \n",
       "3    Daniel Winnik  Carey Price  ...         1         -55.0          -36.0   \n",
       "4    Joffrey Lupul  Carey Price  ...         1         -61.0           -1.0   \n",
       "\n",
       "    shot_type  empty_net  strength  gwg distance_from_net attacking_team_side  \\\n",
       "0  Wrist Shot        NaN       NaN  NaN         34.525353               right   \n",
       "1   Snap Shot        NaN       NaN  NaN         10.000000               right   \n",
       "2   Snap Shot        NaN       NaN  NaN         14.035669               right   \n",
       "3  Wrist Shot        NaN       NaN  NaN         49.517674               right   \n",
       "4      Tip-In        NaN       NaN  NaN         28.017851               right   \n",
       "\n",
       "  angle_from_net  \n",
       "0     -10.007980  \n",
       "1       0.000000  \n",
       "2       4.085617  \n",
       "3      46.636577  \n",
       "4       2.045408  \n",
       "\n",
       "[5 rows x 23 columns]"
      ]
     },
     "execution_count": 11,
     "metadata": {},
     "output_type": "execute_result"
    }
   ],
   "source": [
    "\n",
    "# Angle of the shot added to the dataframe\n",
    "list_angle = []\n",
    "for i in range(0,df.shape[0]):\n",
    "    if df['attacking_team_side'][i] == \"right\":\n",
    "        if df.y_coordinates[i] == 0:\n",
    "            list_angle.append(0)\n",
    "        else:\n",
    "            list_angle.append(np.arcsin(df.y_coordinates[i]/df.distance_from_net[i])*-180/math.pi)\n",
    "            \n",
    "    elif df['attacking_team_side'][i] == \"left\":\n",
    "        if df.y_coordinates[i] == 0:\n",
    "            list_angle.append(0)\n",
    "        else:\n",
    "            list_angle.append(np.arcsin(df.y_coordinates[i]/df.distance_from_net[i])*180/math.pi)\n",
    "df['angle_from_net'] = list_angle\n",
    "\n",
    "df.head()"
   ]
  },
  {
   "cell_type": "markdown",
   "id": "43451299",
   "metadata": {
    "papermill": {
     "duration": 0.058708,
     "end_time": "2021-11-23T19:39:43.775697",
     "exception": false,
     "start_time": "2021-11-23T19:39:43.716989",
     "status": "completed"
    },
    "tags": []
   },
   "source": [
    "# New Added Features (Q4)"
   ]
  },
  {
   "cell_type": "code",
   "execution_count": 24,
   "id": "2536f3eb",
   "metadata": {
    "execution": {
     "iopub.execute_input": "2021-11-23T19:39:43.913662Z",
     "iopub.status.busy": "2021-11-23T19:39:43.912712Z",
     "iopub.status.idle": "2021-11-23T19:39:43.914928Z",
     "shell.execute_reply": "2021-11-23T19:39:43.915315Z",
     "shell.execute_reply.started": "2021-11-23T18:37:58.131441Z"
    },
    "papermill": {
     "duration": 0.081594,
     "end_time": "2021-11-23T19:39:43.915480",
     "exception": false,
     "start_time": "2021-11-23T19:39:43.833886",
     "status": "completed"
    },
    "tags": []
   },
   "outputs": [],
   "source": [
    "import pandas as pd\n",
    "import numpy as np\n",
    "import math\n",
    "import os\n",
    "\n",
    "data = \"C:\\\\Users\\\\chait\\\\OneDrive\\\\Documents\\\\School\\\\IFT_6758\\\\2.Project\\\\Milestone2_Draft\\\\Delivery\\\\tidy_df_M2.csv\"\n",
    "#data = df\n",
    "\n",
    "def get_df(data):\n",
    "    df = pd.read_csv(data)\n",
    "#    df = data\n",
    "    return df"
   ]
  },
  {
   "cell_type": "code",
   "execution_count": 25,
   "id": "67b185a4",
   "metadata": {
    "execution": {
     "iopub.execute_input": "2021-11-23T19:39:43.913662Z",
     "iopub.status.busy": "2021-11-23T19:39:43.912712Z",
     "iopub.status.idle": "2021-11-23T19:39:43.914928Z",
     "shell.execute_reply": "2021-11-23T19:39:43.915315Z",
     "shell.execute_reply.started": "2021-11-23T18:37:58.131441Z"
    },
    "papermill": {
     "duration": 0.081594,
     "end_time": "2021-11-23T19:39:43.915480",
     "exception": false,
     "start_time": "2021-11-23T19:39:43.833886",
     "status": "completed"
    },
    "tags": []
   },
   "outputs": [],
   "source": [
    "def get_new_features():\n",
    "    df = get_df(data)\n",
    "    \n",
    "    list_angle = []\n",
    "    for i in range(0,df.shape[0]):\n",
    "        if df['attacking_team_side'][i] == \"right\":\n",
    "            if df.y_coordinates[i] == 0:\n",
    "                list_angle.append(0)\n",
    "            else:\n",
    "                list_angle.append(np.arcsin(df.y_coordinates[i]/df.distance_from_net[i])*-180/math.pi)\n",
    "\n",
    "        elif df['attacking_team_side'][i] == \"left\":\n",
    "            if df.y_coordinates[i] == 0:\n",
    "                list_angle.append(0)\n",
    "            else:\n",
    "                list_angle.append(np.arcsin(df.y_coordinates[i]/df.distance_from_net[i])*180/math.pi)\n",
    "    df['angle_from_net'] = list_angle\n",
    "    \n",
    "    df['game_seconds'] = df['period_time']\n",
    "    df1 = df['game_seconds'].str.split(':',expand=True).astype(int)\n",
    "    df['game_seconds'] = df1[0]*60+df1[1]\n",
    "    df['game_seconds'] = ((df['period']-1)*(60*20) + df['game_seconds'])\n",
    "    df['previous_event_game_seconds'] = df['previous_event_period_time']\n",
    "    df2 = df['previous_event_game_seconds'].str.split(':',expand=True).astype(int)\n",
    "    df['previous_event_game_seconds'] = df2[0]*60+df2[1]\n",
    "    df['previous_event_game_seconds'] = ((df['previous_event_period']-1)*(60*20) + df['previous_event_game_seconds'])\n",
    "    df['time_since_last_event'] = df['game_seconds']-df['previous_event_game_seconds']\n",
    "    df['distance_from_last_event'] = np.sqrt((df['x_coordinates'] - df['previous_event_x_coordinates'])**2 + (df['y_coordinates'] - df['previous_event_y_coordinates'])**2)\n",
    "    df['distance_from_last_event'] = df['distance_from_last_event'].round(decimals=2)\n",
    "    df['distance_from_net'] = df['distance_from_net'].round(decimals=2)\n",
    "    rebound = np.empty(len(df.index),dtype=bool)\n",
    "    for index, row in df.iterrows():\n",
    "        if row['previous_event_type']=='Shot':\n",
    "            rebound[index]=True\n",
    "        else:\n",
    "            rebound[index]=False\n",
    "    df['rebound'] = rebound.tolist()\n",
    "    df['speed'] = (df['distance_from_last_event']/df['time_since_last_event']).round(decimals=2)\n",
    "    \n",
    "    print(df.columns)\n",
    "    return df"
   ]
  },
  {
   "cell_type": "code",
   "execution_count": 26,
   "id": "8ff6d14b",
   "metadata": {},
   "outputs": [
    {
     "name": "stdout",
     "output_type": "stream",
     "text": [
      "Index(['game_id', 'season', 'season_type', 'event_id', 'home_team',\n",
      "       'away_team', 'home_team_side_1st_period', 'attacking_team',\n",
      "       'attacking_player', 'goalie', 'period', 'period_time', 'goal_ind',\n",
      "       'shot_ind', 'x_coordinates', 'y_coordinates', 'shot_type', 'empty_net',\n",
      "       'strength', 'gwg', 'previous_event_x_coordinates',\n",
      "       'previous_event_y_coordinates', 'previous_event_period_time',\n",
      "       'previous_event_type', 'previous_event_period', 'home_players',\n",
      "       'away_players', 'distance_from_net', 'attacking_team_side',\n",
      "       'angle_from_net', 'game_seconds', 'previous_event_game_seconds',\n",
      "       'time_since_last_event', 'distance_from_last_event', 'rebound',\n",
      "       'speed'],\n",
      "      dtype='object')\n"
     ]
    }
   ],
   "source": [
    "df = get_new_features()"
   ]
  },
  {
   "cell_type": "code",
   "execution_count": 27,
   "id": "e532c048",
   "metadata": {
    "execution": {
     "iopub.execute_input": "2021-11-23T19:39:44.040984Z",
     "iopub.status.busy": "2021-11-23T19:39:44.039945Z",
     "iopub.status.idle": "2021-11-23T19:40:31.982042Z",
     "shell.execute_reply": "2021-11-23T19:40:31.981019Z",
     "shell.execute_reply.started": "2021-11-23T18:37:59.395527Z"
    },
    "papermill": {
     "duration": 48.008619,
     "end_time": "2021-11-23T19:40:31.982204",
     "exception": false,
     "start_time": "2021-11-23T19:39:43.973585",
     "status": "completed"
    },
    "tags": []
   },
   "outputs": [],
   "source": [
    "def get_angle_change(df):\n",
    "#    df = get_df(data)\n",
    "    list_angle = []\n",
    "    for index, row in df.iterrows():\n",
    "        if row['previous_event_type']=='Shot':\n",
    "            if df.attacking_team_side[index] == \"right\":\n",
    "                if df.previous_event_y_coordinates[index] == 0:\n",
    "                    list_angle.append(np.absolute(df.angle_from_net[index]))\n",
    "                else:\n",
    "                    distance_from_net = np.sqrt(df.previous_event_y_coordinates[index]**2+(89+df.previous_event_x_coordinates[index])**2)\n",
    "                    angle = np.arcsin(df.previous_event_y_coordinates[index]/distance_from_net)*-180/math.pi\n",
    "                    sign = np.sign([angle,df.angle_from_net[index]])\n",
    "                    change_in_angle = 0\n",
    "                    if sign[0]!=sign[1]:\n",
    "                        change_in_angle = np.absolute(angle) + np.absolute(df.angle_from_net[index])\n",
    "                    else:\n",
    "                        change_in_angle = np.absolute(angle-df.angle_from_net[index])\n",
    "                    list_angle.append(change_in_angle)\n",
    "                    \n",
    "            if df.attacking_team_side[index] == \"left\":\n",
    "                if df.previous_event_y_coordinates[index] == 0:\n",
    "                    list_angle.append(np.absolute(df.angle_from_net[index]))\n",
    "                else:\n",
    "                    distance_from_net = np.sqrt(df.previous_event_y_coordinates[index]**2+(89-df.previous_event_x_coordinates[index])**2)\n",
    "                    angle = np.arcsin(df.previous_event_y_coordinates[index]/distance_from_net)*180/math.pi\n",
    "                    sign = np.sign([angle,df.angle_from_net[index]])\n",
    "                    change_in_angle = 0\n",
    "                    if sign[0]!=sign[1]:\n",
    "                        change_in_angle = np.absolute(angle) + np.absolute(df.angle_from_net[index])\n",
    "                    else:\n",
    "                        change_in_angle = np.absolute(angle-df.angle_from_net[index])\n",
    "                    list_angle.append(change_in_angle)  \n",
    "        else:\n",
    "            list_angle.append(0)\n",
    "            \n",
    "       \n",
    "    df['change_in_angle'] = list_angle\n",
    "    df['change_in_angle'] = df['change_in_angle'].round(decimals=2)\n",
    "    \n",
    "    return df\n"
   ]
  },
  {
   "cell_type": "code",
   "execution_count": 28,
   "id": "ae37d468",
   "metadata": {},
   "outputs": [],
   "source": [
    "df = get_angle_change(df)"
   ]
  },
  {
   "cell_type": "code",
   "execution_count": 29,
   "id": "218666c4",
   "metadata": {},
   "outputs": [
    {
     "data": {
      "text/plain": [
       "Index(['game_id', 'season', 'season_type', 'event_id', 'home_team',\n",
       "       'away_team', 'home_team_side_1st_period', 'attacking_team',\n",
       "       'attacking_player', 'goalie', 'period', 'period_time', 'goal_ind',\n",
       "       'shot_ind', 'x_coordinates', 'y_coordinates', 'shot_type', 'empty_net',\n",
       "       'strength', 'gwg', 'previous_event_x_coordinates',\n",
       "       'previous_event_y_coordinates', 'previous_event_period_time',\n",
       "       'previous_event_type', 'previous_event_period', 'home_players',\n",
       "       'away_players', 'distance_from_net', 'attacking_team_side',\n",
       "       'angle_from_net', 'game_seconds', 'previous_event_game_seconds',\n",
       "       'time_since_last_event', 'distance_from_last_event', 'rebound', 'speed',\n",
       "       'change_in_angle'],\n",
       "      dtype='object')"
      ]
     },
     "execution_count": 29,
     "metadata": {},
     "output_type": "execute_result"
    }
   ],
   "source": [
    "df.columns"
   ]
  },
  {
   "cell_type": "code",
   "execution_count": 30,
   "id": "101f5743",
   "metadata": {
    "execution": {
     "iopub.execute_input": "2021-11-23T19:40:32.107230Z",
     "iopub.status.busy": "2021-11-23T19:40:32.105716Z",
     "iopub.status.idle": "2021-11-23T19:40:32.194943Z",
     "shell.execute_reply": "2021-11-23T19:40:32.195389Z",
     "shell.execute_reply.started": "2021-11-23T18:38:47.075251Z"
    },
    "papermill": {
     "duration": 0.153668,
     "end_time": "2021-11-23T19:40:32.195542",
     "exception": false,
     "start_time": "2021-11-23T19:40:32.041874",
     "status": "completed"
    },
    "tags": []
   },
   "outputs": [],
   "source": [
    "#df.drop(columns = ['Unnamed: 0'], inplace = True)\n",
    "#df.columns"
   ]
  },
  {
   "cell_type": "code",
   "execution_count": 31,
   "id": "2c880e76",
   "metadata": {
    "execution": {
     "iopub.execute_input": "2021-11-23T19:40:32.319495Z",
     "iopub.status.busy": "2021-11-23T19:40:32.318887Z",
     "iopub.status.idle": "2021-11-23T19:40:32.321706Z",
     "shell.execute_reply": "2021-11-23T19:40:32.322276Z",
     "shell.execute_reply.started": "2021-11-23T18:38:47.162637Z"
    },
    "papermill": {
     "duration": 0.068024,
     "end_time": "2021-11-23T19:40:32.322484",
     "exception": false,
     "start_time": "2021-11-23T19:40:32.254460",
     "status": "completed"
    },
    "tags": []
   },
   "outputs": [
    {
     "name": "stdout",
     "output_type": "stream",
     "text": [
      "28 37 9\n"
     ]
    }
   ],
   "source": [
    "old_feat = ['game_id', 'season', 'season_type', 'event_id', 'home_team',\n",
    "       'away_team', 'home_team_side_1st_period', 'attacking_team',\n",
    "       'attacking_player', 'goalie', 'period', 'period_time', 'goal_ind',\n",
    "       'shot_ind', 'x_coordinates', 'y_coordinates', 'shot_type', 'empty_net',\n",
    "       'strength', 'gwg', 'previous_event_x_coordinates',\n",
    "       'previous_event_y_coordinates', 'previous_event_period_time',\n",
    "       'previous_event_type', 'previous_event_period', 'distance_from_net',\n",
    "       'attacking_team_side', 'angle_from_net']\n",
    "\n",
    "df_feat = df.columns.tolist()\n",
    "\n",
    "# features extracted in question 4\n",
    "new_feat = [feat for feat in df_feat if feat not in old_feat]\n",
    "print(len(old_feat),len(df_feat),len(new_feat) )"
   ]
  },
  {
   "cell_type": "markdown",
   "id": "70dc6919",
   "metadata": {
    "papermill": {
     "duration": 0.057433,
     "end_time": "2021-11-23T19:40:32.438403",
     "exception": false,
     "start_time": "2021-11-23T19:40:32.380970",
     "status": "completed"
    },
    "tags": []
   },
   "source": [
    "# Data Split"
   ]
  },
  {
   "cell_type": "code",
   "execution_count": 122,
   "id": "84677f35",
   "metadata": {
    "execution": {
     "iopub.execute_input": "2021-11-23T19:40:32.560140Z",
     "iopub.status.busy": "2021-11-23T19:40:32.559624Z",
     "iopub.status.idle": "2021-11-23T19:40:32.623832Z",
     "shell.execute_reply": "2021-11-23T19:40:32.623310Z",
     "shell.execute_reply.started": "2021-11-23T18:38:47.173500Z"
    },
    "papermill": {
     "duration": 0.127668,
     "end_time": "2021-11-23T19:40:32.623966",
     "exception": false,
     "start_time": "2021-11-23T19:40:32.496298",
     "status": "completed"
    },
    "tags": []
   },
   "outputs": [],
   "source": [
    "df_train = df[df['season'] != 20192020]\n",
    "df_test = df[df['season'] == 20192020]\n",
    "df_train_XG = df_train.copy()\n",
    "df_train_XG2 = df_train.copy()\n"
   ]
  },
  {
   "cell_type": "markdown",
   "id": "128b8be4",
   "metadata": {
    "papermill": {
     "duration": 0.058335,
     "end_time": "2021-11-23T19:40:32.741000",
     "exception": false,
     "start_time": "2021-11-23T19:40:32.682665",
     "status": "completed"
    },
    "tags": []
   },
   "source": [
    "## 5.1 Train-test"
   ]
  },
  {
   "cell_type": "code",
   "execution_count": 53,
   "id": "713630a3",
   "metadata": {
    "execution": {
     "iopub.execute_input": "2021-11-23T19:40:32.870236Z",
     "iopub.status.busy": "2021-11-23T19:40:32.869201Z",
     "iopub.status.idle": "2021-11-23T19:40:33.074254Z",
     "shell.execute_reply": "2021-11-23T19:40:33.074745Z",
     "shell.execute_reply.started": "2021-11-23T18:38:47.250602Z"
    },
    "papermill": {
     "duration": 0.27431,
     "end_time": "2021-11-23T19:40:33.074919",
     "exception": false,
     "start_time": "2021-11-23T19:40:32.800609",
     "status": "completed"
    },
    "tags": []
   },
   "outputs": [],
   "source": [
    "X_1 = df_train[['angle_from_net', 'distance_from_net']]\n",
    "y_1 = df_train['goal_ind']\n",
    "#y = y.astype(int)\n",
    "# (#BLOG)\n",
    "X_train_1, X_valid_1, y_train_1, y_valid_1 = train_test_split(X_1,y_1,test_size=0.15,random_state=10, stratify=y_1, shuffle = True)"
   ]
  },
  {
   "cell_type": "markdown",
   "id": "fc796c56",
   "metadata": {
    "papermill": {
     "duration": 0.057609,
     "end_time": "2021-11-23T19:40:33.191423",
     "exception": false,
     "start_time": "2021-11-23T19:40:33.133814",
     "status": "completed"
    },
    "tags": []
   },
   "source": [
    "## 5.2 Train-test"
   ]
  },
  {
   "cell_type": "code",
   "execution_count": 54,
   "id": "a397ccc9",
   "metadata": {
    "execution": {
     "iopub.execute_input": "2021-11-23T19:40:33.319692Z",
     "iopub.status.busy": "2021-11-23T19:40:33.319118Z",
     "iopub.status.idle": "2021-11-23T19:40:33.541082Z",
     "shell.execute_reply": "2021-11-23T19:40:33.540526Z",
     "shell.execute_reply.started": "2021-11-23T18:38:47.460365Z"
    },
    "papermill": {
     "duration": 0.291494,
     "end_time": "2021-11-23T19:40:33.541230",
     "exception": false,
     "start_time": "2021-11-23T19:40:33.249736",
     "status": "completed"
    },
    "tags": []
   },
   "outputs": [],
   "source": [
    "X_2 = df_train[new_feat]\n",
    "y_2 = df_train['goal_ind']\n",
    "#y = y.astype(int)\n",
    "X_train_2, X_valid_2, y_train_2, y_valid_2 = train_test_split(X_2,y_2,test_size=0.15,random_state=10, stratify=y_2, shuffle = True)"
   ]
  },
  {
   "cell_type": "code",
   "execution_count": 55,
   "id": "0009e1f8",
   "metadata": {
    "execution": {
     "iopub.execute_input": "2021-11-23T19:40:33.660751Z",
     "iopub.status.busy": "2021-11-23T19:40:33.659947Z",
     "iopub.status.idle": "2021-11-23T19:40:33.665953Z",
     "shell.execute_reply": "2021-11-23T19:40:33.665324Z",
     "shell.execute_reply.started": "2021-11-23T18:38:47.679365Z"
    },
    "papermill": {
     "duration": 0.066372,
     "end_time": "2021-11-23T19:40:33.666095",
     "exception": false,
     "start_time": "2021-11-23T19:40:33.599723",
     "status": "completed"
    },
    "tags": []
   },
   "outputs": [
    {
     "name": "stdout",
     "output_type": "stream",
     "text": [
      "(282830, 2)\n",
      "(282830, 9)\n"
     ]
    }
   ],
   "source": [
    "print(X_train_1.shape)\n",
    "print(X_train_2.shape)"
   ]
  },
  {
   "cell_type": "code",
   "execution_count": 56,
   "id": "8b7f6bf6",
   "metadata": {
    "execution": {
     "iopub.execute_input": "2021-11-23T19:40:33.792010Z",
     "iopub.status.busy": "2021-11-23T19:40:33.791397Z",
     "iopub.status.idle": "2021-11-23T19:40:33.793915Z",
     "shell.execute_reply": "2021-11-23T19:40:33.794356Z",
     "shell.execute_reply.started": "2021-11-23T18:38:47.686047Z"
    },
    "papermill": {
     "duration": 0.069373,
     "end_time": "2021-11-23T19:40:33.794476",
     "exception": false,
     "start_time": "2021-11-23T19:40:33.725103",
     "status": "completed"
    },
    "tags": []
   },
   "outputs": [
    {
     "data": {
      "text/plain": [
       "0    301647\n",
       "1     31095\n",
       "Name: goal_ind, dtype: int64"
      ]
     },
     "execution_count": 56,
     "metadata": {},
     "output_type": "execute_result"
    }
   ],
   "source": [
    "df_train[\"goal_ind\"].value_counts()"
   ]
  },
  {
   "cell_type": "markdown",
   "id": "7cdee2b1",
   "metadata": {
    "papermill": {
     "duration": 0.058853,
     "end_time": "2021-11-23T19:40:33.911722",
     "exception": false,
     "start_time": "2021-11-23T19:40:33.852869",
     "status": "completed"
    },
    "tags": []
   },
   "source": [
    "# cometml"
   ]
  },
  {
   "cell_type": "code",
   "execution_count": 57,
   "id": "ba1b023a",
   "metadata": {
    "execution": {
     "iopub.execute_input": "2021-11-23T19:40:34.034520Z",
     "iopub.status.busy": "2021-11-23T19:40:34.033732Z",
     "iopub.status.idle": "2021-11-23T19:40:34.035690Z",
     "shell.execute_reply": "2021-11-23T19:40:34.036102Z",
     "shell.execute_reply.started": "2021-11-23T17:06:35.606006Z"
    },
    "papermill": {
     "duration": 0.066112,
     "end_time": "2021-11-23T19:40:34.036224",
     "exception": false,
     "start_time": "2021-11-23T19:40:33.970112",
     "status": "completed"
    },
    "tags": []
   },
   "outputs": [
    {
     "name": "stderr",
     "output_type": "stream",
     "text": [
      "COMET INFO: ---------------------------\n",
      "COMET INFO: Comet.ml Experiment Summary\n",
      "COMET INFO: ---------------------------\n",
      "COMET INFO:   Data:\n",
      "COMET INFO:     display_summary_level : 1\n",
      "COMET INFO:     url                   : https://www.comet.ml/kleitoun/milestone-2/cc3f4ea4db584215af82cc8dd19ee93e\n",
      "COMET INFO:   Metrics:\n",
      "COMET INFO:     accuracy              : 0.9066356787946787\n",
      "COMET INFO:     classification report : {\"0\": {\"f1-score\": 0.9510133714574047, \"precision\": 0.9068564554931836, \"recall\": 0.999690594059406, \"support\": 45248}, \"1\": {\"f1-score\": 0.007666098807495742, \"precision\": 0.5625, \"recall\": 0.0038593481989708405, \"support\": 4664}, \"accuracy\": 0.9066356787946787, \"macro avg\": {\"f1-score\": 0.4793397351324502, \"precision\": 0.7346782277465917, \"recall\": 0.5017749711291885, \"support\": 49912}, \"weighted avg\": {\"f1-score\": 0.8628627928462657, \"precision\": 0.874678251686079, \"recall\": 0.9066356787946787, \"support\": 49912}}\n",
      "COMET INFO:     roc_auc               : 0.7160096018762085\n",
      "COMET INFO:   Parameters:\n",
      "COMET INFO:     base_score           : 0.5\n",
      "COMET INFO:     begin_iteration      : 0\n",
      "COMET INFO:     booster              : gbtree\n",
      "COMET INFO:     colsample_bylevel    : 1\n",
      "COMET INFO:     colsample_bynode     : 1\n",
      "COMET INFO:     colsample_bytree     : 1\n",
      "COMET INFO:     enable_categorical   : False\n",
      "COMET INFO:     end_iteration        : 100\n",
      "COMET INFO:     feature_names        : ['angle_from_net', 'distance_from_net']\n",
      "COMET INFO:     feature_types        : ['float', 'float']\n",
      "COMET INFO:     gamma                : 0\n",
      "COMET INFO:     gpu_id               : 1\n",
      "COMET INFO:     importance_type      : 1\n",
      "COMET INFO:     learning_rate        : 0.300000012\n",
      "COMET INFO:     max_delta_step       : 0\n",
      "COMET INFO:     max_depth            : 6\n",
      "COMET INFO:     min_child_weight     : 1\n",
      "COMET INFO:     missing              : nan\n",
      "COMET INFO:     monotone_constraints : ()\n",
      "COMET INFO:     n_estimators         : 100\n",
      "COMET INFO:     n_jobs               : 2\n",
      "COMET INFO:     num_parallel_tree    : 1\n",
      "COMET INFO:     objective            : binary:logistic\n",
      "COMET INFO:     predictor            : auto\n",
      "COMET INFO:     random_state         : 0\n",
      "COMET INFO:     rank                 : 0\n",
      "COMET INFO:     reg_alpha            : 0\n",
      "COMET INFO:     reg_lambda           : 1\n",
      "COMET INFO:     scale_pos_weight     : 1\n",
      "COMET INFO:     subsample            : 1\n",
      "COMET INFO:     tree_method          : exact\n",
      "COMET INFO:     validate_parameters  : 1\n",
      "COMET INFO:     verbosity            : 1\n",
      "COMET INFO:   Uploads:\n",
      "COMET INFO:     environment details      : 1\n",
      "COMET INFO:     figures                  : 1\n",
      "COMET INFO:     filename                 : 1\n",
      "COMET INFO:     git metadata             : 1\n",
      "COMET INFO:     git-patch (uncompressed) : 1 (217.23 KB)\n",
      "COMET INFO:     installed packages       : 1\n",
      "COMET INFO:     notebook                 : 1\n",
      "COMET INFO:     source_code              : 1\n",
      "COMET INFO: ---------------------------\n",
      "COMET ERROR: Error sending a notification, make sure you have opted-in for notifications\n",
      "COMET WARNING: As you are running in a Jupyter environment, you will need to call `experiment.end()` when finished to ensure all metrics and code are logged before exiting.\n",
      "COMET INFO: Experiment is live on comet.ml https://www.comet.ml/kleitoun/milestone-2/ca4cefdd1bd0458da8777f164e3e5e1e\n",
      "\n"
     ]
    }
   ],
   "source": [
    "experiment = Experiment(\n",
    "    api_key=\"otDl3gbLCh35KvnTMIUAG9Jzk\",\n",
    "    project_name=\"milestone-2\",\n",
    "    workspace=\"kleitoun\",\n",
    ")"
   ]
  },
  {
   "cell_type": "markdown",
   "id": "681fd551",
   "metadata": {
    "papermill": {
     "duration": 0.058916,
     "end_time": "2021-11-23T19:40:34.153362",
     "exception": false,
     "start_time": "2021-11-23T19:40:34.094446",
     "status": "completed"
    },
    "tags": []
   },
   "source": [
    "# XGBoost Classifier"
   ]
  },
  {
   "cell_type": "markdown",
   "id": "3afb238a",
   "metadata": {
    "papermill": {
     "duration": 0.058979,
     "end_time": "2021-11-23T19:40:34.270561",
     "exception": false,
     "start_time": "2021-11-23T19:40:34.211582",
     "status": "completed"
    },
    "tags": []
   },
   "source": [
    "## 5.1"
   ]
  },
  {
   "cell_type": "markdown",
   "id": "a7940224",
   "metadata": {
    "papermill": {
     "duration": 0.05793,
     "end_time": "2021-11-23T19:40:34.386641",
     "exception": false,
     "start_time": "2021-11-23T19:40:34.328711",
     "status": "completed"
    },
    "tags": []
   },
   "source": [
    "## Experiment url: https://www.comet.ml/kleitoun/milestone-2/6244c288bec04ab28ba6c2c030708813?experiment-tab=metrics"
   ]
  },
  {
   "cell_type": "code",
   "execution_count": 58,
   "id": "e32434c8",
   "metadata": {
    "execution": {
     "iopub.execute_input": "2021-11-23T19:40:34.507524Z",
     "iopub.status.busy": "2021-11-23T19:40:34.506845Z",
     "iopub.status.idle": "2021-11-23T19:40:43.142907Z",
     "shell.execute_reply": "2021-11-23T19:40:43.142449Z",
     "shell.execute_reply.started": "2021-11-23T18:38:59.332518Z"
    },
    "papermill": {
     "duration": 8.698434,
     "end_time": "2021-11-23T19:40:43.143031",
     "exception": false,
     "start_time": "2021-11-23T19:40:34.444597",
     "status": "completed"
    },
    "tags": []
   },
   "outputs": [
    {
     "name": "stderr",
     "output_type": "stream",
     "text": [
      "The use of label encoder in XGBClassifier is deprecated and will be removed in a future release. To remove this warning, do the following: 1) Pass option use_label_encoder=False when constructing XGBClassifier object; and 2) Encode your labels (y) as integers starting with 0, i.e. 0, 1, 2, ..., [num_class - 1].\n",
      "Old style callback is deprecated.  See: https://xgboost.readthedocs.io/en/latest/python/callbacks.html\n"
     ]
    },
    {
     "data": {
      "text/plain": [
       "XGBClassifier(base_score=0.5, booster='gbtree', colsample_bylevel=1,\n",
       "              colsample_bynode=1, colsample_bytree=1, gamma=0, gpu_id=-1,\n",
       "              importance_type='gain', interaction_constraints='',\n",
       "              learning_rate=0.300000012, max_delta_step=0, max_depth=6,\n",
       "              min_child_weight=1, missing=nan, monotone_constraints='()',\n",
       "              n_estimators=100, n_jobs=8, num_parallel_tree=1, random_state=0,\n",
       "              reg_alpha=0, reg_lambda=1, scale_pos_weight=1, subsample=1,\n",
       "              tree_method='exact', validate_parameters=1, verbosity=None)"
      ]
     },
     "execution_count": 58,
     "metadata": {},
     "output_type": "execute_result"
    }
   ],
   "source": [
    "model_1 = XGBClassifier()\n",
    " \n",
    "# fit the model with the training data\n",
    "model_1.fit(X_train_1,y_train_1)"
   ]
  },
  {
   "cell_type": "code",
   "execution_count": 59,
   "id": "9367ffe7",
   "metadata": {
    "execution": {
     "iopub.execute_input": "2021-11-23T19:40:43.275015Z",
     "iopub.status.busy": "2021-11-23T19:40:43.268130Z",
     "iopub.status.idle": "2021-11-23T19:40:43.348731Z",
     "shell.execute_reply": "2021-11-23T19:40:43.349530Z",
     "shell.execute_reply.started": "2021-11-23T18:39:08.108014Z"
    },
    "papermill": {
     "duration": 0.146425,
     "end_time": "2021-11-23T19:40:43.349686",
     "exception": false,
     "start_time": "2021-11-23T19:40:43.203261",
     "status": "completed"
    },
    "tags": []
   },
   "outputs": [],
   "source": [
    "preds_1 = model_1.predict(X_valid_1)"
   ]
  },
  {
   "cell_type": "code",
   "execution_count": 60,
   "id": "6212e02f",
   "metadata": {
    "execution": {
     "iopub.execute_input": "2021-11-23T19:40:43.476559Z",
     "iopub.status.busy": "2021-11-23T19:40:43.475797Z",
     "iopub.status.idle": "2021-11-23T19:40:43.482688Z",
     "shell.execute_reply": "2021-11-23T19:40:43.483100Z",
     "shell.execute_reply.started": "2021-11-23T18:39:08.195354Z"
    },
    "papermill": {
     "duration": 0.0711,
     "end_time": "2021-11-23T19:40:43.483225",
     "exception": false,
     "start_time": "2021-11-23T19:40:43.412125",
     "status": "completed"
    },
    "tags": []
   },
   "outputs": [
    {
     "data": {
      "text/plain": [
       "0"
      ]
     },
     "execution_count": 60,
     "metadata": {},
     "output_type": "execute_result"
    }
   ],
   "source": [
    "X_train_1.isnull().sum()\n",
    "np.isinf(X_train_1).values.sum()"
   ]
  },
  {
   "cell_type": "code",
   "execution_count": 61,
   "id": "8573da26",
   "metadata": {
    "execution": {
     "iopub.execute_input": "2021-11-23T19:40:43.607557Z",
     "iopub.status.busy": "2021-11-23T19:40:43.606744Z",
     "iopub.status.idle": "2021-11-23T19:42:04.230485Z",
     "shell.execute_reply": "2021-11-23T19:42:04.231497Z",
     "shell.execute_reply.started": "2021-11-23T18:39:08.209175Z"
    },
    "papermill": {
     "duration": 80.687989,
     "end_time": "2021-11-23T19:42:04.231713",
     "exception": false,
     "start_time": "2021-11-23T19:40:43.543724",
     "status": "completed"
    },
    "tags": []
   },
   "outputs": [],
   "source": [
    "explainer = shap.Explainer(model_1)\n",
    "shap_values = explainer(X_train_1)"
   ]
  },
  {
   "cell_type": "code",
   "execution_count": 62,
   "id": "88047ed1",
   "metadata": {
    "execution": {
     "iopub.execute_input": "2021-11-23T19:42:04.468690Z",
     "iopub.status.busy": "2021-11-23T19:42:04.467620Z",
     "iopub.status.idle": "2021-11-23T19:42:09.048738Z",
     "shell.execute_reply": "2021-11-23T19:42:09.049424Z",
     "shell.execute_reply.started": "2021-11-23T18:40:28.882501Z"
    },
    "papermill": {
     "duration": 4.697781,
     "end_time": "2021-11-23T19:42:09.049589",
     "exception": false,
     "start_time": "2021-11-23T19:42:04.351808",
     "status": "completed"
    },
    "tags": []
   },
   "outputs": [
    {
     "data": {
      "image/png": "[encoded data removed]",
      "text/plain": [
       "<Figure size 576x165.6 with 2 Axes>"
      ]
     },
     "metadata": {
      "needs_background": "light"
     },
     "output_type": "display_data"
    }
   ],
   "source": [
    "shap.summary_plot(shap_values, X_train_1)"
   ]
  },
  {
   "cell_type": "markdown",
   "id": "3f24dfba",
   "metadata": {
    "papermill": {
     "duration": 0.062098,
     "end_time": "2021-11-23T19:42:09.174467",
     "exception": false,
     "start_time": "2021-11-23T19:42:09.112369",
     "status": "completed"
    },
    "tags": []
   },
   "source": [
    "### Evaluation - XGBoost Baseline (5.1)"
   ]
  },
  {
   "cell_type": "code",
   "execution_count": 85,
   "id": "4c4f3076",
   "metadata": {
    "execution": {
     "iopub.execute_input": "2021-11-23T19:42:09.304883Z",
     "iopub.status.busy": "2021-11-23T19:42:09.304010Z",
     "iopub.status.idle": "2021-11-23T19:42:09.306722Z",
     "shell.execute_reply": "2021-11-23T19:42:09.306256Z",
     "shell.execute_reply.started": "2021-11-23T18:40:33.611507Z"
    },
    "papermill": {
     "duration": 0.069572,
     "end_time": "2021-11-23T19:42:09.306841",
     "exception": false,
     "start_time": "2021-11-23T19:42:09.237269",
     "status": "completed"
    },
    "tags": []
   },
   "outputs": [],
   "source": [
    "from sklearn.metrics import accuracy_score, roc_auc_score, classification_report\n",
    "from sklearn.metrics import roc_curve, auc\n"
   ]
  },
  {
   "cell_type": "code",
   "execution_count": 64,
   "id": "76045054",
   "metadata": {
    "execution": {
     "iopub.execute_input": "2021-11-23T19:42:09.436237Z",
     "iopub.status.busy": "2021-11-23T19:42:09.435513Z",
     "iopub.status.idle": "2021-11-23T19:42:09.663209Z",
     "shell.execute_reply": "2021-11-23T19:42:09.662159Z",
     "shell.execute_reply.started": "2021-11-23T19:16:20.544616Z"
    },
    "papermill": {
     "duration": 0.294296,
     "end_time": "2021-11-23T19:42:09.663365",
     "exception": false,
     "start_time": "2021-11-23T19:42:09.369069",
     "status": "completed"
    },
    "tags": []
   },
   "outputs": [],
   "source": [
    "y_pred_proba_1 = model_1.predict_proba(X_valid_1)[:,1]\n",
    "roc_auc =  roc_auc_score(y_valid_1,y_pred_proba_1)\n",
    "y_pred_1 = model_1.predict(X_valid_1)\n",
    "accuracy =  accuracy_score(y_valid_1, y_pred_1)\n",
    "report = classification_report(y_valid_1, y_pred_1, output_dict=True)\n"
   ]
  },
  {
   "cell_type": "code",
   "execution_count": 65,
   "id": "f92647ba",
   "metadata": {
    "execution": {
     "iopub.execute_input": "2021-11-23T19:42:09.797581Z",
     "iopub.status.busy": "2021-11-23T19:42:09.796605Z",
     "iopub.status.idle": "2021-11-23T19:42:09.801525Z",
     "shell.execute_reply": "2021-11-23T19:42:09.802144Z",
     "shell.execute_reply.started": "2021-11-23T19:16:26.539045Z"
    },
    "papermill": {
     "duration": 0.076434,
     "end_time": "2021-11-23T19:42:09.802348",
     "exception": false,
     "start_time": "2021-11-23T19:42:09.725914",
     "status": "completed"
    },
    "tags": []
   },
   "outputs": [
    {
     "name": "stdout",
     "output_type": "stream",
     "text": [
      "0.7160096018762085 0.9066356787946787\n"
     ]
    },
    {
     "data": {
      "text/plain": [
       "{'0': {'precision': 0.9068564554931836,\n",
       "  'recall': 0.999690594059406,\n",
       "  'f1-score': 0.9510133714574047,\n",
       "  'support': 45248},\n",
       " '1': {'precision': 0.5625,\n",
       "  'recall': 0.0038593481989708405,\n",
       "  'f1-score': 0.007666098807495742,\n",
       "  'support': 4664},\n",
       " 'accuracy': 0.9066356787946787,\n",
       " 'macro avg': {'precision': 0.7346782277465917,\n",
       "  'recall': 0.5017749711291885,\n",
       "  'f1-score': 0.4793397351324502,\n",
       "  'support': 49912},\n",
       " 'weighted avg': {'precision': 0.874678251686079,\n",
       "  'recall': 0.9066356787946787,\n",
       "  'f1-score': 0.8628627928462657,\n",
       "  'support': 49912}}"
      ]
     },
     "execution_count": 65,
     "metadata": {},
     "output_type": "execute_result"
    }
   ],
   "source": [
    "print(roc_auc, accuracy)\n",
    "report"
   ]
  },
  {
   "cell_type": "code",
   "execution_count": 66,
   "id": "db8c7875",
   "metadata": {
    "execution": {
     "iopub.execute_input": "2021-11-23T19:42:09.932949Z",
     "iopub.status.busy": "2021-11-23T19:42:09.932186Z",
     "iopub.status.idle": "2021-11-23T19:42:09.934534Z",
     "shell.execute_reply": "2021-11-23T19:42:09.934935Z",
     "shell.execute_reply.started": "2021-11-23T18:40:33.843076Z"
    },
    "papermill": {
     "duration": 0.069112,
     "end_time": "2021-11-23T19:42:09.935068",
     "exception": false,
     "start_time": "2021-11-23T19:42:09.865956",
     "status": "completed"
    },
    "tags": []
   },
   "outputs": [],
   "source": [
    "metrics = {\n",
    "    \"roc_auc\": roc_auc,\n",
    "    \"accuracy\": accuracy,\n",
    "    \"classification report\": report\n",
    "}"
   ]
  },
  {
   "cell_type": "code",
   "execution_count": 67,
   "id": "467e02fc",
   "metadata": {
    "execution": {
     "iopub.execute_input": "2021-11-23T19:42:10.064667Z",
     "iopub.status.busy": "2021-11-23T19:42:10.063893Z",
     "iopub.status.idle": "2021-11-23T19:42:10.066171Z",
     "shell.execute_reply": "2021-11-23T19:42:10.066619Z",
     "shell.execute_reply.started": "2021-11-23T18:40:33.848709Z"
    },
    "papermill": {
     "duration": 0.068915,
     "end_time": "2021-11-23T19:42:10.066745",
     "exception": false,
     "start_time": "2021-11-23T19:42:09.997830",
     "status": "completed"
    },
    "tags": []
   },
   "outputs": [
    {
     "name": "stderr",
     "output_type": "stream",
     "text": [
      "COMET WARNING: Cannot safely convert {'0': {'precision': 0.9068564554931836, 'recall': 0.999690594059406, 'f1-score': 0.9510133714574047, 'support': 45248}, '1': {'precision': 0.5625, 'recall': 0.0038593481989708405, 'f1-score': 0.007666098807495742, 'support': 4664}, 'accuracy': 0.9066356787946787, 'macro avg': {'precision': 0.7346782277465917, 'recall': 0.5017749711291885, 'f1-score': 0.4793397351324502, 'support': 49912}, 'weighted avg': {'precision': 0.874678251686079, 'recall': 0.9066356787946787, 'f1-score': 0.8628627928462657, 'support': 49912}} object to a scalar value, using its string representation for logging.\n"
     ]
    }
   ],
   "source": [
    "experiment.log_metrics(metrics)"
   ]
  },
  {
   "cell_type": "code",
   "execution_count": 68,
   "id": "f66eb27e",
   "metadata": {
    "execution": {
     "iopub.execute_input": "2021-11-23T19:42:10.196479Z",
     "iopub.status.busy": "2021-11-23T19:42:10.195760Z",
     "iopub.status.idle": "2021-11-23T19:42:10.198213Z",
     "shell.execute_reply": "2021-11-23T19:42:10.197820Z",
     "shell.execute_reply.started": "2021-11-23T18:40:33.863017Z"
    },
    "papermill": {
     "duration": 0.06948,
     "end_time": "2021-11-23T19:42:10.198315",
     "exception": false,
     "start_time": "2021-11-23T19:42:10.128835",
     "status": "completed"
    },
    "tags": []
   },
   "outputs": [],
   "source": [
    "params = {\"base_score\":0.5, \"booster\":\"gbtree\", \"colsample_bylevel\":1,\n",
    "              \"colsample_bynode\":1, \"colsample_bytree\":1, \"enable_categorical\":False,\n",
    "              \"gamma\":0, \"gpu_id\":1, \"importance_type\":None,\n",
    "              \"learning_rate\":0.300000012,\n",
    "              \"max_delta_step\":0, \"max_depth\":6, \"min_child_weight\":1, \"missing\":np.nan,\n",
    "              \"monotone_constraints\":'()', \"n_estimators\":100, \"n_jobs\":2,\n",
    "              \"num_parallel_tree\":1, \"predictor\":'auto', \"random_state\":0,\n",
    "              \"reg_alpha\":0, \"reg_lambda\":1, \"scale_pos_weight\":1, \"subsample\":1,\n",
    "              \"tree_method\":'exact', \"validate_parameters\":1, \"verbosity\":None}"
   ]
  },
  {
   "cell_type": "code",
   "execution_count": 69,
   "id": "8087263f",
   "metadata": {
    "execution": {
     "iopub.execute_input": "2021-11-23T19:42:10.326284Z",
     "iopub.status.busy": "2021-11-23T19:42:10.325629Z",
     "iopub.status.idle": "2021-11-23T19:42:10.328247Z",
     "shell.execute_reply": "2021-11-23T19:42:10.327776Z",
     "shell.execute_reply.started": "2021-11-23T18:40:33.871786Z"
    },
    "papermill": {
     "duration": 0.067851,
     "end_time": "2021-11-23T19:42:10.328394",
     "exception": false,
     "start_time": "2021-11-23T19:42:10.260543",
     "status": "completed"
    },
    "tags": []
   },
   "outputs": [],
   "source": [
    "experiment.log_parameters(params)"
   ]
  },
  {
   "cell_type": "code",
   "execution_count": 81,
   "id": "6b950d23",
   "metadata": {
    "execution": {
     "iopub.execute_input": "2021-11-23T19:42:10.457300Z",
     "iopub.status.busy": "2021-11-23T19:42:10.456596Z",
     "iopub.status.idle": "2021-11-23T19:42:10.458979Z",
     "shell.execute_reply": "2021-11-23T19:42:10.458556Z",
     "shell.execute_reply.started": "2021-11-23T18:40:33.879999Z"
    },
    "papermill": {
     "duration": 0.068807,
     "end_time": "2021-11-23T19:42:10.459087",
     "exception": false,
     "start_time": "2021-11-23T19:42:10.390280",
     "status": "completed"
    },
    "tags": []
   },
   "outputs": [],
   "source": [
    "def infer_model(X,y):\n",
    "    global y_valid \n",
    "    global y_pred\n",
    "    global X_valid\n",
    "    global predicted_prob\n",
    "    \n",
    "    X_train, X_valid, y_train, y_valid = train_test_split(X,y,test_size=0.15,random_state=10, stratify=y_1, shuffle = True)\n",
    "\n",
    "    model_2 = XGBClassifier()\n",
    "    model_2.fit(X_train,y_train)\n",
    "    \n",
    "    y_pred = model_2.predict(X_valid)\n",
    "    predicted_prob = model_2.predict_proba(X_valid)\n",
    "\n",
    "#    return y_valid, y_pred, X_valid.shape, predicted_prob\n"
   ]
  },
  {
   "cell_type": "code",
   "execution_count": 101,
   "id": "7c737781",
   "metadata": {
    "execution": {
     "iopub.execute_input": "2021-11-23T19:42:10.591606Z",
     "iopub.status.busy": "2021-11-23T19:42:10.590711Z",
     "iopub.status.idle": "2021-11-23T19:42:10.592607Z",
     "shell.execute_reply": "2021-11-23T19:42:10.592987Z"
    },
    "papermill": {
     "duration": 0.072084,
     "end_time": "2021-11-23T19:42:10.593117",
     "exception": false,
     "start_time": "2021-11-23T19:42:10.521033",
     "status": "completed"
    },
    "tags": []
   },
   "outputs": [],
   "source": [
    "# Functions for 4 plots\n",
    "\n",
    "def roc_auc_plot(df_roc,df_auc):\n",
    "    plt.figure(figsize=(12.5,7.5))\n",
    "    lw = 3\n",
    "    color_list = ['darkorange','green','navy','red']\n",
    "    for i in range(len(list_model_iter)):\n",
    "        \n",
    "        plt.plot(df_roc.FPR[i], df_roc.TPR[i],color=color_list[i],lw=lw,label=f'{df_auc.Feature[i]} (area = {df_auc.AUC[i]})')\n",
    "\n",
    "    plt.plot([0, 1], [0, 1], color=\"black\", lw=lw, label=\"Ideal Random Baseline\",linestyle=\"--\")\n",
    "    plt.legend(fontsize=12)\n",
    "    plt.ylabel('True Positive Rate', fontsize=18)\n",
    "    plt.xlabel('False Positive Rate', fontsize=18)\n",
    "    plt.title(\"ROC CURVE\", fontsize=18)\n",
    "    plt.savefig('ROC_XGBOOST.png')\n",
    "    plt.show()\n",
    "\n",
    "def goal_rate_plot(df_perc_prop,n_bins):\n",
    "    \n",
    "    fig = plt.figure(figsize=(12.5,7.5))\n",
    "    color_list = ['darkorange','green','navy','red']\n",
    "    \n",
    "    for i in range(len(list_model_iter)):\n",
    "\n",
    "        ax = sns.lineplot(x = df_perc_prop.pctile[i*n_bins:n_bins*(i+1)-1], y = df_perc_prop.goal_rate[i*n_bins:n_bins*(i+1)-1], label=f'{df_auc.Feature[i]}', color=color_list[i], legend = False, linewidth = 3)\n",
    "\n",
    "    ax.set_xlim(left=105, right=-5)\n",
    "    ax.set_ylim(bottom=0, top=.25)\n",
    "    fig.legend(loc=\"upper right\")\n",
    "    plt.title(f\"Goal Rate v.s. Shot Probability Model Percentile\")\n",
    "    fig.legend(loc=\"upper right\")\n",
    "    #plt.autoscale()\n",
    "    fig.show()\n",
    "    plt.savefig('Goal_Rate_XGBOOST.png')\n",
    "\n",
    "def cum_rate_plot(df_perc_prop_cum,n_bins):\n",
    "    \n",
    "    fig = plt.figure(figsize=(12.5,7.5))\n",
    "    color_list = ['darkorange','green','navy','red']\n",
    "    \n",
    "    for i in range(len(list_model_iter)):\n",
    "\n",
    "        ax = sns.lineplot(x = df_perc_prop_cum.pctile[i*n_bins:n_bins*(i+1)-1], y = df_perc_prop_cum.cum_goal_rate[i*n_bins:n_bins*(i+1)-1], label=f'{df_auc.Feature[i]}', color=color_list[i], legend = False, linewidth = 3)\n",
    " \n",
    "    ax.set_xlim(left=105, right=-5)\n",
    "    ax.set_ylim(bottom=0, top=df_perc_prop_cum['cum_goal_rate'].max()+0.05)\n",
    "    fig.legend(loc=\"upper right\")\n",
    "    plt.title(f\"Cumulative Goal Rate v.s. Shot Probability Model Percentile\")\n",
    "    plt.grid(color='r', linestyle='-', linewidth=0.25)\n",
    "    fig.legend(loc=\"upper right\")\n",
    "    #plt.autoscale()\n",
    "    fig.show()\n",
    "    plt.savefig('Cum_Goal_XGBOOST.png')\n",
    "\n",
    "def calibration_plot(df_calib,n_bins,length):\n",
    "    fig = plt.figure(figsize=(8, 8))\n",
    "    ax1 = plt.subplot2grid((1, 1), (0, 0), rowspan=1)\n",
    "    ax1.plot([0, 1], [0, 1], \"k:\", label=\"Perfectly calibrated\")\n",
    "    for i in range(len(list_model_iter)):\n",
    "        prob_true, prob_pred = calibration_curve(df_calib.goal_ind[int(i*length):int(length*(i+1)-1)], df_calib.Goal_Prob[int(i*length):int(length*(i+1)-1)], n_bins=n_bins)\n",
    "        ax1.plot(prob_pred, prob_true, \"s-\",label=f'{df_auc.Feature[i]}')\n",
    "    ax1.set_ylabel(\"Fraction of positives\")\n",
    "    ax1.set_ylim([-0.05, 1.05])\n",
    "    ax1.legend(loc=\"lower right\")\n",
    "    ax1.set_title('Calibration plots  (reliability curve)')\n",
    "    ax1.set_xlabel(\"Mean predicted value\")\n",
    "    ax1.set_ylabel(\"Fraction of Positives\")\n",
    "    ax1.legend(loc=\"upper center\", ncol=2)\n",
    "    plt.tight_layout()\n",
    "    plt.savefig('Calibration_Curve_XGBOOST.png')"
   ]
  },
  {
   "cell_type": "code",
   "execution_count": 83,
   "id": "99209417",
   "metadata": {},
   "outputs": [
    {
     "data": {
      "text/plain": [
       "\"\\nX_1 = df_train[['angle_from_net', 'distance_from_net']]\\ny_1 = df_train['goal_ind']\\n#y = y.astype(int)\\n# (#BLOG)\\nX_train_1, X_valid_1, y_train_1, y_valid_1 = train_test_split(X_1,y_1,test_size=0.15,random_state=10, stratify=y_1, shuffle = True)\\n\""
      ]
     },
     "execution_count": 83,
     "metadata": {},
     "output_type": "execute_result"
    }
   ],
   "source": [
    "'''\n",
    "X_1 = df_train[['angle_from_net', 'distance_from_net']]\n",
    "y_1 = df_train['goal_ind']\n",
    "#y = y.astype(int)\n",
    "# (#BLOG)\n",
    "X_train_1, X_valid_1, y_train_1, y_valid_1 = train_test_split(X_1,y_1,test_size=0.15,random_state=10, stratify=y_1, shuffle = True)\n",
    "'''"
   ]
  },
  {
   "cell_type": "code",
   "execution_count": 98,
   "id": "11dc9c3f",
   "metadata": {},
   "outputs": [
    {
     "name": "stderr",
     "output_type": "stream",
     "text": [
      "The use of label encoder in XGBClassifier is deprecated and will be removed in a future release. To remove this warning, do the following: 1) Pass option use_label_encoder=False when constructing XGBClassifier object; and 2) Encode your labels (y) as integers starting with 0, i.e. 0, 1, 2, ..., [num_class - 1].\n",
      "Old style callback is deprecated.  See: https://xgboost.readthedocs.io/en/latest/python/callbacks.html\n",
      "The use of label encoder in XGBClassifier is deprecated and will be removed in a future release. To remove this warning, do the following: 1) Pass option use_label_encoder=False when constructing XGBClassifier object; and 2) Encode your labels (y) as integers starting with 0, i.e. 0, 1, 2, ..., [num_class - 1].\n",
      "Old style callback is deprecated.  See: https://xgboost.readthedocs.io/en/latest/python/callbacks.html\n",
      "The use of label encoder in XGBClassifier is deprecated and will be removed in a future release. To remove this warning, do the following: 1) Pass option use_label_encoder=False when constructing XGBClassifier object; and 2) Encode your labels (y) as integers starting with 0, i.e. 0, 1, 2, ..., [num_class - 1].\n",
      "Old style callback is deprecated.  See: https://xgboost.readthedocs.io/en/latest/python/callbacks.html\n"
     ]
    }
   ],
   "source": [
    "df_train_XG['angle_from_net_abs']=df_train_XG['angle_from_net'].abs()\n",
    "#df_train2 = df_train.copy()\n",
    "fpr,tpr,roc_auc = dict(),dict(),dict()\n",
    "fpr_list,tpr_list,roc_auc_list,feature_list=[],[],[],[]\n",
    "df_cum_prop1,df_cum_prop2,df_cum_prop3 = [],[],[]\n",
    "\n",
    "df_perc,goal_count,shot_count,goal_rate,cum_goal_rate,pctile,pctile_prop = [],[],[],[],[],[],[]\n",
    "goal_count2,pctile2,cum_goal_rate2 = [],[],[]\n",
    "n_bins, quant = 20,5\n",
    "list_model_iter = [['distance_from_net'],\n",
    "                   ['angle_from_net_abs'],\n",
    "                   ['distance_from_net','angle_from_net_abs'],\n",
    "                  ]\n",
    "y = df_train_XG['goal_ind']\n",
    "predicted_prob_goal,temp_y_valid = [],[]\n",
    "\n",
    "for ele in list_model_iter:\n",
    "    feature_list.append(ele)\n",
    "    if df_train_XG[ele].shape[1] == 1:\n",
    "        X = df_train_XG[ele].values.reshape(-1,1)\n",
    "        infer_model(X,y)\n",
    "        temp_y_valid += y_valid.tolist()\n",
    "        for prob in predicted_prob:\n",
    "            predicted_prob_goal.append(prob[1])\n",
    "    else:\n",
    "        X = df_train_XG[ele].values\n",
    "        infer_model(X,y)\n",
    "        temp_y_valid  += y_valid.tolist()\n",
    "        for prob in predicted_prob:\n",
    "            predicted_prob_goal.append(prob[1])\n",
    "#--------------------Determine ROC curve----------------------------------\n",
    "length = len(temp_y_valid)/len(list_model_iter)\n",
    "df_prob = pd.DataFrame(list(zip(temp_y_valid,predicted_prob_goal)), columns = ['goal_ind','Goal_Prob'])\n",
    "df_prob['shot_count'] = 1\n",
    "# df_calib is copy of df_prob\n",
    "df_calib = df_prob.copy()\n",
    "for m in range(len(list_model_iter)):\n",
    "    df_prob_f = df_prob.loc[m*length:length*(m+1)-1,:]\n",
    "    fpr, tpr, _ = roc_curve(df_prob_f['goal_ind'], df_prob_f['Goal_Prob'])\n",
    "    roc_auc = auc(fpr, tpr)\n",
    "    fpr_list.append(fpr)\n",
    "    tpr_list.append(tpr)\n",
    "    roc_auc_list.append(roc_auc)\n",
    "# df_prob_f1 is copy of df_prob_f\n",
    "    df_prob_f1 = df_prob_f.copy()\n",
    "    df_prob_f1['percentile'] = df_prob_f1['Goal_Prob'].rank(pct=True)\n",
    "    quantile_list = np.linspace(0,1,n_bins*5+1).round(4).tolist()\n",
    "    q = df_prob_f1.quantile(quantile_list)\n",
    "    col = 'Goal_Prob'\n",
    "    for i in np.arange(quant,(quant*n_bins)+1,quant):\n",
    "        df_perc = df_prob_f1[((df_prob_f1[col]>=q[col][(i-quant)/100]) & (df_prob_f1[col]<q[col][i/100]))]\n",
    "        goal_count.append(df_perc['goal_ind'].sum())\n",
    "        shot_count.append(df_perc['shot_count'].sum())\n",
    "        goal_rate.append(df_perc['goal_ind'].sum()/df_perc['shot_count'].sum())\n",
    "        pctile.append(i)\n",
    "    df_perc_prop = pd.DataFrame(list(zip(goal_count,shot_count,goal_rate,pctile)),columns=['goal_count',\"sum_shot_count\",'goal_rate','pctile'])\n",
    "# df_prob_f2 is copy of df_prob_f\n",
    "\n",
    "    df_prob_f2 = df_prob_f.copy()\n",
    "    df_prob_f2['percentile'] = df_prob_f2['Goal_Prob'].rank(pct=True)\n",
    "    q2 = df_prob_f2.quantile(quantile_list)\n",
    "    total = df_prob_f2['goal_ind'].sum()\n",
    "\n",
    "    temp,j=0,100\n",
    "    \n",
    "    for j in np.arange((quant*n_bins),0,-quant):\n",
    "        df_perc2 = df_prob_f2[((df_prob_f2[col]>q[col][(j-quant)/100]) & (df_prob_f2[col]<=q[col][j/100]))]\n",
    "        goal_count2.append(df_perc2.goal_ind.sum())\n",
    "        temp+=df_perc2.goal_ind.sum()\n",
    "        cum_goal_rate2.append(temp/total)\n",
    "        pctile2.append(j)\n",
    "       \n",
    "    df_perc_prop_cum = pd.DataFrame(list(zip(goal_count2,cum_goal_rate2,pctile2)),columns=['goal_count','cum_goal_rate','pctile'])\n",
    "#print(df_perc_prop_cum[:20])\n"
   ]
  },
  {
   "cell_type": "code",
   "execution_count": 99,
   "id": "fcc205f9",
   "metadata": {},
   "outputs": [
    {
     "data": {
      "image/png": "[encoded data removed]",
      "text/plain": [
       "<Figure size 900x540 with 1 Axes>"
      ]
     },
     "metadata": {
      "needs_background": "light"
     },
     "output_type": "display_data"
    }
   ],
   "source": [
    "# Call for functions to plot curves\n",
    "#----------------------------------------------------------------------------------------------- \n",
    "df_roc=pd.DataFrame(list(zip(fpr_list,tpr_list)),columns = ['FPR','TPR'])\n",
    "df_auc=pd.DataFrame(list(zip(feature_list,roc_auc_list)),columns = ['Feature','AUC'])\n",
    "roc_auc_plot(df_roc,df_auc)\n"
   ]
  },
  {
   "cell_type": "code",
   "execution_count": 102,
   "id": "6833eec1",
   "metadata": {},
   "outputs": [
    {
     "name": "stderr",
     "output_type": "stream",
     "text": [
      "Matplotlib is currently using module://ipykernel.pylab.backend_inline, which is a non-GUI backend, so cannot show the figure.\n"
     ]
    },
    {
     "data": {
      "image/png": "[encoded data removed]",
      "text/plain": [
       "<Figure size 900x540 with 1 Axes>"
      ]
     },
     "metadata": {
      "needs_background": "light"
     },
     "output_type": "display_data"
    }
   ],
   "source": [
    "import seaborn as sns\n",
    "#--------------------Determine Goal Rate (#goals / (#no_goals + #goals)) ----------------------------------\n",
    "goal_rate_plot(df_perc_prop,n_bins)\n",
    "\n"
   ]
  },
  {
   "cell_type": "code",
   "execution_count": 103,
   "id": "6b73f9dc",
   "metadata": {},
   "outputs": [
    {
     "name": "stderr",
     "output_type": "stream",
     "text": [
      "Matplotlib is currently using module://ipykernel.pylab.backend_inline, which is a non-GUI backend, so cannot show the figure.\n"
     ]
    },
    {
     "data": {
      "image/png": "[encoded data removed]",
      "text/plain": [
       "<Figure size 900x540 with 1 Axes>"
      ]
     },
     "metadata": {
      "needs_background": "light"
     },
     "output_type": "display_data"
    }
   ],
   "source": [
    "#-----------------------------------------------------------------------------------------------\n",
    "cum_rate_plot(df_perc_prop_cum,n_bins)"
   ]
  },
  {
   "cell_type": "code",
   "execution_count": 104,
   "id": "520c3c77",
   "metadata": {
    "scrolled": true
   },
   "outputs": [
    {
     "data": {
      "image/png": "[encoded data removed]",
      "text/plain": [
       "<Figure size 576x576 with 1 Axes>"
      ]
     },
     "metadata": {
      "needs_background": "light"
     },
     "output_type": "display_data"
    }
   ],
   "source": [
    "from sklearn.calibration import calibration_curve, CalibrationDisplay\n",
    "#-----------------------------------------------------------------------------------------------\n",
    "calibration_plot(df_calib,n_bins,length)"
   ]
  },
  {
   "cell_type": "code",
   "execution_count": 30,
   "id": "07a3aaff",
   "metadata": {
    "execution": {
     "iopub.execute_input": "2021-11-23T19:42:10.720525Z",
     "iopub.status.busy": "2021-11-23T19:42:10.719774Z",
     "iopub.status.idle": "2021-11-23T19:42:10.722218Z",
     "shell.execute_reply": "2021-11-23T19:42:10.721813Z"
    },
    "papermill": {
     "duration": 0.067449,
     "end_time": "2021-11-23T19:42:10.722326",
     "exception": false,
     "start_time": "2021-11-23T19:42:10.654877",
     "status": "completed"
    },
    "tags": []
   },
   "outputs": [],
   "source": [
    "# experiment.end"
   ]
  },
  {
   "cell_type": "markdown",
   "id": "ed2d725c",
   "metadata": {
    "papermill": {
     "duration": 0.063157,
     "end_time": "2021-11-23T19:42:10.849605",
     "exception": false,
     "start_time": "2021-11-23T19:42:10.786448",
     "status": "completed"
    },
    "tags": []
   },
   "source": [
    "## 5.2"
   ]
  },
  {
   "cell_type": "code",
   "execution_count": 105,
   "id": "42082d71",
   "metadata": {
    "execution": {
     "iopub.execute_input": "2021-11-23T19:42:10.979940Z",
     "iopub.status.busy": "2021-11-23T19:42:10.977910Z",
     "iopub.status.idle": "2021-11-23T19:42:10.989125Z",
     "shell.execute_reply": "2021-11-23T19:42:10.988691Z",
     "shell.execute_reply.started": "2021-11-23T18:40:33.888791Z"
    },
    "papermill": {
     "duration": 0.076727,
     "end_time": "2021-11-23T19:42:10.989241",
     "exception": false,
     "start_time": "2021-11-23T19:42:10.912514",
     "status": "completed"
    },
    "tags": []
   },
   "outputs": [
    {
     "data": {
      "text/plain": [
       "home_players                      0\n",
       "away_players                      0\n",
       "game_seconds                      0\n",
       "previous_event_game_seconds       0\n",
       "time_since_last_event             0\n",
       "distance_from_last_event       4407\n",
       "rebound                           0\n",
       "speed                          4422\n",
       "change_in_angle                  13\n",
       "dtype: int64"
      ]
     },
     "execution_count": 105,
     "metadata": {},
     "output_type": "execute_result"
    }
   ],
   "source": [
    "X_train_2.isnull().sum()"
   ]
  },
  {
   "cell_type": "code",
   "execution_count": 106,
   "id": "20b0224d",
   "metadata": {
    "execution": {
     "iopub.execute_input": "2021-11-23T19:42:11.121648Z",
     "iopub.status.busy": "2021-11-23T19:42:11.121006Z",
     "iopub.status.idle": "2021-11-23T19:42:11.132139Z",
     "shell.execute_reply": "2021-11-23T19:42:11.132573Z",
     "shell.execute_reply.started": "2021-11-23T18:40:33.906526Z"
    },
    "papermill": {
     "duration": 0.079511,
     "end_time": "2021-11-23T19:42:11.132701",
     "exception": false,
     "start_time": "2021-11-23T19:42:11.053190",
     "status": "completed"
    },
    "tags": []
   },
   "outputs": [
    {
     "name": "stdout",
     "output_type": "stream",
     "text": [
      "0\n",
      "5043\n",
      "0\n"
     ]
    },
    {
     "data": {
      "text/plain": [
       "0"
      ]
     },
     "execution_count": 106,
     "metadata": {},
     "output_type": "execute_result"
    }
   ],
   "source": [
    "# X_train_2.isinf().sum()\n",
    "for f in [\"distance_from_last_event\", \"speed\", \"change_in_angle\"]:\n",
    "    print(np.isinf(X_train_2[[f]]).values.sum())\n",
    "np.isinf(y_train_2).values.sum()"
   ]
  },
  {
   "cell_type": "code",
   "execution_count": 107,
   "id": "847a6f11",
   "metadata": {
    "execution": {
     "iopub.execute_input": "2021-11-23T19:42:11.265128Z",
     "iopub.status.busy": "2021-11-23T19:42:11.264309Z",
     "iopub.status.idle": "2021-11-23T19:42:11.276274Z",
     "shell.execute_reply": "2021-11-23T19:42:11.276890Z",
     "shell.execute_reply.started": "2021-11-23T18:40:33.924258Z"
    },
    "papermill": {
     "duration": 0.081056,
     "end_time": "2021-11-23T19:42:11.277067",
     "exception": false,
     "start_time": "2021-11-23T19:42:11.196011",
     "status": "completed"
    },
    "tags": []
   },
   "outputs": [
    {
     "name": "stdout",
     "output_type": "stream",
     "text": [
      "0\n",
      "0\n",
      "0\n"
     ]
    }
   ],
   "source": [
    "X_train_2.replace([np.inf, -np.inf], np.nan, inplace=True)\n",
    "for f in [\"distance_from_last_event\", \"speed\", \"change_in_angle\"]:\n",
    "    print(np.isinf(X_train_2[[f]]).values.sum())"
   ]
  },
  {
   "cell_type": "code",
   "execution_count": 108,
   "id": "30abb17e",
   "metadata": {
    "execution": {
     "iopub.execute_input": "2021-11-23T19:42:11.410770Z",
     "iopub.status.busy": "2021-11-23T19:42:11.410001Z",
     "iopub.status.idle": "2021-11-23T19:42:11.417633Z",
     "shell.execute_reply": "2021-11-23T19:42:11.417164Z",
     "shell.execute_reply.started": "2021-11-23T18:40:33.943154Z"
    },
    "papermill": {
     "duration": 0.075247,
     "end_time": "2021-11-23T19:42:11.417741",
     "exception": false,
     "start_time": "2021-11-23T19:42:11.342494",
     "status": "completed"
    },
    "tags": []
   },
   "outputs": [
    {
     "name": "stdout",
     "output_type": "stream",
     "text": [
      "home_players                      0\n",
      "away_players                      0\n",
      "game_seconds                      0\n",
      "previous_event_game_seconds       0\n",
      "time_since_last_event             0\n",
      "distance_from_last_event       4407\n",
      "rebound                           0\n",
      "speed                          9465\n",
      "change_in_angle                  13\n",
      "dtype: int64\n"
     ]
    }
   ],
   "source": [
    "print(X_train_2.isnull().sum())"
   ]
  },
  {
   "cell_type": "code",
   "execution_count": 109,
   "id": "b9ea02ad",
   "metadata": {
    "execution": {
     "iopub.execute_input": "2021-11-23T19:42:11.558706Z",
     "iopub.status.busy": "2021-11-23T19:42:11.557823Z",
     "iopub.status.idle": "2021-11-23T19:42:11.568973Z",
     "shell.execute_reply": "2021-11-23T19:42:11.569609Z",
     "shell.execute_reply.started": "2021-11-23T18:40:33.955461Z"
    },
    "papermill": {
     "duration": 0.084993,
     "end_time": "2021-11-23T19:42:11.569795",
     "exception": false,
     "start_time": "2021-11-23T19:42:11.484802",
     "status": "completed"
    },
    "tags": []
   },
   "outputs": [
    {
     "name": "stdout",
     "output_type": "stream",
     "text": [
      "home_players                   0\n",
      "away_players                   0\n",
      "game_seconds                   0\n",
      "previous_event_game_seconds    0\n",
      "time_since_last_event          0\n",
      "distance_from_last_event       0\n",
      "rebound                        0\n",
      "speed                          0\n",
      "change_in_angle                0\n",
      "dtype: int64\n"
     ]
    }
   ],
   "source": [
    "X_train_2.fillna(0, inplace=True)\n",
    "print(X_train_2.isnull().sum())"
   ]
  },
  {
   "cell_type": "code",
   "execution_count": 110,
   "id": "37f847c9",
   "metadata": {
    "execution": {
     "iopub.execute_input": "2021-11-23T19:42:11.704317Z",
     "iopub.status.busy": "2021-11-23T19:42:11.703520Z",
     "iopub.status.idle": "2021-11-23T19:42:31.793446Z",
     "shell.execute_reply": "2021-11-23T19:42:31.792809Z",
     "shell.execute_reply.started": "2021-11-23T18:40:33.972751Z"
    },
    "papermill": {
     "duration": 20.158365,
     "end_time": "2021-11-23T19:42:31.793583",
     "exception": false,
     "start_time": "2021-11-23T19:42:11.635218",
     "status": "completed"
    },
    "tags": []
   },
   "outputs": [
    {
     "name": "stderr",
     "output_type": "stream",
     "text": [
      "The use of label encoder in XGBClassifier is deprecated and will be removed in a future release. To remove this warning, do the following: 1) Pass option use_label_encoder=False when constructing XGBClassifier object; and 2) Encode your labels (y) as integers starting with 0, i.e. 0, 1, 2, ..., [num_class - 1].\n",
      "Old style callback is deprecated.  See: https://xgboost.readthedocs.io/en/latest/python/callbacks.html\n"
     ]
    },
    {
     "data": {
      "text/plain": [
       "XGBClassifier(base_score=0.5, booster='gbtree', colsample_bylevel=1,\n",
       "              colsample_bynode=1, colsample_bytree=1, gamma=0, gpu_id=-1,\n",
       "              importance_type='gain', interaction_constraints='',\n",
       "              learning_rate=0.300000012, max_delta_step=0, max_depth=6,\n",
       "              min_child_weight=1, missing=nan, monotone_constraints='()',\n",
       "              n_estimators=100, n_jobs=8, num_parallel_tree=1, random_state=0,\n",
       "              reg_alpha=0, reg_lambda=1, scale_pos_weight=1, subsample=1,\n",
       "              tree_method='exact', validate_parameters=1, verbosity=None)"
      ]
     },
     "execution_count": 110,
     "metadata": {},
     "output_type": "execute_result"
    }
   ],
   "source": [
    "model_2 = XGBClassifier()\n",
    " \n",
    "# fit the model with the training data\n",
    "model_2.fit(X_train_2,y_train_2)"
   ]
  },
  {
   "cell_type": "code",
   "execution_count": 111,
   "id": "509d320d",
   "metadata": {
    "execution": {
     "iopub.execute_input": "2021-11-23T19:42:31.928354Z",
     "iopub.status.busy": "2021-11-23T19:42:31.927240Z",
     "iopub.status.idle": "2021-11-23T19:42:32.048772Z",
     "shell.execute_reply": "2021-11-23T19:42:32.049641Z",
     "shell.execute_reply.started": "2021-11-23T18:40:52.730928Z"
    },
    "papermill": {
     "duration": 0.190773,
     "end_time": "2021-11-23T19:42:32.049824",
     "exception": false,
     "start_time": "2021-11-23T19:42:31.859051",
     "status": "completed"
    },
    "tags": []
   },
   "outputs": [],
   "source": [
    "preds_2 = model_2.predict(X_valid_2)"
   ]
  },
  {
   "cell_type": "code",
   "execution_count": 112,
   "id": "207c9ce5",
   "metadata": {},
   "outputs": [
    {
     "data": {
      "text/plain": [
       "array([0, 0, 0, ..., 0, 0, 0], dtype=int64)"
      ]
     },
     "execution_count": 112,
     "metadata": {},
     "output_type": "execute_result"
    }
   ],
   "source": [
    "preds_2"
   ]
  },
  {
   "cell_type": "code",
   "execution_count": 144,
   "id": "c146b29c",
   "metadata": {},
   "outputs": [],
   "source": [
    "def infer_model3(X_train_ele,y_train,X_valid_ele):\n",
    "    global y_pred\n",
    "    global predicted_prob\n",
    "    \n",
    "\n",
    "    model_3 = XGBClassifier()\n",
    "    model_3.fit(X_train_ele,y_train)\n",
    "    \n",
    "    y_pred = model_3.predict(X_valid_ele)\n",
    "    predicted_prob = model_3.predict_proba(X_valid_ele)"
   ]
  },
  {
   "cell_type": "code",
   "execution_count": 136,
   "id": "388e145a",
   "metadata": {},
   "outputs": [
    {
     "data": {
      "text/plain": [
       "Index(['game_id', 'season', 'season_type', 'event_id', 'home_team',\n",
       "       'away_team', 'home_team_side_1st_period', 'attacking_team',\n",
       "       'attacking_player', 'goalie', 'period', 'period_time', 'goal_ind',\n",
       "       'shot_ind', 'x_coordinates', 'y_coordinates', 'shot_type', 'empty_net',\n",
       "       'strength', 'gwg', 'previous_event_x_coordinates',\n",
       "       'previous_event_y_coordinates', 'previous_event_period_time',\n",
       "       'previous_event_type', 'previous_event_period', 'home_players',\n",
       "       'away_players', 'distance_from_net', 'attacking_team_side',\n",
       "       'angle_from_net', 'game_seconds', 'previous_event_game_seconds',\n",
       "       'time_since_last_event', 'distance_from_last_event', 'rebound', 'speed',\n",
       "       'change_in_angle'],\n",
       "      dtype='object')"
      ]
     },
     "execution_count": 136,
     "metadata": {},
     "output_type": "execute_result"
    }
   ],
   "source": [
    "df_train_XG.columns\n"
   ]
  },
  {
   "cell_type": "markdown",
   "id": "499cecce",
   "metadata": {
    "papermill": {
     "duration": 0.064307,
     "end_time": "2021-11-23T19:42:32.181757",
     "exception": false,
     "start_time": "2021-11-23T19:42:32.117450",
     "status": "completed"
    },
    "tags": []
   },
   "source": [
    "### Performance Plots"
   ]
  },
  {
   "cell_type": "code",
   "execution_count": 145,
   "id": "fde7df2e",
   "metadata": {},
   "outputs": [
    {
     "name": "stderr",
     "output_type": "stream",
     "text": [
      "The use of label encoder in XGBClassifier is deprecated and will be removed in a future release. To remove this warning, do the following: 1) Pass option use_label_encoder=False when constructing XGBClassifier object; and 2) Encode your labels (y) as integers starting with 0, i.e. 0, 1, 2, ..., [num_class - 1].\n",
      "Old style callback is deprecated.  See: https://xgboost.readthedocs.io/en/latest/python/callbacks.html\n",
      "invalid value encountered in longlong_scalars\n",
      "invalid value encountered in longlong_scalars\n",
      "invalid value encountered in longlong_scalars\n",
      "invalid value encountered in longlong_scalars\n"
     ]
    }
   ],
   "source": [
    "#df_train2 = df_train.copy()\n",
    "fpr,tpr,roc_auc = dict(),dict(),dict()\n",
    "fpr_list,tpr_list,roc_auc_list,feature_list=[],[],[],[]\n",
    "df_cum_prop1,df_cum_prop2,df_cum_prop3 = [],[],[]\n",
    "\n",
    "df_perc,goal_count,shot_count,goal_rate,cum_goal_rate,pctile,pctile_prop = [],[],[],[],[],[],[]\n",
    "goal_count2,pctile2,cum_goal_rate2 = [],[],[]\n",
    "n_bins, quant = 20,5\n",
    "list_model_iter = [['distance_from_last_event'],\n",
    "                   ['speed'],\n",
    "                   ['change_in_angle'],\n",
    "                  ]\n",
    "X = df_train_XG2[['distance_from_last_event','speed','change_in_angle']]\n",
    "y = df_train_XG2['goal_ind']\n",
    "\n",
    "X_train, X_valid, y_train, y_valid = train_test_split(X,y,test_size=0.15,random_state=10, stratify=y_1, shuffle = True)\n",
    "# print(X_train.columns,X_train.shape)\n",
    "# print(X_valid.columns,X_valid.shape)\n",
    "# break\n",
    "predicted_prob_goal,temp_y_valid = [],[]\n",
    "\n",
    "for ele in list_model_iter:\n",
    "    feature_list.append(ele)\n",
    "    if X_train[ele].shape[1] == 1:\n",
    "        X_train_ele = X_train[ele].values.reshape(-1,1)\n",
    "        X_valid_ele = X_valid[ele].values.reshape(-1,1)\n",
    "        infer_model3(X_train_ele,y_train,X_valid_ele)\n",
    "        temp_y_valid += y_valid.tolist()\n",
    "        for prob in predicted_prob:\n",
    "            predicted_prob_goal.append(prob[1])\n",
    "    else:\n",
    "        X_train_ele = X_train[ele].values\n",
    "        infer_model3(X_train_ele,y_train,X_valid_ele)\n",
    "        temp_y_valid  += y_valid.tolist()\n",
    "        for prob in predicted_prob:\n",
    "            predicted_prob_goal.append(prob[1])\n",
    "#--------------------Determine ROC curve----------------------------------\n",
    "length = len(temp_y_valid)/len(list_model_iter)\n",
    "df_prob = pd.DataFrame(list(zip(temp_y_valid,predicted_prob_goal)), columns = ['goal_ind','Goal_Prob'])\n",
    "df_prob['shot_count'] = 1\n",
    "# df_calib is copy of df_prob\n",
    "df_calib = df_prob.copy()\n",
    "for m in range(len(list_model_iter)):\n",
    "    df_prob_f = df_prob.loc[m*length:length*(m+1)-1,:]\n",
    "    fpr, tpr, _ = roc_curve(df_prob_f['goal_ind'], df_prob_f['Goal_Prob'])\n",
    "    roc_auc = auc(fpr, tpr)\n",
    "    fpr_list.append(fpr)\n",
    "    tpr_list.append(tpr)\n",
    "    roc_auc_list.append(roc_auc)\n",
    "# df_prob_f1 is copy of df_prob_f\n",
    "    df_prob_f1 = df_prob_f.copy()\n",
    "    df_prob_f1['percentile'] = df_prob_f1['Goal_Prob'].rank(pct=True)\n",
    "    quantile_list = np.linspace(0,1,n_bins*5+1).round(4).tolist()\n",
    "    q = df_prob_f1.quantile(quantile_list)\n",
    "    col = 'Goal_Prob'\n",
    "    for i in np.arange(quant,(quant*n_bins)+1,quant):\n",
    "        df_perc = df_prob_f1[((df_prob_f1[col]>=q[col][(i-quant)/100]) & (df_prob_f1[col]<q[col][i/100]))]\n",
    "        goal_count.append(df_perc['goal_ind'].sum())\n",
    "        shot_count.append(df_perc['shot_count'].sum())\n",
    "        goal_rate.append(df_perc['goal_ind'].sum()/df_perc['shot_count'].sum())\n",
    "        pctile.append(i)\n",
    "    df_perc_prop = pd.DataFrame(list(zip(goal_count,shot_count,goal_rate,pctile)),columns=['goal_count',\"sum_shot_count\",'goal_rate','pctile'])\n",
    "# df_prob_f2 is copy of df_prob_f\n",
    "\n",
    "    df_prob_f2 = df_prob_f.copy()\n",
    "    df_prob_f2['percentile'] = df_prob_f2['Goal_Prob'].rank(pct=True)\n",
    "    q2 = df_prob_f2.quantile(quantile_list)\n",
    "    total = df_prob_f2['goal_ind'].sum()\n",
    "\n",
    "    temp,j=0,100\n",
    "    \n",
    "    for j in np.arange((quant*n_bins),0,-quant):\n",
    "        df_perc2 = df_prob_f2[((df_prob_f2[col]>q[col][(j-quant)/100]) & (df_prob_f2[col]<=q[col][j/100]))]\n",
    "        goal_count2.append(df_perc2.goal_ind.sum())\n",
    "        temp+=df_perc2.goal_ind.sum()\n",
    "        cum_goal_rate2.append(temp/total)\n",
    "        pctile2.append(j)\n",
    "       \n",
    "    df_perc_prop_cum = pd.DataFrame(list(zip(goal_count2,cum_goal_rate2,pctile2)),columns=['goal_count','cum_goal_rate','pctile'])\n",
    "#print(df_perc_prop_cum[:20])\n"
   ]
  },
  {
   "cell_type": "code",
   "execution_count": 39,
   "id": "5c20c2b4",
   "metadata": {
    "execution": {
     "iopub.execute_input": "2021-11-23T19:42:32.452703Z",
     "iopub.status.busy": "2021-11-23T19:42:32.451928Z",
     "iopub.status.idle": "2021-11-23T19:42:32.468829Z",
     "shell.execute_reply": "2021-11-23T19:42:32.468417Z",
     "shell.execute_reply.started": "2021-11-23T17:07:15.144373Z"
    },
    "papermill": {
     "duration": 0.085319,
     "end_time": "2021-11-23T19:42:32.468935",
     "exception": false,
     "start_time": "2021-11-23T19:42:32.383616",
     "status": "completed"
    },
    "tags": []
   },
   "outputs": [
    {
     "data": {
      "text/plain": [
       "count    332721.000000\n",
       "mean         29.909764\n",
       "std          20.431608\n",
       "min           0.000000\n",
       "25%          13.570434\n",
       "50%          27.758541\n",
       "75%          42.273689\n",
       "max          90.000000\n",
       "Name: angle_from_net, dtype: float64"
      ]
     },
     "execution_count": 39,
     "metadata": {},
     "output_type": "execute_result"
    }
   ],
   "source": [
    "df_train.angle_from_net.describe()"
   ]
  },
  {
   "cell_type": "markdown",
   "id": "bf026e98",
   "metadata": {
    "papermill": {
     "duration": 0.065252,
     "end_time": "2021-11-23T19:42:32.603160",
     "exception": false,
     "start_time": "2021-11-23T19:42:32.537908",
     "status": "completed"
    },
    "tags": []
   },
   "source": [
    "# Hyper-paramter Tuning"
   ]
  },
  {
   "cell_type": "code",
   "execution_count": 40,
   "id": "dc340e6a",
   "metadata": {
    "execution": {
     "iopub.execute_input": "2021-11-23T19:42:32.738033Z",
     "iopub.status.busy": "2021-11-23T19:42:32.737360Z",
     "iopub.status.idle": "2021-11-23T19:42:32.741227Z",
     "shell.execute_reply": "2021-11-23T19:42:32.740794Z",
     "shell.execute_reply.started": "2021-11-23T18:40:52.855130Z"
    },
    "papermill": {
     "duration": 0.073279,
     "end_time": "2021-11-23T19:42:32.741352",
     "exception": false,
     "start_time": "2021-11-23T19:42:32.668073",
     "status": "completed"
    },
    "tags": []
   },
   "outputs": [],
   "source": [
    "from sklearn.model_selection import RandomizedSearchCV, GridSearchCV\n",
    "from sklearn.metrics import roc_auc_score\n",
    "from sklearn.model_selection import StratifiedKFold, RepeatedStratifiedKFold"
   ]
  },
  {
   "cell_type": "code",
   "execution_count": 41,
   "id": "b77cb602",
   "metadata": {
    "execution": {
     "iopub.execute_input": "2021-11-23T19:42:32.875569Z",
     "iopub.status.busy": "2021-11-23T19:42:32.875025Z",
     "iopub.status.idle": "2021-11-23T19:42:32.878655Z",
     "shell.execute_reply": "2021-11-23T19:42:32.878214Z",
     "shell.execute_reply.started": "2021-11-23T18:40:52.865615Z"
    },
    "papermill": {
     "duration": 0.07235,
     "end_time": "2021-11-23T19:42:32.878765",
     "exception": false,
     "start_time": "2021-11-23T19:42:32.806415",
     "status": "completed"
    },
    "tags": []
   },
   "outputs": [],
   "source": [
    "# A parameter grid for XGBoost\n",
    "params = {\n",
    "    'n_estimators': [100, 150],\n",
    "    'learning_rate': [0.3, 0.2, 0.1],\n",
    "    'max_depth': [4,6 , 7, 8]\n",
    "}"
   ]
  },
  {
   "cell_type": "code",
   "execution_count": 42,
   "id": "08ef487e",
   "metadata": {
    "execution": {
     "iopub.execute_input": "2021-11-23T19:42:33.013551Z",
     "iopub.status.busy": "2021-11-23T19:42:33.012985Z",
     "iopub.status.idle": "2021-11-23T19:42:33.019282Z",
     "shell.execute_reply": "2021-11-23T19:42:33.018863Z",
     "shell.execute_reply.started": "2021-11-23T18:40:52.872636Z"
    },
    "papermill": {
     "duration": 0.076068,
     "end_time": "2021-11-23T19:42:33.019412",
     "exception": false,
     "start_time": "2021-11-23T19:42:32.943344",
     "status": "completed"
    },
    "tags": []
   },
   "outputs": [
    {
     "data": {
      "text/plain": [
       "(282812,)"
      ]
     },
     "execution_count": 42,
     "metadata": {},
     "output_type": "execute_result"
    }
   ],
   "source": [
    "y_train_2.shape"
   ]
  },
  {
   "cell_type": "code",
   "execution_count": 43,
   "id": "4c7ed235",
   "metadata": {
    "execution": {
     "iopub.execute_input": "2021-11-23T19:42:33.158005Z",
     "iopub.status.busy": "2021-11-23T19:42:33.157149Z",
     "iopub.status.idle": "2021-11-23T19:49:56.375750Z",
     "shell.execute_reply": "2021-11-23T19:49:56.376135Z",
     "shell.execute_reply.started": "2021-11-23T15:21:21.346538Z"
    },
    "papermill": {
     "duration": 443.291276,
     "end_time": "2021-11-23T19:49:56.376302",
     "exception": false,
     "start_time": "2021-11-23T19:42:33.085026",
     "status": "completed"
    },
    "tags": []
   },
   "outputs": [
    {
     "name": "stdout",
     "output_type": "stream",
     "text": [
      "Fitting 3 folds for each of 5 candidates, totalling 15 fits\n"
     ]
    },
    {
     "name": "stderr",
     "output_type": "stream",
     "text": [
      "[Parallel(n_jobs=4)]: Using backend LokyBackend with 4 concurrent workers.\n",
      "[Parallel(n_jobs=4)]: Done  15 out of  15 | elapsed:  7.2min finished\n",
      "The use of label encoder in XGBClassifier is deprecated and will be removed in a future release. To remove this warning, do the following: 1) Pass option use_label_encoder=False when constructing XGBClassifier object; and 2) Encode your labels (y) as integers starting with 0, i.e. 0, 1, 2, ..., [num_class - 1].\n"
     ]
    },
    {
     "name": "stdout",
     "output_type": "stream",
     "text": [
      "[19:49:43] WARNING: ../src/learner.cc:1115: Starting in XGBoost 1.3.0, the default evaluation metric used with the objective 'binary:logistic' was changed from 'error' to 'logloss'. Explicitly set eval_metric if you'd like to restore the old behavior.\n"
     ]
    },
    {
     "data": {
      "text/plain": [
       "RandomizedSearchCV(cv=<generator object _BaseKFold.split at 0x7f6eceed2c50>,\n",
       "                   estimator=XGBClassifier(base_score=0.5, booster='gbtree',\n",
       "                                           colsample_bylevel=1,\n",
       "                                           colsample_bynode=1,\n",
       "                                           colsample_bytree=1,\n",
       "                                           enable_categorical=False, gamma=0,\n",
       "                                           gpu_id=-1, importance_type=None,\n",
       "                                           interaction_constraints='',\n",
       "                                           learning_rate=0.300000012,\n",
       "                                           max_delta_step=0, max_depth=6,\n",
       "                                           min_child_weight=1...\n",
       "                                           n_estimators=100, n_jobs=2,\n",
       "                                           num_parallel_tree=1,\n",
       "                                           predictor='auto', random_state=0,\n",
       "                                           reg_alpha=0, reg_lambda=1,\n",
       "                                           scale_pos_weight=1, subsample=1,\n",
       "                                           tree_method='exact',\n",
       "                                           validate_parameters=1,\n",
       "                                           verbosity=None),\n",
       "                   n_iter=5, n_jobs=4,\n",
       "                   param_distributions={'learning_rate': [0.3, 0.2, 0.1],\n",
       "                                        'max_depth': [4, 6, 7, 8],\n",
       "                                        'n_estimators': [100, 150]},\n",
       "                   random_state=1001, scoring='roc_auc', verbose=3)"
      ]
     },
     "execution_count": 43,
     "metadata": {},
     "output_type": "execute_result"
    }
   ],
   "source": [
    "folds = 3\n",
    "param_comb = 5\n",
    "\n",
    "skf = StratifiedKFold(n_splits=folds, shuffle = True, random_state = 1001)\n",
    "\n",
    "random_search = RandomizedSearchCV(model_2, param_distributions=params, n_iter=param_comb, scoring='roc_auc', n_jobs=4, cv=skf.split(X_train_2,y_train_2), verbose=3, random_state=1001 )\n",
    "\n",
    "# Here we go\n",
    "# start_time = timer(None) # timing starts from this point for \"start_time\" variable\n",
    "random_search.fit(X_train_2,y_train_2)\n",
    "# timer(start_time) # timing ends here for \"start_time\" variable"
   ]
  },
  {
   "cell_type": "code",
   "execution_count": 44,
   "id": "5bff6b71",
   "metadata": {
    "execution": {
     "iopub.execute_input": "2021-11-23T19:49:56.513099Z",
     "iopub.status.busy": "2021-11-23T19:49:56.512313Z",
     "iopub.status.idle": "2021-11-23T19:49:56.530844Z",
     "shell.execute_reply": "2021-11-23T19:49:56.530419Z",
     "shell.execute_reply.started": "2021-11-23T15:29:31.215521Z"
    },
    "papermill": {
     "duration": 0.087942,
     "end_time": "2021-11-23T19:49:56.530954",
     "exception": false,
     "start_time": "2021-11-23T19:49:56.443012",
     "status": "completed"
    },
    "tags": []
   },
   "outputs": [
    {
     "name": "stdout",
     "output_type": "stream",
     "text": [
      "\n",
      " All results:\n",
      "{'mean_fit_time': array([127.50166512,  57.50388392,  85.27062138, 125.3002406 ,\n",
      "       121.12648368]), 'std_fit_time': array([ 2.94577878,  3.63370714,  1.14737827,  1.23058379, 29.48020907]), 'mean_score_time': array([1.39912478, 0.78369252, 1.15425603, 1.3367552 , 0.80376816]), 'std_score_time': array([0.15759981, 0.02020143, 0.12065085, 0.0756965 , 0.31641492]), 'param_n_estimators': masked_array(data=[100, 100, 100, 150, 150],\n",
      "             mask=[False, False, False, False, False],\n",
      "       fill_value='?',\n",
      "            dtype=object), 'param_max_depth': masked_array(data=[8, 4, 6, 6, 8],\n",
      "             mask=[False, False, False, False, False],\n",
      "       fill_value='?',\n",
      "            dtype=object), 'param_learning_rate': masked_array(data=[0.1, 0.1, 0.2, 0.2, 0.1],\n",
      "             mask=[False, False, False, False, False],\n",
      "       fill_value='?',\n",
      "            dtype=object), 'params': [{'n_estimators': 100, 'max_depth': 8, 'learning_rate': 0.1}, {'n_estimators': 100, 'max_depth': 4, 'learning_rate': 0.1}, {'n_estimators': 100, 'max_depth': 6, 'learning_rate': 0.2}, {'n_estimators': 150, 'max_depth': 6, 'learning_rate': 0.2}, {'n_estimators': 150, 'max_depth': 8, 'learning_rate': 0.1}], 'split0_test_score': array([0.70492708, 0.70706944, 0.70444553, 0.70226013, 0.70307298]), 'split1_test_score': array([0.70378114, 0.70739306, 0.70309558, 0.70101388, 0.70264996]), 'split2_test_score': array([0.70364672, 0.70694089, 0.70276116, 0.70101117, 0.70255565]), 'mean_test_score': array([0.70411831, 0.70713446, 0.70343409, 0.70142839, 0.70275953]), 'std_test_score': array([0.00057451, 0.00019024, 0.00072811, 0.00058813, 0.00022496]), 'rank_test_score': array([2, 1, 3, 5, 4], dtype=int32)}\n",
      "\n",
      " Best estimator:\n",
      "XGBClassifier(base_score=0.5, booster='gbtree', colsample_bylevel=1,\n",
      "              colsample_bynode=1, colsample_bytree=1, enable_categorical=False,\n",
      "              gamma=0, gpu_id=-1, importance_type=None,\n",
      "              interaction_constraints='', learning_rate=0.1, max_delta_step=0,\n",
      "              max_depth=4, min_child_weight=1, missing=nan,\n",
      "              monotone_constraints='()', n_estimators=100, n_jobs=2,\n",
      "              num_parallel_tree=1, predictor='auto', random_state=0,\n",
      "              reg_alpha=0, reg_lambda=1, scale_pos_weight=1, subsample=1,\n",
      "              tree_method='exact', validate_parameters=1, verbosity=None)\n",
      "\n",
      " Best normalized gini score for 3-fold search with 5 parameter combinations:\n",
      "0.41426892322892783\n",
      "\n",
      " Best hyperparameters:\n",
      "{'n_estimators': 100, 'max_depth': 4, 'learning_rate': 0.1}\n"
     ]
    }
   ],
   "source": [
    "print('\\n All results:')\n",
    "print(random_search.cv_results_)\n",
    "print('\\n Best estimator:')\n",
    "print(random_search.best_estimator_)\n",
    "print('\\n Best normalized gini score for %d-fold search with %d parameter combinations:' % (folds, param_comb))\n",
    "print(random_search.best_score_ * 2 - 1)\n",
    "print('\\n Best hyperparameters:')\n",
    "print(random_search.best_params_)\n",
    "results = pd.DataFrame(random_search.cv_results_)\n",
    "results.to_csv('xgb-random-grid-search-results-01.csv', index=False)"
   ]
  },
  {
   "cell_type": "code",
   "execution_count": 45,
   "id": "bda75821",
   "metadata": {
    "execution": {
     "iopub.execute_input": "2021-11-23T19:49:56.668896Z",
     "iopub.status.busy": "2021-11-23T19:49:56.668040Z",
     "iopub.status.idle": "2021-11-23T19:50:15.535559Z",
     "shell.execute_reply": "2021-11-23T19:50:15.534932Z",
     "shell.execute_reply.started": "2021-11-23T18:40:52.886330Z"
    },
    "papermill": {
     "duration": 18.938064,
     "end_time": "2021-11-23T19:50:15.535714",
     "exception": false,
     "start_time": "2021-11-23T19:49:56.597650",
     "status": "completed"
    },
    "tags": []
   },
   "outputs": [
    {
     "name": "stdout",
     "output_type": "stream",
     "text": [
      "[19:49:57] WARNING: ../src/learner.cc:1115: Starting in XGBoost 1.3.0, the default evaluation metric used with the objective 'binary:logistic' was changed from 'error' to 'logloss'. Explicitly set eval_metric if you'd like to restore the old behavior.\n"
     ]
    },
    {
     "data": {
      "text/plain": [
       "XGBClassifier(base_score=0.5, booster='gbtree', colsample_bylevel=1,\n",
       "              colsample_bynode=1, colsample_bytree=1.0,\n",
       "              enable_categorical=False, gamma=5, gpu_id=-1,\n",
       "              importance_type=None, interaction_constraints='',\n",
       "              learning_rate=0.2, max_delta_step=0, max_depth=4,\n",
       "              min_child_weight=5, missing=nan, monotone_constraints='()',\n",
       "              n_estimators=150, n_jobs=2, num_parallel_tree=1, predictor='auto',\n",
       "              random_state=0, reg_alpha=0, reg_lambda=1, scale_pos_weight=1,\n",
       "              subsample=1.0, tree_method='exact', validate_parameters=1,\n",
       "              verbosity=None)"
      ]
     },
     "execution_count": 45,
     "metadata": {},
     "output_type": "execute_result"
    }
   ],
   "source": [
    "model_2_hmtuned = XGBClassifier(n_estimators= 150, max_depth= 4, learning_rate= 0.2, subsample= 1.0, min_child_weight= 5, gamma= 5, colsample_bytree= 1.0)\n",
    " \n",
    "# fit the model with the training data\n",
    "model_2_hmtuned.fit(X_train_2,y_train_2)"
   ]
  },
  {
   "cell_type": "code",
   "execution_count": 46,
   "id": "149ef65c",
   "metadata": {
    "execution": {
     "iopub.execute_input": "2021-11-23T19:50:15.692920Z",
     "iopub.status.busy": "2021-11-23T19:50:15.691855Z",
     "iopub.status.idle": "2021-11-23T19:50:15.997343Z",
     "shell.execute_reply": "2021-11-23T19:50:15.996858Z",
     "shell.execute_reply.started": "2021-11-23T18:41:11.250121Z"
    },
    "papermill": {
     "duration": 0.384871,
     "end_time": "2021-11-23T19:50:15.997488",
     "exception": false,
     "start_time": "2021-11-23T19:50:15.612617",
     "status": "completed"
    },
    "tags": []
   },
   "outputs": [],
   "source": [
    "y_pred_proba_2 = model_2.predict_proba(X_valid_2)[:,1]\n",
    "roc_auc =  roc_auc_score(y_valid_2,y_pred_proba_2)\n",
    "y_pred_2 = model_2.predict(X_valid_2)\n",
    "accuracy =  accuracy_score(y_valid_2, y_pred_2)\n",
    "report = classification_report(y_valid_2, y_pred_2, output_dict=True)\n",
    "\n"
   ]
  },
  {
   "cell_type": "code",
   "execution_count": 47,
   "id": "58c94735",
   "metadata": {
    "execution": {
     "iopub.execute_input": "2021-11-23T19:50:16.139716Z",
     "iopub.status.busy": "2021-11-23T19:50:16.139079Z",
     "iopub.status.idle": "2021-11-23T19:50:16.141980Z",
     "shell.execute_reply": "2021-11-23T19:50:16.142413Z",
     "shell.execute_reply.started": "2021-11-23T18:41:11.558869Z"
    },
    "papermill": {
     "duration": 0.076381,
     "end_time": "2021-11-23T19:50:16.142538",
     "exception": false,
     "start_time": "2021-11-23T19:50:16.066157",
     "status": "completed"
    },
    "tags": []
   },
   "outputs": [
    {
     "name": "stdout",
     "output_type": "stream",
     "text": [
      "0.6810668339263553 0.9065899937886954\n"
     ]
    }
   ],
   "source": [
    "print(roc_auc, accuracy)"
   ]
  },
  {
   "cell_type": "markdown",
   "id": "eb20408b",
   "metadata": {
    "papermill": {
     "duration": 0.067677,
     "end_time": "2021-11-23T19:50:16.277682",
     "exception": false,
     "start_time": "2021-11-23T19:50:16.210005",
     "status": "completed"
    },
    "tags": []
   },
   "source": [
    "### Evaluation - XGBoost post Hyperparameter Tuning"
   ]
  },
  {
   "cell_type": "code",
   "execution_count": 48,
   "id": "9663c56b",
   "metadata": {
    "execution": {
     "iopub.execute_input": "2021-11-23T19:50:16.417752Z",
     "iopub.status.busy": "2021-11-23T19:50:16.416715Z",
     "iopub.status.idle": "2021-11-23T19:50:16.634983Z",
     "shell.execute_reply": "2021-11-23T19:50:16.634525Z",
     "shell.execute_reply.started": "2021-11-23T18:41:11.568179Z"
    },
    "papermill": {
     "duration": 0.289956,
     "end_time": "2021-11-23T19:50:16.635117",
     "exception": false,
     "start_time": "2021-11-23T19:50:16.345161",
     "status": "completed"
    },
    "tags": []
   },
   "outputs": [],
   "source": [
    "y_pred_proba_2 = model_2_hmtuned.predict_proba(X_valid_2)[:,1]\n",
    "roc_auc =  roc_auc_score(y_valid_2,y_pred_proba_2)\n",
    "y_pred_2 = model_2_hmtuned.predict(X_valid_2)\n",
    "accuracy =  accuracy_score(y_valid_2, y_pred_2)\n",
    "report = classification_report(y_valid_2, y_pred_2, output_dict=True)\n",
    "\n",
    "\n"
   ]
  },
  {
   "cell_type": "code",
   "execution_count": 49,
   "id": "a66f19d6",
   "metadata": {
    "execution": {
     "iopub.execute_input": "2021-11-23T19:50:16.776488Z",
     "iopub.status.busy": "2021-11-23T19:50:16.775860Z",
     "iopub.status.idle": "2021-11-23T19:50:16.778683Z",
     "shell.execute_reply": "2021-11-23T19:50:16.779098Z",
     "shell.execute_reply.started": "2021-11-23T18:41:11.795270Z"
    },
    "papermill": {
     "duration": 0.075315,
     "end_time": "2021-11-23T19:50:16.779229",
     "exception": false,
     "start_time": "2021-11-23T19:50:16.703914",
     "status": "completed"
    },
    "tags": []
   },
   "outputs": [
    {
     "name": "stdout",
     "output_type": "stream",
     "text": [
      "0.7056900130929592 0.9065699573223266\n"
     ]
    }
   ],
   "source": [
    "print(roc_auc, accuracy)"
   ]
  },
  {
   "cell_type": "code",
   "execution_count": 50,
   "id": "c631b5dd",
   "metadata": {
    "execution": {
     "iopub.execute_input": "2021-11-23T19:50:16.939434Z",
     "iopub.status.busy": "2021-11-23T19:50:16.938187Z",
     "iopub.status.idle": "2021-11-23T19:50:16.941947Z",
     "shell.execute_reply": "2021-11-23T19:50:16.942689Z",
     "shell.execute_reply.started": "2021-11-23T19:17:37.022097Z"
    },
    "papermill": {
     "duration": 0.09513,
     "end_time": "2021-11-23T19:50:16.942872",
     "exception": false,
     "start_time": "2021-11-23T19:50:16.847742",
     "status": "completed"
    },
    "tags": []
   },
   "outputs": [
    {
     "name": "stdout",
     "output_type": "stream",
     "text": [
      "49905 4\n"
     ]
    }
   ],
   "source": [
    "# count examples in each class\n",
    "counter = Counter(y_pred_2)\n",
    "print(counter[0] , counter[1])"
   ]
  },
  {
   "cell_type": "markdown",
   "id": "a9ecd66d",
   "metadata": {
    "papermill": {
     "duration": 0.067564,
     "end_time": "2021-11-23T19:50:17.081319",
     "exception": false,
     "start_time": "2021-11-23T19:50:17.013755",
     "status": "completed"
    },
    "tags": []
   },
   "source": [
    "# To avoid heavy class imbalance problem, tuning class weights scale"
   ]
  },
  {
   "cell_type": "code",
   "execution_count": 51,
   "id": "13bcce9c",
   "metadata": {
    "execution": {
     "iopub.execute_input": "2021-11-23T19:50:17.222425Z",
     "iopub.status.busy": "2021-11-23T19:50:17.221602Z",
     "iopub.status.idle": "2021-11-23T19:50:17.223490Z",
     "shell.execute_reply": "2021-11-23T19:50:17.223975Z",
     "shell.execute_reply.started": "2021-11-23T18:41:11.948533Z"
    },
    "papermill": {
     "duration": 0.074409,
     "end_time": "2021-11-23T19:50:17.224122",
     "exception": false,
     "start_time": "2021-11-23T19:50:17.149713",
     "status": "completed"
    },
    "tags": []
   },
   "outputs": [],
   "source": [
    "# NOTE: this approach does NOT yield any good results (#BLOG)\n",
    "\n",
    "weights = [1, 10, 25, 50, 75, 99, 100, 1000]\n",
    "param_grid = dict(scale_pos_weight=weights)"
   ]
  },
  {
   "cell_type": "code",
   "execution_count": 52,
   "id": "382eb00b",
   "metadata": {
    "execution": {
     "iopub.execute_input": "2021-11-23T19:50:17.368149Z",
     "iopub.status.busy": "2021-11-23T19:50:17.367086Z",
     "iopub.status.idle": "2021-11-23T19:56:01.387123Z",
     "shell.execute_reply": "2021-11-23T19:56:01.387849Z",
     "shell.execute_reply.started": "2021-11-23T16:45:47.795279Z"
    },
    "papermill": {
     "duration": 344.095744,
     "end_time": "2021-11-23T19:56:01.388018",
     "exception": false,
     "start_time": "2021-11-23T19:50:17.292274",
     "status": "completed"
    },
    "tags": []
   },
   "outputs": [
    {
     "name": "stdout",
     "output_type": "stream",
     "text": [
      "Fitting 3 folds for each of 5 candidates, totalling 15 fits\n"
     ]
    },
    {
     "name": "stderr",
     "output_type": "stream",
     "text": [
      "[Parallel(n_jobs=4)]: Using backend LokyBackend with 4 concurrent workers.\n",
      "[Parallel(n_jobs=4)]: Done  15 out of  15 | elapsed:  5.4min finished\n",
      "The use of label encoder in XGBClassifier is deprecated and will be removed in a future release. To remove this warning, do the following: 1) Pass option use_label_encoder=False when constructing XGBClassifier object; and 2) Encode your labels (y) as integers starting with 0, i.e. 0, 1, 2, ..., [num_class - 1].\n"
     ]
    },
    {
     "name": "stdout",
     "output_type": "stream",
     "text": [
      "[19:55:43] WARNING: ../src/learner.cc:1115: Starting in XGBoost 1.3.0, the default evaluation metric used with the objective 'binary:logistic' was changed from 'error' to 'logloss'. Explicitly set eval_metric if you'd like to restore the old behavior.\n",
      "Best: 0.698693 using {'scale_pos_weight': 1}\n",
      "0.676255 (0.000262) with: {'scale_pos_weight': 100}\n",
      "0.687718 (0.000856) with: {'scale_pos_weight': 25}\n",
      "0.677411 (0.000581) with: {'scale_pos_weight': 75}\n",
      "0.698693 (0.000728) with: {'scale_pos_weight': 1}\n",
      "0.681831 (0.001479) with: {'scale_pos_weight': 50}\n"
     ]
    }
   ],
   "source": [
    "# NOTE: this approach does NOT yield any good results\n",
    "\n",
    "\n",
    "# define evaluation procedure\n",
    "cv = RepeatedStratifiedKFold(n_splits=10, n_repeats=3, random_state=1)\n",
    "\n",
    "# define grid search\n",
    "# grid = GridSearchCV(estimator=model_2_hmtuned, param_grid=param_grid, n_jobs=-1, cv=cv, scoring='roc_auc')\n",
    "# # execute the grid search\n",
    "# grid_result = grid.fit(X_train_2,y_train_2)\n",
    "\n",
    "grid_result = RandomizedSearchCV(model_2, param_distributions=param_grid, n_iter=param_comb, scoring='roc_auc', n_jobs=4, cv=skf.split(X_train_2,y_train_2), verbose=3, random_state=1001 )\n",
    "\n",
    "grid_result.fit(X_train_2,y_train_2)\n",
    "\n",
    "# report the best configuration\n",
    "print(\"Best: %f using %s\" % (grid_result.best_score_, grid_result.best_params_))\n",
    "# report all configurations\n",
    "means = grid_result.cv_results_['mean_test_score']\n",
    "stds = grid_result.cv_results_['std_test_score']\n",
    "params = grid_result.cv_results_['params']\n",
    "for mean, stdev, param in zip(means, stds, params):\n",
    "    print(\"%f (%f) with: %r\" % (mean, stdev, param))"
   ]
  },
  {
   "cell_type": "code",
   "execution_count": 53,
   "id": "4aec6ddf",
   "metadata": {
    "execution": {
     "iopub.execute_input": "2021-11-23T19:56:01.532904Z",
     "iopub.status.busy": "2021-11-23T19:56:01.532146Z",
     "iopub.status.idle": "2021-11-23T19:56:19.566309Z",
     "shell.execute_reply": "2021-11-23T19:56:19.566766Z",
     "shell.execute_reply.started": "2021-11-23T17:09:36.412818Z"
    },
    "papermill": {
     "duration": 18.108928,
     "end_time": "2021-11-23T19:56:19.566929",
     "exception": false,
     "start_time": "2021-11-23T19:56:01.458001",
     "status": "completed"
    },
    "tags": []
   },
   "outputs": [
    {
     "name": "stdout",
     "output_type": "stream",
     "text": [
      "[19:56:02] WARNING: ../src/learner.cc:1115: Starting in XGBoost 1.3.0, the default evaluation metric used with the objective 'binary:logistic' was changed from 'error' to 'logloss'. Explicitly set eval_metric if you'd like to restore the old behavior.\n"
     ]
    },
    {
     "data": {
      "text/plain": [
       "XGBClassifier(base_score=0.5, booster='gbtree', colsample_bylevel=1,\n",
       "              colsample_bynode=1, colsample_bytree=1.0,\n",
       "              enable_categorical=False, gamma=5, gpu_id=-1,\n",
       "              importance_type=None, interaction_constraints='',\n",
       "              learning_rate=0.2, max_delta_step=0, max_depth=4,\n",
       "              min_child_weight=5, missing=nan, monotone_constraints='()',\n",
       "              n_estimators=150, n_jobs=2, num_parallel_tree=1, predictor='auto',\n",
       "              random_state=0, reg_alpha=0, reg_lambda=1, scale_pos_weight=9,\n",
       "              subsample=1.0, tree_method='exact', validate_parameters=1,\n",
       "              verbosity=None)"
      ]
     },
     "execution_count": 53,
     "metadata": {},
     "output_type": "execute_result"
    }
   ],
   "source": [
    "# NOTE: this approach does NOT yield any good results\n",
    "\n",
    "\n",
    "scale_pos_weight = 9\n",
    "model_2_cw = XGBClassifier(n_estimators= 150, scale_pos_weight = scale_pos_weight, max_depth= 4, learning_rate= 0.2, subsample= 1.0, min_child_weight= 5, gamma= 5, colsample_bytree= 1.0)\n",
    " \n",
    "# fit the model with the training data\n",
    "model_2_cw.fit(X_train_2,y_train_2)"
   ]
  },
  {
   "cell_type": "code",
   "execution_count": 54,
   "id": "a8185a9e",
   "metadata": {
    "execution": {
     "iopub.execute_input": "2021-11-23T19:56:19.716136Z",
     "iopub.status.busy": "2021-11-23T19:56:19.715192Z",
     "iopub.status.idle": "2021-11-23T19:56:19.983706Z",
     "shell.execute_reply": "2021-11-23T19:56:19.984126Z",
     "shell.execute_reply.started": "2021-11-23T17:16:09.393225Z"
    },
    "papermill": {
     "duration": 0.34622,
     "end_time": "2021-11-23T19:56:19.984291",
     "exception": false,
     "start_time": "2021-11-23T19:56:19.638071",
     "status": "completed"
    },
    "tags": []
   },
   "outputs": [],
   "source": [
    "# NOTE: this approach does NOT yield any good results\n",
    "\n",
    "\n",
    "y_pred_proba_cw = model_2_cw.predict_proba(X_valid_2)[:,1]\n",
    "roc_auc =  roc_auc_score(y_valid_2,y_pred_proba_cw)\n",
    "y_pred_cw = model_2_cw.predict(X_valid_2)\n",
    "accuracy =  accuracy_score(y_valid_2, y_pred_cw)\n",
    "report = classification_report(y_valid_2, y_pred_cw, output_dict=True)\n"
   ]
  },
  {
   "cell_type": "code",
   "execution_count": 55,
   "id": "659b893c",
   "metadata": {
    "execution": {
     "iopub.execute_input": "2021-11-23T19:56:20.133144Z",
     "iopub.status.busy": "2021-11-23T19:56:20.132317Z",
     "iopub.status.idle": "2021-11-23T19:56:20.136286Z",
     "shell.execute_reply": "2021-11-23T19:56:20.136713Z",
     "shell.execute_reply.started": "2021-11-23T17:16:36.096762Z"
    },
    "papermill": {
     "duration": 0.080388,
     "end_time": "2021-11-23T19:56:20.136837",
     "exception": false,
     "start_time": "2021-11-23T19:56:20.056449",
     "status": "completed"
    },
    "tags": []
   },
   "outputs": [
    {
     "name": "stdout",
     "output_type": "stream",
     "text": [
      "0.7018531235763898 0.6442926125548498\n"
     ]
    },
    {
     "data": {
      "text/plain": [
       "{'0': {'precision': 0.9455193647707016,\n",
       "  'recall': 0.6447862794501171,\n",
       "  'f1-score': 0.7667179143506656,\n",
       "  'support': 45246},\n",
       " '1': {'precision': 0.1565025716385011,\n",
       "  'recall': 0.6395024662234613,\n",
       "  'f1-score': 0.25146519374288484,\n",
       "  'support': 4663},\n",
       " 'accuracy': 0.6442926125548498,\n",
       " 'macro avg': {'precision': 0.5510109682046014,\n",
       "  'recall': 0.6421443728367893,\n",
       "  'f1-score': 0.5090915540467752,\n",
       "  'support': 49909},\n",
       " 'weighted avg': {'precision': 0.8718014921149592,\n",
       "  'recall': 0.6442926125548498,\n",
       "  'f1-score': 0.7185778306744934,\n",
       "  'support': 49909}}"
      ]
     },
     "execution_count": 55,
     "metadata": {},
     "output_type": "execute_result"
    }
   ],
   "source": [
    "print(roc_auc, accuracy)\n",
    "report"
   ]
  },
  {
   "cell_type": "code",
   "execution_count": 56,
   "id": "2efd4d5a",
   "metadata": {
    "execution": {
     "iopub.execute_input": "2021-11-23T19:56:20.298829Z",
     "iopub.status.busy": "2021-11-23T19:56:20.298200Z",
     "iopub.status.idle": "2021-11-23T19:56:20.300832Z",
     "shell.execute_reply": "2021-11-23T19:56:20.301283Z",
     "shell.execute_reply.started": "2021-11-23T17:19:23.310387Z"
    },
    "papermill": {
     "duration": 0.094306,
     "end_time": "2021-11-23T19:56:20.301422",
     "exception": false,
     "start_time": "2021-11-23T19:56:20.207116",
     "status": "completed"
    },
    "tags": []
   },
   "outputs": [
    {
     "name": "stdout",
     "output_type": "stream",
     "text": [
      "30855 19054\n"
     ]
    }
   ],
   "source": [
    "from collections import Counter\n",
    "\n",
    "# count examples in each class\n",
    "counter = Counter(y_pred_cw)\n",
    "print(counter[0] , counter[1])\n",
    "# estimate scale_pos_weight value\n",
    "# estimate = counter[0] / counter[1]\n",
    "# print('Estimate: %.3f' % estimate)"
   ]
  },
  {
   "cell_type": "markdown",
   "id": "14a6c429",
   "metadata": {
    "papermill": {
     "duration": 0.07038,
     "end_time": "2021-11-23T19:56:20.442290",
     "exception": false,
     "start_time": "2021-11-23T19:56:20.371910",
     "status": "completed"
    },
    "tags": []
   },
   "source": [
    "### Class weights"
   ]
  },
  {
   "cell_type": "code",
   "execution_count": 57,
   "id": "91feef50",
   "metadata": {
    "execution": {
     "iopub.execute_input": "2021-11-23T19:56:20.588755Z",
     "iopub.status.busy": "2021-11-23T19:56:20.587987Z",
     "iopub.status.idle": "2021-11-23T19:56:20.665626Z",
     "shell.execute_reply": "2021-11-23T19:56:20.665072Z",
     "shell.execute_reply.started": "2021-11-23T18:55:50.653633Z"
    },
    "papermill": {
     "duration": 0.152333,
     "end_time": "2021-11-23T19:56:20.665743",
     "exception": false,
     "start_time": "2021-11-23T19:56:20.513410",
     "status": "completed"
    },
    "tags": []
   },
   "outputs": [],
   "source": [
    "from sklearn.utils import class_weight\n",
    "\n",
    "# assigining class weight to balanced does NOT yield any good results/makes NO difference (#BLOG)\n",
    "\n",
    "classes_weights = class_weight.compute_sample_weight(\n",
    "    # this took manual tuning\n",
    "    class_weight={0:0.18, 1:0.82},\n",
    "    y=y_train_2\n",
    ")"
   ]
  },
  {
   "cell_type": "code",
   "execution_count": 58,
   "id": "05db994b",
   "metadata": {
    "execution": {
     "iopub.execute_input": "2021-11-23T19:56:20.812895Z",
     "iopub.status.busy": "2021-11-23T19:56:20.812136Z",
     "iopub.status.idle": "2021-11-23T19:56:39.797410Z",
     "shell.execute_reply": "2021-11-23T19:56:39.797972Z",
     "shell.execute_reply.started": "2021-11-23T18:50:17.340041Z"
    },
    "papermill": {
     "duration": 19.061145,
     "end_time": "2021-11-23T19:56:39.798142",
     "exception": false,
     "start_time": "2021-11-23T19:56:20.736997",
     "status": "completed"
    },
    "tags": []
   },
   "outputs": [
    {
     "name": "stderr",
     "output_type": "stream",
     "text": [
      "The use of label encoder in XGBClassifier is deprecated and will be removed in a future release. To remove this warning, do the following: 1) Pass option use_label_encoder=False when constructing XGBClassifier object; and 2) Encode your labels (y) as integers starting with 0, i.e. 0, 1, 2, ..., [num_class - 1].\n"
     ]
    },
    {
     "name": "stdout",
     "output_type": "stream",
     "text": [
      "[19:56:21] WARNING: ../src/learner.cc:1115: Starting in XGBoost 1.3.0, the default evaluation metric used with the objective 'binary:logistic' was changed from 'error' to 'logloss'. Explicitly set eval_metric if you'd like to restore the old behavior.\n"
     ]
    },
    {
     "data": {
      "text/plain": [
       "XGBClassifier(base_score=0.5, booster='gbtree', colsample_bylevel=1,\n",
       "              colsample_bynode=1, colsample_bytree=1.0,\n",
       "              enable_categorical=False, gamma=5, gpu_id=-1,\n",
       "              importance_type=None, interaction_constraints='',\n",
       "              learning_rate=0.2, max_delta_step=0, max_depth=4,\n",
       "              min_child_weight=5, missing=nan, monotone_constraints='()',\n",
       "              n_estimators=150, n_jobs=2, num_parallel_tree=1, predictor='auto',\n",
       "              random_state=0, reg_alpha=0, reg_lambda=1, scale_pos_weight=1,\n",
       "              subsample=1.0, tree_method='exact', validate_parameters=1,\n",
       "              verbosity=None)"
      ]
     },
     "execution_count": 58,
     "metadata": {},
     "output_type": "execute_result"
    }
   ],
   "source": [
    "model_2_cw = XGBClassifier(n_estimators= 150, max_depth= 4, learning_rate= 0.2, subsample= 1.0, min_child_weight= 5, gamma= 5, colsample_bytree= 1.0)\n",
    "\n",
    "model_2_cw.fit(X_train_2, y_train_2, sample_weight=classes_weights)"
   ]
  },
  {
   "cell_type": "code",
   "execution_count": 59,
   "id": "7de38a32",
   "metadata": {
    "execution": {
     "iopub.execute_input": "2021-11-23T19:56:39.950273Z",
     "iopub.status.busy": "2021-11-23T19:56:39.949143Z",
     "iopub.status.idle": "2021-11-23T19:56:40.024890Z",
     "shell.execute_reply": "2021-11-23T19:56:40.025391Z",
     "shell.execute_reply.started": "2021-11-23T18:50:36.358745Z"
    },
    "papermill": {
     "duration": 0.153324,
     "end_time": "2021-11-23T19:56:40.025553",
     "exception": false,
     "start_time": "2021-11-23T19:56:39.872229",
     "status": "completed"
    },
    "tags": []
   },
   "outputs": [],
   "source": [
    "y_pred_cw = model_2_cw.predict(X_valid_2)\n"
   ]
  },
  {
   "cell_type": "code",
   "execution_count": 60,
   "id": "2177f98c",
   "metadata": {
    "execution": {
     "iopub.execute_input": "2021-11-23T19:56:40.193884Z",
     "iopub.status.busy": "2021-11-23T19:56:40.193204Z",
     "iopub.status.idle": "2021-11-23T19:56:40.195900Z",
     "shell.execute_reply": "2021-11-23T19:56:40.196402Z",
     "shell.execute_reply.started": "2021-11-23T18:50:36.440573Z"
    },
    "papermill": {
     "duration": 0.095773,
     "end_time": "2021-11-23T19:56:40.196534",
     "exception": false,
     "start_time": "2021-11-23T19:56:40.100761",
     "status": "completed"
    },
    "tags": []
   },
   "outputs": [
    {
     "name": "stdout",
     "output_type": "stream",
     "text": [
      "45164 4745\n"
     ]
    }
   ],
   "source": [
    "from collections import Counter\n",
    "# count examples in each class\n",
    "counter = Counter(y_pred_cw)\n",
    "print(counter[0] , counter[1])"
   ]
  },
  {
   "cell_type": "code",
   "execution_count": 61,
   "id": "c61fc848",
   "metadata": {
    "execution": {
     "iopub.execute_input": "2021-11-23T19:56:40.344902Z",
     "iopub.status.busy": "2021-11-23T19:56:40.344173Z",
     "iopub.status.idle": "2021-11-23T19:56:40.349295Z",
     "shell.execute_reply": "2021-11-23T19:56:40.349740Z",
     "shell.execute_reply.started": "2021-11-23T18:50:36.467720Z"
    },
    "papermill": {
     "duration": 0.080994,
     "end_time": "2021-11-23T19:56:40.349864",
     "exception": false,
     "start_time": "2021-11-23T19:56:40.268870",
     "status": "completed"
    },
    "tags": []
   },
   "outputs": [
    {
     "data": {
      "text/plain": [
       "0    45246\n",
       "1     4663\n",
       "Name: goal_ind, dtype: int64"
      ]
     },
     "execution_count": 61,
     "metadata": {},
     "output_type": "execute_result"
    }
   ],
   "source": [
    "y_valid_2.value_counts()"
   ]
  },
  {
   "cell_type": "markdown",
   "id": "2eda504d",
   "metadata": {
    "papermill": {
     "duration": 0.071784,
     "end_time": "2021-11-23T19:56:40.493700",
     "exception": false,
     "start_time": "2021-11-23T19:56:40.421916",
     "status": "completed"
    },
    "tags": []
   },
   "source": [
    "### Evaluation - XGBoost post Class Weights (5.2)"
   ]
  },
  {
   "cell_type": "code",
   "execution_count": 62,
   "id": "d46a5c80",
   "metadata": {
    "execution": {
     "iopub.execute_input": "2021-11-23T19:56:40.668996Z",
     "iopub.status.busy": "2021-11-23T19:56:40.667995Z",
     "iopub.status.idle": "2021-11-23T19:56:41.099858Z",
     "shell.execute_reply": "2021-11-23T19:56:41.100895Z",
     "shell.execute_reply.started": "2021-11-23T18:50:36.478514Z"
    },
    "papermill": {
     "duration": 0.535064,
     "end_time": "2021-11-23T19:56:41.101132",
     "exception": false,
     "start_time": "2021-11-23T19:56:40.566068",
     "status": "completed"
    },
    "tags": []
   },
   "outputs": [
    {
     "name": "stdout",
     "output_type": "stream",
     "text": [
      "0.7050266274250434 0.8600252459476246\n"
     ]
    },
    {
     "data": {
      "text/plain": [
       "{'0': {'precision': 0.9235674430962714,\n",
       "  'recall': 0.9218936480572868,\n",
       "  'f1-score': 0.9227297865280388,\n",
       "  'support': 45246},\n",
       " '1': {'precision': 0.25521601685985246,\n",
       "  'recall': 0.25970405318464507,\n",
       "  'f1-score': 0.25744047619047616,\n",
       "  'support': 4663},\n",
       " 'accuracy': 0.8600252459476246,\n",
       " 'macro avg': {'precision': 0.5893917299780619,\n",
       "  'recall': 0.5907988506209659,\n",
       "  'f1-score': 0.5900851313592574,\n",
       "  'support': 49909},\n",
       " 'weighted avg': {'precision': 0.8611233408193188,\n",
       "  'recall': 0.8600252459476246,\n",
       "  'f1-score': 0.8605717778702004,\n",
       "  'support': 49909}}"
      ]
     },
     "execution_count": 62,
     "metadata": {},
     "output_type": "execute_result"
    }
   ],
   "source": [
    "y_pred_proba_cw = model_2_cw.predict_proba(X_valid_2)[:,1]\n",
    "roc_auc =  roc_auc_score(y_valid_2,y_pred_proba_cw)\n",
    "y_pred_cw = model_2_cw.predict(X_valid_2)\n",
    "accuracy =  accuracy_score(y_valid_2, y_pred_cw)\n",
    "report = classification_report(y_valid_2, y_pred_cw, output_dict=True)\n",
    "\n",
    "print(roc_auc, accuracy)\n",
    "report\n",
    "\n"
   ]
  },
  {
   "cell_type": "markdown",
   "id": "fe68e2b3",
   "metadata": {
    "papermill": {
     "duration": 0.121855,
     "end_time": "2021-11-23T19:56:41.346799",
     "exception": false,
     "start_time": "2021-11-23T19:56:41.224944",
     "status": "completed"
    },
    "tags": []
   },
   "source": [
    "# Feature Selection (5.3)"
   ]
  },
  {
   "cell_type": "code",
   "execution_count": 63,
   "id": "81689d0e",
   "metadata": {
    "execution": {
     "iopub.execute_input": "2021-11-23T19:56:41.592871Z",
     "iopub.status.busy": "2021-11-23T19:56:41.592091Z",
     "iopub.status.idle": "2021-11-23T19:56:41.597384Z",
     "shell.execute_reply": "2021-11-23T19:56:41.597993Z",
     "shell.execute_reply.started": "2021-11-23T18:50:36.710629Z"
    },
    "papermill": {
     "duration": 0.132529,
     "end_time": "2021-11-23T19:56:41.598180",
     "exception": false,
     "start_time": "2021-11-23T19:56:41.465651",
     "status": "completed"
    },
    "tags": []
   },
   "outputs": [
    {
     "data": {
      "text/plain": [
       "2"
      ]
     },
     "execution_count": 63,
     "metadata": {},
     "output_type": "execute_result"
    }
   ],
   "source": [
    "y_valid_1.nunique()"
   ]
  },
  {
   "cell_type": "code",
   "execution_count": 64,
   "id": "88d784e0",
   "metadata": {
    "execution": {
     "iopub.execute_input": "2021-11-23T19:56:41.807232Z",
     "iopub.status.busy": "2021-11-23T19:56:41.806385Z",
     "iopub.status.idle": "2021-11-23T19:57:11.654511Z",
     "shell.execute_reply": "2021-11-23T19:57:11.654942Z",
     "shell.execute_reply.started": "2021-11-23T18:50:51.235908Z"
    },
    "papermill": {
     "duration": 29.938283,
     "end_time": "2021-11-23T19:57:11.655113",
     "exception": false,
     "start_time": "2021-11-23T19:56:41.716830",
     "status": "completed"
    },
    "tags": []
   },
   "outputs": [
    {
     "name": "stderr",
     "output_type": "stream",
     "text": [
      "ntree_limit is deprecated, use `iteration_range` or model slicing instead.\n"
     ]
    },
    {
     "data": {
      "image/png": "[encoded data removed]",
      "text/plain": [
       "<Figure size 576x309.6 with 2 Axes>"
      ]
     },
     "metadata": {
      "needs_background": "light"
     },
     "output_type": "display_data"
    }
   ],
   "source": [
    "## To also visualize the importance of class weight and stratifying the data, \n",
    "# the difference between the feature importance graphs could be helpful(#BLOG)\n",
    "\n",
    "explainer_2 = shap.Explainer(model_2_cw)\n",
    "shap_values_2 = explainer_2(X_train_2)\n",
    "\n",
    "shap.summary_plot(shap_values_2, X_train_2)"
   ]
  },
  {
   "cell_type": "markdown",
   "id": "ddb5e2bd",
   "metadata": {
    "papermill": {
     "duration": 0.077099,
     "end_time": "2021-11-23T19:57:11.808524",
     "exception": false,
     "start_time": "2021-11-23T19:57:11.731425",
     "status": "completed"
    },
    "tags": []
   },
   "source": [
    "### Applying Recursive Feature Elimination"
   ]
  },
  {
   "cell_type": "code",
   "execution_count": 65,
   "id": "6b4bb8a7",
   "metadata": {
    "execution": {
     "iopub.execute_input": "2021-11-23T19:57:11.977273Z",
     "iopub.status.busy": "2021-11-23T19:57:11.976678Z",
     "iopub.status.idle": "2021-11-23T19:58:46.001939Z",
     "shell.execute_reply": "2021-11-23T19:58:46.001357Z",
     "shell.execute_reply.started": "2021-11-23T19:04:10.659279Z"
    },
    "papermill": {
     "duration": 94.108095,
     "end_time": "2021-11-23T19:58:46.002082",
     "exception": false,
     "start_time": "2021-11-23T19:57:11.893987",
     "status": "completed"
    },
    "tags": []
   },
   "outputs": [
    {
     "name": "stderr",
     "output_type": "stream",
     "text": [
      "The use of label encoder in XGBClassifier is deprecated and will be removed in a future release. To remove this warning, do the following: 1) Pass option use_label_encoder=False when constructing XGBClassifier object; and 2) Encode your labels (y) as integers starting with 0, i.e. 0, 1, 2, ..., [num_class - 1].\n"
     ]
    },
    {
     "name": "stdout",
     "output_type": "stream",
     "text": [
      "[19:57:12] WARNING: ../src/learner.cc:1115: Starting in XGBoost 1.3.0, the default evaluation metric used with the objective 'binary:logistic' was changed from 'error' to 'logloss'. Explicitly set eval_metric if you'd like to restore the old behavior.\n",
      "Thresh=0.024, n=7, Accuracy: 86.00%\n"
     ]
    },
    {
     "name": "stderr",
     "output_type": "stream",
     "text": [
      "The use of label encoder in XGBClassifier is deprecated and will be removed in a future release. To remove this warning, do the following: 1) Pass option use_label_encoder=False when constructing XGBClassifier object; and 2) Encode your labels (y) as integers starting with 0, i.e. 0, 1, 2, ..., [num_class - 1].\n"
     ]
    },
    {
     "name": "stdout",
     "output_type": "stream",
     "text": [
      "[19:57:31] WARNING: ../src/learner.cc:1115: Starting in XGBoost 1.3.0, the default evaluation metric used with the objective 'binary:logistic' was changed from 'error' to 'logloss'. Explicitly set eval_metric if you'd like to restore the old behavior.\n",
      "Thresh=0.047, n=6, Accuracy: 85.92%\n"
     ]
    },
    {
     "name": "stderr",
     "output_type": "stream",
     "text": [
      "The use of label encoder in XGBClassifier is deprecated and will be removed in a future release. To remove this warning, do the following: 1) Pass option use_label_encoder=False when constructing XGBClassifier object; and 2) Encode your labels (y) as integers starting with 0, i.e. 0, 1, 2, ..., [num_class - 1].\n"
     ]
    },
    {
     "name": "stdout",
     "output_type": "stream",
     "text": [
      "[19:57:48] WARNING: ../src/learner.cc:1115: Starting in XGBoost 1.3.0, the default evaluation metric used with the objective 'binary:logistic' was changed from 'error' to 'logloss'. Explicitly set eval_metric if you'd like to restore the old behavior.\n",
      "Thresh=0.049, n=5, Accuracy: 85.38%\n"
     ]
    },
    {
     "name": "stderr",
     "output_type": "stream",
     "text": [
      "The use of label encoder in XGBClassifier is deprecated and will be removed in a future release. To remove this warning, do the following: 1) Pass option use_label_encoder=False when constructing XGBClassifier object; and 2) Encode your labels (y) as integers starting with 0, i.e. 0, 1, 2, ..., [num_class - 1].\n"
     ]
    },
    {
     "name": "stdout",
     "output_type": "stream",
     "text": [
      "[19:58:04] WARNING: ../src/learner.cc:1115: Starting in XGBoost 1.3.0, the default evaluation metric used with the objective 'binary:logistic' was changed from 'error' to 'logloss'. Explicitly set eval_metric if you'd like to restore the old behavior.\n",
      "Thresh=0.081, n=4, Accuracy: 85.18%\n"
     ]
    },
    {
     "name": "stderr",
     "output_type": "stream",
     "text": [
      "The use of label encoder in XGBClassifier is deprecated and will be removed in a future release. To remove this warning, do the following: 1) Pass option use_label_encoder=False when constructing XGBClassifier object; and 2) Encode your labels (y) as integers starting with 0, i.e. 0, 1, 2, ..., [num_class - 1].\n"
     ]
    },
    {
     "name": "stdout",
     "output_type": "stream",
     "text": [
      "[19:58:17] WARNING: ../src/learner.cc:1115: Starting in XGBoost 1.3.0, the default evaluation metric used with the objective 'binary:logistic' was changed from 'error' to 'logloss'. Explicitly set eval_metric if you'd like to restore the old behavior.\n",
      "Thresh=0.170, n=3, Accuracy: 85.28%\n"
     ]
    },
    {
     "name": "stderr",
     "output_type": "stream",
     "text": [
      "The use of label encoder in XGBClassifier is deprecated and will be removed in a future release. To remove this warning, do the following: 1) Pass option use_label_encoder=False when constructing XGBClassifier object; and 2) Encode your labels (y) as integers starting with 0, i.e. 0, 1, 2, ..., [num_class - 1].\n"
     ]
    },
    {
     "name": "stdout",
     "output_type": "stream",
     "text": [
      "[19:58:30] WARNING: ../src/learner.cc:1115: Starting in XGBoost 1.3.0, the default evaluation metric used with the objective 'binary:logistic' was changed from 'error' to 'logloss'. Explicitly set eval_metric if you'd like to restore the old behavior.\n",
      "Thresh=0.310, n=2, Accuracy: 85.65%\n",
      "[19:58:40] WARNING: ../src/learner.cc:1115: Starting in XGBoost 1.3.0, the default evaluation metric used with the objective 'binary:logistic' was changed from 'error' to 'logloss'. Explicitly set eval_metric if you'd like to restore the old behavior.\n"
     ]
    },
    {
     "name": "stderr",
     "output_type": "stream",
     "text": [
      "The use of label encoder in XGBClassifier is deprecated and will be removed in a future release. To remove this warning, do the following: 1) Pass option use_label_encoder=False when constructing XGBClassifier object; and 2) Encode your labels (y) as integers starting with 0, i.e. 0, 1, 2, ..., [num_class - 1].\n"
     ]
    },
    {
     "name": "stdout",
     "output_type": "stream",
     "text": [
      "Thresh=0.320, n=1, Accuracy: 88.81%\n"
     ]
    }
   ],
   "source": [
    "#adapted from https://machinelearningmastery.com/feature-importance-and-feature-selection-with-xgboost-in-python/\n",
    "# from numpy import sort\n",
    "from sklearn.feature_selection import SelectFromModel\n",
    "#\n",
    "thresholds = np.sort(model_2_cw.feature_importances_)\n",
    "for thresh in thresholds:\n",
    "    # select features using threshold\n",
    "    selection = SelectFromModel(model_2_cw, threshold=thresh, prefit=True)\n",
    "    select_X_train_2 = selection.transform(X_train_2)\n",
    "    # train model\n",
    "    selection_model = XGBClassifier(n_estimators= 150, max_depth= 4, learning_rate= 0.2, subsample= 1.0, min_child_weight= 5, gamma= 5, colsample_bytree= 1.0)\n",
    "    selection_model.fit(select_X_train_2, y_train_2, sample_weight=classes_weights)\n",
    "    # eval model\n",
    "    select_X_valid_2 = selection.transform(X_valid_2)\n",
    "    y_pred = selection_model.predict(select_X_valid_2)\n",
    "    predictions = [round(value) for value in y_pred]\n",
    "    accuracy = accuracy_score(y_valid_2, predictions)\n",
    "    print(\"Thresh=%.3f, n=%d, Accuracy: %.2f%%\" % (thresh, select_X_train_2.shape[1], accuracy*100.0))"
   ]
  },
  {
   "cell_type": "markdown",
   "id": "f0aa386e",
   "metadata": {
    "papermill": {
     "duration": 0.080241,
     "end_time": "2021-11-23T19:58:46.162868",
     "exception": false,
     "start_time": "2021-11-23T19:58:46.082627",
     "status": "completed"
    },
    "tags": []
   },
   "source": [
    "#### Thresh = 0.320 with 1 feature yields best accuracy, but this can result being highly biased towards the majority class, so we stick with n=7"
   ]
  },
  {
   "cell_type": "code",
   "execution_count": 66,
   "id": "6dc6fdcc",
   "metadata": {
    "execution": {
     "iopub.execute_input": "2021-11-23T19:58:46.327846Z",
     "iopub.status.busy": "2021-11-23T19:58:46.325504Z",
     "iopub.status.idle": "2021-11-23T19:58:46.330446Z",
     "shell.execute_reply": "2021-11-23T19:58:46.330864Z",
     "shell.execute_reply.started": "2021-11-23T19:10:43.399533Z"
    },
    "papermill": {
     "duration": 0.088624,
     "end_time": "2021-11-23T19:58:46.331006",
     "exception": false,
     "start_time": "2021-11-23T19:58:46.242382",
     "status": "completed"
    },
    "tags": []
   },
   "outputs": [
    {
     "data": {
      "text/plain": [
       "array([0.08129495, 0.16964746, 0.31953448, 0.309717  , 0.02373662,\n",
       "       0.04941827, 0.04665128], dtype=float32)"
      ]
     },
     "execution_count": 66,
     "metadata": {},
     "output_type": "execute_result"
    }
   ],
   "source": [
    "model_2_cw.feature_importances_"
   ]
  },
  {
   "cell_type": "code",
   "execution_count": 67,
   "id": "960deb3a",
   "metadata": {
    "execution": {
     "iopub.execute_input": "2021-11-23T19:58:46.502080Z",
     "iopub.status.busy": "2021-11-23T19:58:46.500867Z",
     "iopub.status.idle": "2021-11-23T19:58:52.388235Z",
     "shell.execute_reply": "2021-11-23T19:58:52.388825Z"
    },
    "papermill": {
     "duration": 5.974018,
     "end_time": "2021-11-23T19:58:52.388979",
     "exception": false,
     "start_time": "2021-11-23T19:58:46.414961",
     "status": "completed"
    },
    "tags": []
   },
   "outputs": [
    {
     "name": "stderr",
     "output_type": "stream",
     "text": [
      "The use of label encoder in XGBClassifier is deprecated and will be removed in a future release. To remove this warning, do the following: 1) Pass option use_label_encoder=False when constructing XGBClassifier object; and 2) Encode your labels (y) as integers starting with 0, i.e. 0, 1, 2, ..., [num_class - 1].\n"
     ]
    },
    {
     "name": "stdout",
     "output_type": "stream",
     "text": [
      "[19:58:46] WARNING: ../src/learner.cc:1115: Starting in XGBoost 1.3.0, the default evaluation metric used with the objective 'binary:logistic' was changed from 'error' to 'logloss'. Explicitly set eval_metric if you'd like to restore the old behavior.\n"
     ]
    },
    {
     "data": {
      "text/plain": [
       "XGBClassifier(base_score=0.5, booster='gbtree', colsample_bylevel=1,\n",
       "              colsample_bynode=1, colsample_bytree=1, enable_categorical=False,\n",
       "              gamma=0, gpu_id=-1, importance_type=None,\n",
       "              interaction_constraints='', learning_rate=0.300000012,\n",
       "              max_delta_step=0, max_depth=6, min_child_weight=1, missing=nan,\n",
       "              monotone_constraints='()', n_estimators=100, n_jobs=2,\n",
       "              num_parallel_tree=1, predictor='auto', random_state=0,\n",
       "              reg_alpha=0, reg_lambda=1, scale_pos_weight=1, subsample=1,\n",
       "              tree_method='exact', validate_parameters=1, verbosity=None)"
      ]
     },
     "execution_count": 67,
     "metadata": {},
     "output_type": "execute_result"
    }
   ],
   "source": [
    "selection = SelectFromModel(model_2_cw, threshold=thresh, prefit=True)\n",
    "select_X_train_2 = selection.transform(X_train_2)\n",
    "    # train model\n",
    "selection_model = XGBClassifier()\n",
    "selection_model.fit(select_X_train_2, y_train_2, sample_weight=classes_weights)\n",
    "    # eval model"
   ]
  },
  {
   "cell_type": "code",
   "execution_count": null,
   "id": "387f7fc6",
   "metadata": {
    "papermill": {
     "duration": 0.080739,
     "end_time": "2021-11-23T19:58:52.551154",
     "exception": false,
     "start_time": "2021-11-23T19:58:52.470415",
     "status": "completed"
    },
    "tags": []
   },
   "outputs": [],
   "source": []
  },
  {
   "cell_type": "code",
   "execution_count": null,
   "id": "6c3a64ab",
   "metadata": {
    "papermill": {
     "duration": 0.081372,
     "end_time": "2021-11-23T19:58:52.714636",
     "exception": false,
     "start_time": "2021-11-23T19:58:52.633264",
     "status": "completed"
    },
    "tags": []
   },
   "outputs": [],
   "source": []
  },
  {
   "cell_type": "code",
   "execution_count": null,
   "id": "8111b1cc",
   "metadata": {
    "papermill": {
     "duration": 0.082637,
     "end_time": "2021-11-23T19:58:52.880439",
     "exception": false,
     "start_time": "2021-11-23T19:58:52.797802",
     "status": "completed"
    },
    "tags": []
   },
   "outputs": [],
   "source": []
  },
  {
   "cell_type": "code",
   "execution_count": null,
   "id": "c6515b46",
   "metadata": {
    "papermill": {
     "duration": 0.080774,
     "end_time": "2021-11-23T19:58:53.042427",
     "exception": false,
     "start_time": "2021-11-23T19:58:52.961653",
     "status": "completed"
    },
    "tags": []
   },
   "outputs": [],
   "source": []
  },
  {
   "cell_type": "code",
   "execution_count": null,
   "id": "d087ff38",
   "metadata": {
    "papermill": {
     "duration": 0.080885,
     "end_time": "2021-11-23T19:58:53.205780",
     "exception": false,
     "start_time": "2021-11-23T19:58:53.124895",
     "status": "completed"
    },
    "tags": []
   },
   "outputs": [],
   "source": []
  },
  {
   "cell_type": "code",
   "execution_count": null,
   "id": "bdc6d0bb",
   "metadata": {
    "papermill": {
     "duration": 0.080145,
     "end_time": "2021-11-23T19:58:53.366180",
     "exception": false,
     "start_time": "2021-11-23T19:58:53.286035",
     "status": "completed"
    },
    "tags": []
   },
   "outputs": [],
   "source": []
  },
  {
   "cell_type": "markdown",
   "id": "bc2fd9ad",
   "metadata": {
    "papermill": {
     "duration": 0.080087,
     "end_time": "2021-11-23T19:58:53.527547",
     "exception": false,
     "start_time": "2021-11-23T19:58:53.447460",
     "status": "completed"
    },
    "tags": []
   },
   "source": [
    "# Experiment Tracking"
   ]
  },
  {
   "cell_type": "code",
   "execution_count": 68,
   "id": "c1d14c64",
   "metadata": {
    "execution": {
     "iopub.execute_input": "2021-11-23T19:58:53.694771Z",
     "iopub.status.busy": "2021-11-23T19:58:53.693220Z",
     "iopub.status.idle": "2021-11-23T19:58:53.695375Z",
     "shell.execute_reply": "2021-11-23T19:58:53.695797Z"
    },
    "papermill": {
     "duration": 0.088235,
     "end_time": "2021-11-23T19:58:53.695922",
     "exception": false,
     "start_time": "2021-11-23T19:58:53.607687",
     "status": "completed"
    },
    "tags": []
   },
   "outputs": [],
   "source": [
    "# import comet_ml\n",
    "# import os\n",
    "\n",
    "# # Check to see if there is a key in environment:\n",
    "# EXPERIMENT_KEY = os.environ.get(\"COMET_EXPERIMENT_KEY\", None)\n",
    "\n",
    "# # First, let's see if we continue or start fresh:\n",
    "# CONTINUE_RUN = False\n",
    "# if (EXPERIMENT_KEY is not None):\n",
    "#     # There is one, but the experiment might not exist yet:\n",
    "#     api = comet_ml.API() # Assumes API key is set in config/env\n",
    "#     try:\n",
    "#         api_experiment = api.get_experiment_by_id(EXPERIMENT_KEY)\n",
    "#     except Exception:\n",
    "#         api_experiment = None\n",
    "#     if api_experiment is not None:\n",
    "#         CONTINUE_RUN = True\n",
    "#         # We can get the last details logged here, if logged:\n",
    "#         step = int(api_experiment.get_parameters_summary(\"steps\")[\"valueCurrent\"])\n",
    "#         epoch = int(api_experiment.get_parameters_summary(\"epochs\")[\"valueCurrent\"])\n",
    "\n",
    "# if CONTINUE_RUN:\n",
    "#     # 1. Recreate the state of ML system before creating experiment\n",
    "#     # otherwise it could try to log params, graph, etc. again\n",
    "#     # ...\n",
    "#     # 2. Setup the existing experiment to carry on:\n",
    "#     experiment = comet_ml.ExistingExperiment(\n",
    "#         previous_experiment=EXPERIMENT_KEY,\n",
    "#         log_env_details=True, # to continue env logging\n",
    "#         log_env_gpu=True,     # to continue GPU logging\n",
    "#         log_env_cpu=True,     # to continue CPU logging\n",
    "#     )\n",
    "#     # Retrieved from above APIExperiment\n",
    "#     experiment.set_step(step)\n",
    "#     experiment.set_epoch(epoch)\n",
    "\n",
    "# else:\n",
    "#     # 1. Create the experiment first\n",
    "#     #    This will use the COMET_EXPERIMENT_KEY if defined in env.\n",
    "#     #    Otherwise, you could manually set it here. If you don't\n",
    "#     #    set COMET_EXPERIMENT_KEY, the experiment will get a\n",
    "#     #    random key!\n",
    "#     experiment = comet_ml.Experiment()\n",
    "#     # 2. Setup the state of the ML system"
   ]
  }
 ],
 "metadata": {
  "kernelspec": {
   "display_name": "Python 3",
   "language": "python",
   "name": "python3"
  },
  "language_info": {
   "codemirror_mode": {
    "name": "ipython",
    "version": 3
   },
   "file_extension": ".py",
   "mimetype": "text/x-python",
   "name": "python",
   "nbconvert_exporter": "python",
   "pygments_lexer": "ipython3",
   "version": "3.8.8"
  },
  "papermill": {
   "default_parameters": {},
   "duration": 1164.366405,
   "end_time": "2021-11-23T19:58:55.192420",
   "environment_variables": {},
   "exception": null,
   "input_path": "__notebook__.ipynb",
   "output_path": "__notebook__.ipynb",
   "parameters": {},
   "start_time": "2021-11-23T19:39:30.826015",
   "version": "2.3.3"
  }
 },
 "nbformat": 4,
 "nbformat_minor": 5
}
