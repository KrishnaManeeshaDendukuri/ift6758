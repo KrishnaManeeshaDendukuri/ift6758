{
 "cells": [
  {
   "cell_type": "code",
   "execution_count": 1,
   "metadata": {},
   "outputs": [],
   "source": [
    "%load_ext autoreload\n",
    "%autoreload 2"
   ]
  },
  {
   "cell_type": "code",
   "execution_count": 2,
   "metadata": {},
   "outputs": [],
   "source": [
    "import pandas as pd\n",
    "import numpy as np\n",
    "import requests\n",
    "import json\n",
    "import sys\n",
    "import os\n",
    "import pickle\n",
    "import ipywidgets as widgets\n",
    "from IPython.display import display\n",
    "import matplotlib.pyplot as plt"
   ]
  },
  {
   "cell_type": "code",
   "execution_count": 3,
   "metadata": {},
   "outputs": [],
   "source": [
    "sys.path.append('../../docker-project-template-main/ift6758/ift6758/client/')\n",
    "\n",
    "#from game_client import GameClient as game_client\n",
    "from serving_client import ServingClient as serving_client"
   ]
  },
  {
   "cell_type": "code",
   "execution_count": 13,
   "metadata": {},
   "outputs": [],
   "source": [
    "model_names = ['lrd', 'lrda', 'lda', 'xgboost-tuning']\n",
    "workspace_names = ['kleitoun', '']\n",
    "version_list = ['1.0.0','']"
   ]
  },
  {
   "cell_type": "code",
   "execution_count": 5,
   "metadata": {},
   "outputs": [],
   "source": [
    "sc = serving_client()"
   ]
  },
  {
   "cell_type": "code",
   "execution_count": 14,
   "metadata": {},
   "outputs": [
    {
     "data": {
      "application/vnd.jupyter.widget-view+json": {
       "model_id": "fbab060b09944a718f233adf8c1dd939",
       "version_major": 2,
       "version_minor": 0
      },
      "text/plain": [
       "HBox(children=(Dropdown(description='Workspace', options=('kleitoun', ''), value='kleitoun'), Dropdown(descrip…"
      ]
     },
     "metadata": {},
     "output_type": "display_data"
    },
    {
     "data": {
      "application/vnd.jupyter.widget-view+json": {
       "model_id": "9b4634db23ec4bfe95b6fe482b77dd54",
       "version_major": 2,
       "version_minor": 0
      },
      "text/plain": [
       "Button(description='Download Model', style=ButtonStyle())"
      ]
     },
     "metadata": {},
     "output_type": "display_data"
    },
    {
     "data": {
      "application/vnd.jupyter.widget-view+json": {
       "model_id": "3f6f6d373ed04451aca13c7ba9f76237",
       "version_major": 2,
       "version_minor": 0
      },
      "text/plain": [
       "Output()"
      ]
     },
     "metadata": {},
     "output_type": "display_data"
    }
   ],
   "source": [
    "workspace = widgets.Dropdown(\n",
    "    description='Workspace',\n",
    "    value=workspace_names[0],\n",
    "    options=workspace_names\n",
    "\n",
    ")\n",
    "model_name = widgets.Dropdown(\n",
    "    description='Model Name',\n",
    "    value=model_names[0],\n",
    "    options=model_names\n",
    "\n",
    ")\n",
    "version = widgets.Dropdown(\n",
    "    description='Model Version',\n",
    "    value=version_list[0],\n",
    "    options=version_list\n",
    "\n",
    ")\n",
    "#workspace = widgets.Text(description='Workspace')\n",
    "#model_name = widgets.Text(description='Model Name')\n",
    "#version = widgets.Text(description='Model Version')\n",
    "\n",
    "# display(workspace)\n",
    "# display(model_name)\n",
    "# display(version)\n",
    "\n",
    "download_button = widgets.Button(description=\"Download Model\")\n",
    "\n",
    "output = widgets.Output()\n",
    "\n",
    "\n",
    "@output.capture()\n",
    "def on_button_clicked(b):\n",
    "    sc.download_registry_model(workspace = workspace.value, model = model_name.value, version = str(version.value))\n",
    "    with output:\n",
    "        print(\"Downloaded\")\n",
    "    \n",
    "    \n",
    "container2 = widgets.HBox(children=[workspace,model_name,version])\n",
    "display(container2)\n",
    "display(download_button)\n",
    "download_button.on_click(on_button_clicked)\n",
    "display(output)"
   ]
  },
  {
   "cell_type": "code",
   "execution_count": 9,
   "metadata": {},
   "outputs": [
    {
     "data": {
      "text/plain": [
       "'xgboost-tuning'"
      ]
     },
     "execution_count": 9,
     "metadata": {},
     "output_type": "execute_result"
    }
   ],
   "source": [
    "sc.model"
   ]
  },
  {
   "cell_type": "code",
   "execution_count": 10,
   "metadata": {},
   "outputs": [
    {
     "data": {
      "application/vnd.jupyter.widget-view+json": {
       "model_id": "5449ae9760ae4d09adc93c01b2673af2",
       "version_major": 2,
       "version_minor": 0
      },
      "text/plain": [
       "Text(value='', description='Game ID')"
      ]
     },
     "metadata": {},
     "output_type": "display_data"
    },
    {
     "data": {
      "application/vnd.jupyter.widget-view+json": {
       "model_id": "e7505513956a42aaa0b6b6c8689baf41",
       "version_major": 2,
       "version_minor": 0
      },
      "text/plain": [
       "Button(description='Ping Game', style=ButtonStyle())"
      ]
     },
     "metadata": {},
     "output_type": "display_data"
    },
    {
     "data": {
      "application/vnd.jupyter.widget-view+json": {
       "model_id": "d87553c2d8b34c75838ca06f19b4645c",
       "version_major": 2,
       "version_minor": 0
      },
      "text/plain": [
       "Output()"
      ]
     },
     "metadata": {},
     "output_type": "display_data"
    }
   ],
   "source": [
    "game_id = widgets.Text(description='Game ID')\n",
    "display(game_id)\n",
    "button = widgets.Button(description=\"Ping Game\")\n",
    "display(button)\n",
    "\n",
    "output = widgets.Output()\n",
    "\n",
    "@output.capture()\n",
    "def on_button_clicked(b):\n",
    "    gc = game_client(game_id = game_id.value)\n",
    "    gc.get_game()\n",
    "    model_df, idx, current_status_df = gc.ping_game(sc.model)\n",
    "    print(\"*********\")\n",
    "    print(model_df.columns)\n",
    "    preds = sc.predict(model_df)\n",
    "    preds = [pred[1] for pred in preds]\n",
    "    # dashboard = pd.DataFrame({\"goal_ind\":y_P, \"preds_proba_nn\": nn_predicted_probs_P[:,1], \"xG\": preds[:,1] })\n",
    "    remaining_time = current_status_df.remaining_time.values[-1]\n",
    "    period = current_status_df.current_period.values[-1]\n",
    "    \n",
    "    current_status_df[\"predictions\"] = preds\n",
    "    current_status_df[\"xG\"] = current_status_df[\"predictions\"].apply(lambda x: 1 if(x>0.50) else 0)\n",
    "\n",
    "    \n",
    "    home_team = gc.home_team\n",
    "    away_team = gc.away_team\n",
    "    # df.groupby(['Name', 'Fruit'])['Number'].agg('sum')\n",
    "    grouped_df = current_status_df.groupby(\"shot_by_team\")[\"xG\"].agg(\"sum\")\n",
    "    dashboard_dict = {f\"Period: {period}\": [\"Home Team\",home_team, grouped_df[\"Home\"]], f\"Time Remaining: {remaining_time}\": [\"Away Team\",away_team, grouped_df[\"Away\"]]}\n",
    "    dashboard_df = pd.DataFrame(dashboard_dict)\n",
    "    with output:\n",
    "\n",
    "        #define figure and axes\n",
    "        fig, ax = plt.subplots()\n",
    "\n",
    "        #hide the axes\n",
    "        fig.patch.set_visible(False)\n",
    "        ax.axis('off')\n",
    "        ax.axis('tight')\n",
    "\n",
    "        #create table\n",
    "        table = ax.table(cellText=dashboard_df.values, colLabels=dashboard_df.columns, loc='center')\n",
    "\n",
    "        #display table\n",
    "        fig.tight_layout()\n",
    "        plt.show()\n",
    "\n",
    "\n",
    "\n",
    "    \n",
    "\n",
    "button.on_click(on_button_clicked)\n",
    "display(output)"
   ]
  },
  {
   "cell_type": "code",
   "execution_count": null,
   "metadata": {},
   "outputs": [],
   "source": [
    "import matplotlib.pyplot as plt\n",
    "import pandas as pd\n",
    "\n",
    "d = {'x{}'.format(i): range(1) for i in range(2)}\n",
    "\n",
    "table = pd.DataFrame(d, )\n",
    "\n",
    "plt.figure()\n",
    "\n",
    "# table\n",
    "plt.subplot(121)\n",
    "\n",
    "cell_text = []\n",
    "period = 1\n",
    "time = 2\n",
    "cell_text.append([\"Period: {period}\", \"Time Left: {time}\"])\n",
    "for row in range(len(table)):\n",
    "    cell_text.append(table.iloc[row])\n",
    "\n",
    "plt.table(cellText=cell_text, colLabels=table.columns, loc='center')\n",
    "plt.axis('off')\n",
    "\n",
    "# plot\n",
    "plt.subplot(222)\n",
    "plt.plot(table['Away Team'],table['Home Team'])\n",
    "\n",
    "# plot\n",
    "plt.subplot(224)\n",
    "plt.plot(table['Away Team'],table['Home Team'])\n",
    "\n",
    "plt.show()"
   ]
  },
  {
   "cell_type": "code",
   "execution_count": null,
   "metadata": {},
   "outputs": [],
   "source": []
  },
  {
   "cell_type": "code",
   "execution_count": null,
   "metadata": {},
   "outputs": [],
   "source": [
    "from IPython.display import display\n",
    "button = widgets.Button(description=\"Click Me!\")\n",
    "output = widgets.Output()\n",
    "\n",
    "display(button, output)\n",
    "\n",
    "def on_button_clicked(b):\n",
    "    with output:\n",
    "        print(\"Button clicked.\")\n",
    "\n",
    "button.on_click(on_button_clicked)"
   ]
  },
  {
   "cell_type": "code",
   "execution_count": null,
   "metadata": {},
   "outputs": [],
   "source": []
  }
 ],
 "metadata": {
  "interpreter": {
   "hash": "aee8b7b246df8f9039afb4144a1f6fd8d2ca17a180786b69acc140d282b71a49"
  },
  "kernelspec": {
   "display_name": "Python 3",
   "language": "python",
   "name": "python3"
  },
  "language_info": {
   "codemirror_mode": {
    "name": "ipython",
    "version": 3
   },
   "file_extension": ".py",
   "mimetype": "text/x-python",
   "name": "python",
   "nbconvert_exporter": "python",
   "pygments_lexer": "ipython3",
   "version": "3.8.8"
  }
 },
 "nbformat": 4,
 "nbformat_minor": 2
}
