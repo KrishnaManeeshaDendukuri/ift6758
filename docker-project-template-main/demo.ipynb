{
 "cells": [
  {
   "cell_type": "code",
   "execution_count": 245,
   "source": [
    "%load_ext autoreload\n",
    "%autoreload 2"
   ],
   "outputs": [
    {
     "output_type": "stream",
     "name": "stdout",
     "text": [
      "The autoreload extension is already loaded. To reload it, use:\n",
      "  %reload_ext autoreload\n"
     ]
    }
   ],
   "metadata": {}
  },
  {
   "cell_type": "code",
   "execution_count": 6,
   "source": [
    "import pandas as pd\n",
    "import numpy as np\n",
    "import requests\n",
    "import json\n",
    "import sys\n",
    "import os\n",
    "import pickle\n",
    "import ipywidgets as widgets\n",
    "from IPython.display import display\n",
    "import matplotlib.pyplot as plt"
   ],
   "outputs": [],
   "metadata": {}
  },
  {
   "cell_type": "code",
   "execution_count": 7,
   "source": [
    "sys.path.append('/ift6758/ift6758/client/')\n",
    "\n",
    "from game_client import GameClient as game_client\n",
    "from serving_client import ServingClient as serving_client"
   ],
   "outputs": [],
   "metadata": {}
  },
  {
   "cell_type": "code",
   "execution_count": 8,
   "source": [
    "model_names = ['lrd', 'lrda', 'lda', 'xgboost-tuning']\n",
    "workspace_names = ['kleitoun', '']\n",
    "version_list = ['1.0.0','']"
   ],
   "outputs": [],
   "metadata": {}
  },
  {
   "cell_type": "code",
   "execution_count": 15,
   "source": [
    "sc = serving_client(ip = \"serving\", port = \"5000\")"
   ],
   "outputs": [],
   "metadata": {}
  },
  {
   "cell_type": "code",
   "execution_count": 252,
   "source": [
    "sc.model_filename"
   ],
   "outputs": [
    {
     "output_type": "execute_result",
     "data": {
      "text/plain": [
       "'kleitoun_lrda_1.0.0'"
      ]
     },
     "metadata": {},
     "execution_count": 252
    }
   ],
   "metadata": {}
  },
  {
   "cell_type": "code",
   "execution_count": 257,
   "source": [
    "########################################################## DOWNLOAD MODEL FUNCTIONALITY ######################################\n",
    "\n",
    "workspace = widgets.Dropdown(\n",
    "    description='Workspace',\n",
    "    value=workspace_names[0],\n",
    "    options=workspace_names\n",
    "\n",
    ")\n",
    "model_name = widgets.Dropdown(\n",
    "    description='Model Name',\n",
    "    value=model_names[0],\n",
    "    options=model_names\n",
    "\n",
    ")\n",
    "version = widgets.Dropdown(\n",
    "    description='Model Version',\n",
    "    value=version_list[0],\n",
    "    options=version_list\n",
    "\n",
    ")\n",
    "#workspace = widgets.Text(description='Workspace')\n",
    "#model_name = widgets.Text(description='Model Name')\n",
    "#version = widgets.Text(description='Model Version')\n",
    "\n",
    "# display(workspace)\n",
    "# display(model_name)\n",
    "# display(version)\n",
    "\n",
    "download_button = widgets.Button(description=\"Download Model\")\n",
    "\n",
    "output = widgets.Output()\n",
    "\n",
    "\n",
    "@output.capture()\n",
    "def on_button_clicked(b):\n",
    "    sc.download_registry_model(workspace = workspace.value, model = model_name.value, version = str(version.value))\n",
    "    with output:\n",
    "        print(\"Downloaded\")\n",
    "    \n",
    "    \n",
    "container2 = widgets.HBox(children=[workspace,model_name,version])\n",
    "display(container2)\n",
    "display(download_button)\n",
    "download_button.on_click(on_button_clicked)\n",
    "display(output)\n",
    "\n",
    "########################################################## PING GAME FUNCTIONALITY ######################################\n",
    "\n",
    "\n",
    "game_id_input = widgets.Text(description='Game ID')\n",
    "display(game_id_input)\n",
    "button = widgets.Button(description=\"Ping Game\")\n",
    "display(button)\n",
    "\n",
    "\n",
    "\n",
    "output = widgets.Output()\n",
    "\n",
    "@output.capture()\n",
    "def on_button_clicked(b):\n",
    "    gc = game_client(game_id = game_id.value)\n",
    "    gc.get_game()\n",
    "    model_df, idx, current_status_df = gc.ping_game(sc.model)\n",
    "    print(\"*********\")\n",
    "    print(model_df.columns)\n",
    "    preds = sc.predict(model_df)\n",
    "    preds = [pred for pred in preds]\n",
    "    # dashboard = pd.DataFrame({\"goal_ind\":y_P, \"preds_proba_nn\": nn_predicted_probs_P[:,1], \"xG\": preds[:,1] })\n",
    "    remaining_time = current_status_df.remaining_time.values[-1]\n",
    "    period = current_status_df.current_period.values[-1]\n",
    "    \n",
    "    current_status_df[\"predictions\"] = preds\n",
    "    current_status_df[\"xG\"] = current_status_df[\"predictions\"].apply(lambda x: 1 if(x>0.50) else 0)\n",
    "\n",
    "    \n",
    "    home_team = gc.home_team\n",
    "    away_team = gc.away_team\n",
    "    # df.groupby(['Name', 'Fruit'])['Number'].agg('sum')\n",
    "    grouped_df = current_status_df.groupby(\"shot_by_team\")[\"xG\"].agg(\"sum\")\n",
    "    dashboard_dict = {f\"Period: {period}\": [\"Home Team\",home_team, grouped_df[\"Home\"]], f\"Time Remaining: {remaining_time}\": [\"Away Team\",away_team, grouped_df[\"Away\"]]}\n",
    "    dashboard_df = pd.DataFrame(dashboard_dict)\n",
    "    with output:\n",
    "        print(idx)\n",
    "        print(current_status_df.shape)\n",
    "        print(model_df.shape)\n",
    "        #define figure and axes\n",
    "        fig, ax = plt.subplots()\n",
    "\n",
    "        #hide the axes\n",
    "        fig.patch.set_visible(False)\n",
    "        ax.axis('off')\n",
    "        ax.axis('tight')\n",
    "\n",
    "        #create table\n",
    "        table = ax.table(cellText=dashboard_df.values, colLabels=dashboard_df.columns, loc='center')\n",
    "\n",
    "        #display table\n",
    "        fig.tight_layout()\n",
    "        plt.show()\n",
    "\n",
    "\n",
    "\n",
    "    \n",
    "\n",
    "button.on_click(on_button_clicked)\n",
    "display(output)"
   ],
   "outputs": [
    {
     "output_type": "display_data",
     "data": {
      "application/vnd.jupyter.widget-view+json": {
       "version_major": 2,
       "version_minor": 0,
       "model_id": "635f010a8b8a4ab9a1323c44a8c76847"
      },
      "text/plain": [
       "Text(value='', description='Game ID')"
      ]
     },
     "metadata": {}
    },
    {
     "output_type": "display_data",
     "data": {
      "application/vnd.jupyter.widget-view+json": {
       "version_major": 2,
       "version_minor": 0,
       "model_id": "d3723cc04cd84917a9081962bb19f9b5"
      },
      "text/plain": [
       "Button(description='Ping Game', style=ButtonStyle())"
      ]
     },
     "metadata": {}
    },
    {
     "output_type": "display_data",
     "data": {
      "application/vnd.jupyter.widget-view+json": {
       "version_major": 2,
       "version_minor": 0,
       "model_id": "da966b92f7d941c79a393051591e39af"
      },
      "text/plain": [
       "Output()"
      ]
     },
     "metadata": {}
    }
   ],
   "metadata": {}
  },
  {
   "cell_type": "code",
   "execution_count": null,
   "source": [],
   "outputs": [],
   "metadata": {}
  }
 ],
 "metadata": {
  "orig_nbformat": 4,
  "language_info": {
   "name": "python",
   "version": "3.9.7",
   "mimetype": "text/x-python",
   "codemirror_mode": {
    "name": "ipython",
    "version": 3
   },
   "pygments_lexer": "ipython3",
   "nbconvert_exporter": "python",
   "file_extension": ".py"
  },
  "kernelspec": {
   "name": "python3",
   "display_name": "Python 3.9.7 64-bit"
  },
  "interpreter": {
   "hash": "aee8b7b246df8f9039afb4144a1f6fd8d2ca17a180786b69acc140d282b71a49"
  }
 },
 "nbformat": 4,
 "nbformat_minor": 2
}